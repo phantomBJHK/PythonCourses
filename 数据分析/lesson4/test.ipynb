{
 "cells": [
  {
   "cell_type": "code",
   "execution_count": 13,
   "metadata": {},
   "outputs": [
    {
     "ename": "AttributeError",
     "evalue": "'str' object has no attribute 'decode'",
     "output_type": "error",
     "traceback": [
      "\u001b[1;31m---------------------------------------------------------------------------\u001b[0m",
      "\u001b[1;31mAttributeError\u001b[0m                            Traceback (most recent call last)",
      "\u001b[1;32m<ipython-input-13-99c447a4bea0>\u001b[0m in \u001b[0;36m<module>\u001b[1;34m\u001b[0m\n\u001b[0;32m     22\u001b[0m \u001b[1;33m\u001b[0m\u001b[0m\n\u001b[0;32m     23\u001b[0m \u001b[0mr\u001b[0m \u001b[1;33m=\u001b[0m \u001b[0mrequests\u001b[0m\u001b[1;33m.\u001b[0m\u001b[0mget\u001b[0m\u001b[1;33m(\u001b[0m\u001b[0murl\u001b[0m\u001b[1;33m=\u001b[0m\u001b[0ms_url\u001b[0m\u001b[1;33m,\u001b[0m \u001b[0mparams\u001b[0m\u001b[1;33m=\u001b[0m\u001b[0mparam\u001b[0m\u001b[1;33m,\u001b[0m \u001b[0mheaders\u001b[0m\u001b[1;33m=\u001b[0m\u001b[0mheaders\u001b[0m\u001b[1;33m)\u001b[0m\u001b[1;33m\u001b[0m\u001b[1;33m\u001b[0m\u001b[0m\n\u001b[1;32m---> 24\u001b[1;33m \u001b[0mtext\u001b[0m \u001b[1;33m=\u001b[0m \u001b[0mr\u001b[0m\u001b[1;33m.\u001b[0m\u001b[0mtext\u001b[0m\u001b[1;33m.\u001b[0m\u001b[0mdecode\u001b[0m\u001b[1;33m(\u001b[0m\u001b[1;34m'utf-8'\u001b[0m\u001b[1;33m)\u001b[0m\u001b[1;33m\u001b[0m\u001b[1;33m\u001b[0m\u001b[0m\n\u001b[0m\u001b[0;32m     25\u001b[0m \u001b[0mprint\u001b[0m\u001b[1;33m(\u001b[0m\u001b[0mtext\u001b[0m\u001b[1;33m)\u001b[0m\u001b[1;33m\u001b[0m\u001b[1;33m\u001b[0m\u001b[0m\n\u001b[0;32m     26\u001b[0m \u001b[1;31m# json_r = json.loads(text)\u001b[0m\u001b[1;33m\u001b[0m\u001b[1;33m\u001b[0m\u001b[1;33m\u001b[0m\u001b[0m\n",
      "\u001b[1;31mAttributeError\u001b[0m: 'str' object has no attribute 'decode'"
     ]
    }
   ],
   "source": [
    "import json\n",
    "import requests\n",
    "s_url = 'https://api.m.jd.com/api'\n",
    "headers = {\n",
    "    'accept': 'application/json, text/plain, */*',\n",
    "    'accept-encoding': 'gzip, deflate, br',\n",
    "    'accept-language': 'zh-CN,zh;q=0.9',\n",
    "    'cookie': 'shshshfpa=cfad0fa0-a751-bda4-e08e-5d45a5b0e93b-1583591495; shshshfpb=kDwkcC0KsWbLvfU6sNy6A3w%3D%3D; __jdu=1583591492195254765739; __jdv=122270672|direct|-|none|-|1590758079925; areaId=5; ipLoc-djd=5-274-286-0; shshshfp=5f1634c6b95ef9ad52ab28fae5820a45; __jda=122270672.1583591492195254765739.1583591492.1591675864.1591679919.22; __jdc=122270672; shshshsID=49376c77383a238ae2d92a3674f1818d_6_1591682740890; 3AB9D23F7A4B3C9B=NNKBTKUEG5LJ6GYL37D7U5EJQGECP5D2H44MNDNDQG5OR7EZ7PFKD6TNBWYQTEZ2OOV5QFBE5JPKJ6GEH3YGRK7ODY; __jdb=122270672.22.1583591492195254765739|22.1591679919',\n",
    "    'origin': 'https://miaosha.jd.com',\n",
    "    'referer': 'https://miaosha.jd.com/specialprice.html',\n",
    "    'sec-fetch-dest': 'empty',\n",
    "    'sec-fetch-mode': 'cors',\n",
    "    'sec-fetch-site': 'same-site',\n",
    "    'user-agent': 'Mozilla/5.0 (Macintosh; Intel Mac OS X 10_15_4) AppleWebKit/537.36 (KHTML, like Gecko) Chrome/81.0.4044.138 Safari/537.36'\n",
    "}\n",
    "param = {\n",
    "    'appid': 'o2_channels',\n",
    "    'client': 'pc',\n",
    "    'functionId': 'pcParitySeckillGoods',\n",
    "    'body': '{\"categoryId\":2,\"tabId\":0}',\n",
    "}\n",
    "\n",
    "r = requests.get(url=s_url, params=param, headers=headers)\n",
    "text = r.text.decode('utf-8')\n",
    "print(text)\n",
    "# json_r = json.loads(text)"
   ]
  },
  {
   "cell_type": "code",
   "execution_count": null,
   "metadata": {},
   "outputs": [],
   "source": [
    "    \n",
    "    # print(json_r)\n",
    "    for i in json_r:\n",
    "        list_cp = json_r['floorList']['goodsInfo']\n",
    "        # print(list_cp)\n",
    "        for j in list_cp:\n",
    "            print(i, j['wname'], j['jdPrice'], 'https://item.jd.com/'+j['wareId'])\n",
    "else:\n",
    "    print('爬取失败')"
   ]
  },
  {
   "cell_type": "code",
   "execution_count": null,
   "metadata": {},
   "outputs": [],
   "source": []
  }
 ],
 "metadata": {
  "kernelspec": {
   "display_name": "Python 3",
   "language": "python",
   "name": "python3"
  },
  "language_info": {
   "codemirror_mode": {
    "name": "ipython",
    "version": 3
   },
   "file_extension": ".py",
   "mimetype": "text/x-python",
   "name": "python",
   "nbconvert_exporter": "python",
   "pygments_lexer": "ipython3",
   "version": "3.7.7"
  }
 },
 "nbformat": 4,
 "nbformat_minor": 2
}
