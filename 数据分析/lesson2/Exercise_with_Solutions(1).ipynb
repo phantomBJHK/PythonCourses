{
 "cells": [
  {
   "cell_type": "markdown",
   "metadata": {},
   "source": [
    "## 下面是给出的一组电影和电影票房信息：\n",
    "\n",
    "\n",
    "\n",
    "|      |       电影名        |   票房   |\n",
    "| :--: | :---------------: | :------: |\n",
    "|  1   | 雷神3：诸神黄昏 | 73853 |\n",
    "|  2   | 正义联盟 | 57767 |\n",
    "|  3   | 东方快车谋杀案 | 22354 |\n",
    "|  4   | 寻梦环游记 |  15969 |\n",
    "|  4   | 全球风暴  |  14839 |\n",
    "|  4   | 降魔传 | 8725 |   \n",
    "|  4   | 追捕 | 8716 |   \n",
    "|  4   | 七十七天 |   8318 |   \n",
    "|  4   | 密战 |   7916 |   \n",
    "|  4   | 狂兽 |   6764 |   \n",
    "|  4   | 其它|   52222 |  \n",
    "\n",
    "\n",
    "\n",
    "\n",
    "\n",
    "1.使用给出的电影数据分别创建一个Series和DataFrame数据，其中Series需使用电影票房信息(y)作为行索引，DataFrame使用默认的index作为行索引\n",
    "\n",
    "2.用三中方法遍历获取所有电影的票房信息。\n",
    "\n",
    "3.获取最高票房信息。"
   ]
  },
  {
   "cell_type": "markdown",
   "metadata": {},
   "source": [
    "# 1.首先将表格的数据提取出来"
   ]
  },
  {
   "cell_type": "code",
   "execution_count": 6,
   "metadata": {},
   "outputs": [],
   "source": [
    "move_list = ['雷神3：诸神黄昏','正义联盟','东方快车谋杀案','寻梦环游记','全球风暴', '降魔传','追捕','七十七天','密战','狂兽','其它']\n",
    "y = [73853,57767,22354,15969,14839,8725,8716,8318,7916,6764,52222]"
   ]
  },
  {
   "cell_type": "markdown",
   "metadata": {},
   "source": [
    "# 2.导入必要的库"
   ]
  },
  {
   "cell_type": "code",
   "execution_count": null,
   "metadata": {},
   "outputs": [],
   "source": [
    "from pandas import Series"
   ]
  },
  {
   "cell_type": "markdown",
   "metadata": {},
   "source": [
    "# 3.根据给出的数据创建一个Series数据"
   ]
  },
  {
   "cell_type": "code",
   "execution_count": 5,
   "metadata": {},
   "outputs": [
    {
     "data": {
      "text/plain": [
       "73853    雷神3：诸神黄昏\n",
       "57767        正义联盟\n",
       "22354     东方快车谋杀案\n",
       "15969       寻梦环游记\n",
       "14839        全球风暴\n",
       "8725          降魔传\n",
       "8716           追捕\n",
       "8318         七十七天\n",
       "7916           密战\n",
       "6764           狂兽\n",
       "52222          其它\n",
       "dtype: object"
      ]
     },
     "execution_count": 5,
     "metadata": {},
     "output_type": "execute_result"
    }
   ],
   "source": [
    "from pandas import Series\n",
    "ser = Series(data=move_list,index=y)\n",
    "ser"
   ]
  },
  {
   "cell_type": "markdown",
   "metadata": {},
   "source": [
    "# 4.根据给出的数据创建一个DataFrame数据"
   ]
  },
  {
   "cell_type": "code",
   "execution_count": 8,
   "metadata": {},
   "outputs": [],
   "source": [
    "# 首先构造data数据\n",
    "move_list = ['雷神3：诸神黄昏','正义联盟','东方快车谋杀案','寻梦环游记','全球风暴', '降魔传','追捕','七十七天','密战','狂兽','其它']\n",
    "y = [73853,57767,22354,15969,14839,8725,8716,8318,7916,6764,52222]\n",
    "dic = {\n",
    "    \"movie_name\":Series(data=move_list),\n",
    "    \"movie_data\":Series(data=y)\n",
    "}"
   ]
  },
  {
   "cell_type": "code",
   "execution_count": 9,
   "metadata": {},
   "outputs": [
    {
     "data": {
      "text/html": [
       "<div>\n",
       "<style scoped>\n",
       "    .dataframe tbody tr th:only-of-type {\n",
       "        vertical-align: middle;\n",
       "    }\n",
       "\n",
       "    .dataframe tbody tr th {\n",
       "        vertical-align: top;\n",
       "    }\n",
       "\n",
       "    .dataframe thead th {\n",
       "        text-align: right;\n",
       "    }\n",
       "</style>\n",
       "<table border=\"1\" class=\"dataframe\">\n",
       "  <thead>\n",
       "    <tr style=\"text-align: right;\">\n",
       "      <th></th>\n",
       "      <th>movie_name</th>\n",
       "      <th>movie_data</th>\n",
       "    </tr>\n",
       "  </thead>\n",
       "  <tbody>\n",
       "    <tr>\n",
       "      <th>0</th>\n",
       "      <td>雷神3：诸神黄昏</td>\n",
       "      <td>73853</td>\n",
       "    </tr>\n",
       "    <tr>\n",
       "      <th>1</th>\n",
       "      <td>正义联盟</td>\n",
       "      <td>57767</td>\n",
       "    </tr>\n",
       "    <tr>\n",
       "      <th>2</th>\n",
       "      <td>东方快车谋杀案</td>\n",
       "      <td>22354</td>\n",
       "    </tr>\n",
       "    <tr>\n",
       "      <th>3</th>\n",
       "      <td>寻梦环游记</td>\n",
       "      <td>15969</td>\n",
       "    </tr>\n",
       "    <tr>\n",
       "      <th>4</th>\n",
       "      <td>全球风暴</td>\n",
       "      <td>14839</td>\n",
       "    </tr>\n",
       "    <tr>\n",
       "      <th>5</th>\n",
       "      <td>降魔传</td>\n",
       "      <td>8725</td>\n",
       "    </tr>\n",
       "    <tr>\n",
       "      <th>6</th>\n",
       "      <td>追捕</td>\n",
       "      <td>8716</td>\n",
       "    </tr>\n",
       "    <tr>\n",
       "      <th>7</th>\n",
       "      <td>七十七天</td>\n",
       "      <td>8318</td>\n",
       "    </tr>\n",
       "    <tr>\n",
       "      <th>8</th>\n",
       "      <td>密战</td>\n",
       "      <td>7916</td>\n",
       "    </tr>\n",
       "    <tr>\n",
       "      <th>9</th>\n",
       "      <td>狂兽</td>\n",
       "      <td>6764</td>\n",
       "    </tr>\n",
       "    <tr>\n",
       "      <th>10</th>\n",
       "      <td>其它</td>\n",
       "      <td>52222</td>\n",
       "    </tr>\n",
       "  </tbody>\n",
       "</table>\n",
       "</div>"
      ],
      "text/plain": [
       "   movie_name  movie_data\n",
       "0    雷神3：诸神黄昏       73853\n",
       "1        正义联盟       57767\n",
       "2     东方快车谋杀案       22354\n",
       "3       寻梦环游记       15969\n",
       "4        全球风暴       14839\n",
       "5         降魔传        8725\n",
       "6          追捕        8716\n",
       "7        七十七天        8318\n",
       "8          密战        7916\n",
       "9          狂兽        6764\n",
       "10         其它       52222"
      ]
     },
     "execution_count": 9,
     "metadata": {},
     "output_type": "execute_result"
    }
   ],
   "source": [
    "from pandas import Series,DataFrame\n",
    "dic = {\n",
    "    \"movie_name\":Series(data=move_list),\n",
    "    \"movie_data\":Series(data=y)\n",
    "}\n",
    "df = DataFrame(data=dic)\n",
    "df"
   ]
  },
  {
   "cell_type": "markdown",
   "metadata": {},
   "source": [
    "# 方法一：遍历票房列movie_data"
   ]
  },
  {
   "cell_type": "code",
   "execution_count": 11,
   "metadata": {},
   "outputs": [
    {
     "name": "stdout",
     "output_type": "stream",
     "text": [
      "73853\n",
      "57767\n",
      "22354\n",
      "15969\n",
      "14839\n",
      "8725\n",
      "8716\n",
      "8318\n",
      "7916\n",
      "6764\n",
      "52222\n"
     ]
    }
   ],
   "source": [
    "for value in df['movie_data']:\n",
    "    print(value)"
   ]
  },
  {
   "cell_type": "markdown",
   "metadata": {},
   "source": [
    "# 方法二：使用iterrows()遍历一"
   ]
  },
  {
   "cell_type": "code",
   "execution_count": 14,
   "metadata": {},
   "outputs": [
    {
     "name": "stdout",
     "output_type": "stream",
     "text": [
      "73853\n",
      "57767\n",
      "22354\n",
      "15969\n",
      "14839\n",
      "8725\n",
      "8716\n",
      "8318\n",
      "7916\n",
      "6764\n",
      "52222\n"
     ]
    }
   ],
   "source": [
    "for col,col_data in df.iterrows():\n",
    "    print(col_data['movie_data'])"
   ]
  },
  {
   "cell_type": "markdown",
   "metadata": {},
   "source": [
    "# 方法二：使用iterrows()遍历二"
   ]
  },
  {
   "cell_type": "code",
   "execution_count": 15,
   "metadata": {},
   "outputs": [
    {
     "name": "stdout",
     "output_type": "stream",
     "text": [
      "0     73853\n",
      "1     57767\n",
      "2     22354\n",
      "3     15969\n",
      "4     14839\n",
      "5      8725\n",
      "6      8716\n",
      "7      8318\n",
      "8      7916\n",
      "9      6764\n",
      "10    52222\n",
      "Name: movie_data, dtype: int64\n"
     ]
    }
   ],
   "source": [
    "for col,col_data in df.iteritems():\n",
    "    if col == \"movie_data\":\n",
    "        print(col_data)"
   ]
  },
  {
   "cell_type": "markdown",
   "metadata": {},
   "source": [
    "# 获取最高票房信息"
   ]
  },
  {
   "cell_type": "code",
   "execution_count": 18,
   "metadata": {},
   "outputs": [
    {
     "name": "stdout",
     "output_type": "stream",
     "text": [
      "6764\n"
     ]
    }
   ],
   "source": [
    "for col,col_data in df.iteritems():\n",
    "    if col == \"movie_data\":\n",
    "        # sorted()排序取值\n",
    "        max_salary = sorted(col_data)[0]\n",
    "        print(max_salary)"
   ]
  }
 ],
 "metadata": {
  "kernelspec": {
   "display_name": "Python 3",
   "language": "python",
   "name": "python3"
  },
  "language_info": {
   "codemirror_mode": {
    "name": "ipython",
    "version": 3
   },
   "file_extension": ".py",
   "mimetype": "text/x-python",
   "name": "python",
   "nbconvert_exporter": "python",
   "pygments_lexer": "ipython3",
   "version": "3.7.3"
  }
 },
 "nbformat": 4,
 "nbformat_minor": 2
}
