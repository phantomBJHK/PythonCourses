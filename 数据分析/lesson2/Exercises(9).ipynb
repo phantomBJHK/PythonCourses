{
 "cells": [
  {
   "cell_type": "markdown",
   "metadata": {},
   "source": [
    "## 下面是给出的一组电影和电影票房信息：\n",
    "\n",
    "\n",
    "\n",
    "|      |       电影名        |   票房   |\n",
    "| :--: | :---------------: | :------: |\n",
    "|  1   | 雷神3：诸神黄昏 | 73853 |\n",
    "|  2   | 正义联盟 | 57767 |\n",
    "|  3   | 东方快车谋杀案 | 22354 |\n",
    "|  4   | 寻梦环游记 |  15969 |\n",
    "|  4   | 全球风暴  |  14839 |\n",
    "|  4   | 降魔传 | 8725 |   \n",
    "|  4   | 追捕 | 8716 |   \n",
    "|  4   | 七十七天 |   8318 |   \n",
    "|  4   | 密战 |   7916 |   \n",
    "|  4   | 狂兽 |   6764 |   \n",
    "|  4   | 其它|   52222 |  \n",
    "\n",
    "\n",
    "\n",
    "\n",
    "\n",
    "1.使用给出的电影数据分别创建一个Series和DataFrame数据，其中Series需使用电影票房信息(y)作为行索引，DataFrame使用默认的index作为行索引\n",
    "\n",
    "2.用三中方法遍历获取所有电影的票房信息。\n",
    "\n",
    "3.获取最高票房信息。"
   ]
  },
  {
   "cell_type": "markdown",
   "metadata": {},
   "source": [
    "# 1.首先将表格的数据提取出来"
   ]
  },
  {
   "cell_type": "code",
   "execution_count": 1,
   "metadata": {},
   "outputs": [],
   "source": [
    "movie_list = ['雷神3：诸神黄昏','正义联盟','东方快车谋杀案','寻梦环游记','全球风暴','降魔传','追捕','七十七天','密战','狂兽','其它']\n",
    "sales = [73853, 57767, 22354, 15969, 14839, 8725, 8716, 8318, 7916, 6764, 52222]"
   ]
  },
  {
   "cell_type": "markdown",
   "metadata": {},
   "source": [
    "# 2.导入必要的库"
   ]
  },
  {
   "cell_type": "code",
   "execution_count": 2,
   "metadata": {},
   "outputs": [],
   "source": [
    "import pandas as pd"
   ]
  },
  {
   "cell_type": "markdown",
   "metadata": {},
   "source": [
    "# 3.根据给出的数据创建一个Series数据"
   ]
  },
  {
   "cell_type": "code",
   "execution_count": 5,
   "metadata": {
    "tags": []
   },
   "outputs": [
    {
     "output_type": "stream",
     "name": "stdout",
     "text": "雷神3：诸神黄昏    73853\n正义联盟        57767\n东方快车谋杀案     22354\n寻梦环游记       15969\n全球风暴        14839\n降魔传          8725\n追捕           8716\n七十七天         8318\n密战           7916\n狂兽           6764\n其它          52222\ndtype: int64\n"
    }
   ],
   "source": [
    "ser = pd.Series(data = sales, index = movie_list)\n",
    "# print(ser)"
   ]
  },
  {
   "cell_type": "markdown",
   "metadata": {},
   "source": [
    "# 4.根据给出的数据创建一个DataFrame数据"
   ]
  },
  {
   "cell_type": "code",
   "execution_count": 9,
   "metadata": {
    "tags": []
   },
   "outputs": [
    {
     "output_type": "stream",
     "name": "stdout",
     "text": "movie_name  movie_data\n0    雷神3：诸神黄昏       73853\n1        正义联盟       57767\n2     东方快车谋杀案       22354\n3       寻梦环游记       15969\n4        全球风暴       14839\n5         降魔传        8725\n6          追捕        8716\n7        七十七天        8318\n8          密战        7916\n9          狂兽        6764\n10         其它       52222\n"
    }
   ],
   "source": [
    "dic = {\n",
    "'movie_name': pd.Series(movie_list),\n",
    "'movie_data': pd.Series(sales)}\n",
    "df = pd.DataFrame(data = dic)\n",
    "print(df)"
   ]
  },
  {
   "cell_type": "markdown",
   "metadata": {},
   "source": [
    "# 方法一：遍历票房列movie_data"
   ]
  },
  {
   "cell_type": "code",
   "execution_count": 11,
   "metadata": {
    "tags": []
   },
   "outputs": [
    {
     "output_type": "stream",
     "name": "stdout",
     "text": "73853\n57767\n22354\n15969\n14839\n8725\n8716\n8318\n7916\n6764\n52222\n"
    }
   ],
   "source": [
    "for sale in df['movie_data']:\n",
    "    print(sale)"
   ]
  },
  {
   "cell_type": "markdown",
   "metadata": {},
   "source": [
    "# 方法二：使用iterrows()遍历"
   ]
  },
  {
   "cell_type": "code",
   "execution_count": 19,
   "metadata": {
    "tags": []
   },
   "outputs": [
    {
     "output_type": "stream",
     "name": "stdout",
     "text": "73853\n57767\n22354\n15969\n14839\n8725\n8716\n8318\n7916\n6764\n52222\n"
    }
   ],
   "source": [
    "for col, col_data in df.iterrows():\n",
    "    print(col_data['movie_data'])"
   ]
  },
  {
   "cell_type": "markdown",
   "metadata": {},
   "source": [
    "# 方法二：使用iterrows()遍历"
   ]
  },
  {
   "cell_type": "code",
   "execution_count": 24,
   "metadata": {
    "tags": []
   },
   "outputs": [
    {
     "output_type": "stream",
     "name": "stdout",
     "text": "0     73853\n1     57767\n2     22354\n3     15969\n4     14839\n5      8725\n6      8716\n7      8318\n8      7916\n9      6764\n10    52222\nName: movie_data, dtype: int64\n"
    }
   ],
   "source": [
    "for col, col_data in df.iteritems():\n",
    "    if col == 'movie_data':\n",
    "        print(col_data)"
   ]
  },
  {
   "cell_type": "markdown",
   "metadata": {},
   "source": [
    "# 获取最高票房信息"
   ]
  },
  {
   "cell_type": "code",
   "execution_count": 26,
   "metadata": {
    "tags": []
   },
   "outputs": [
    {
     "output_type": "stream",
     "name": "stdout",
     "text": "73853\n"
    }
   ],
   "source": [
    "max_sale = sorted(sales)[-1]\n",
    "print(max_sale)"
   ]
  }
 ],
 "metadata": {
  "kernelspec": {
   "display_name": "Python 3",
   "language": "python",
   "name": "python3"
  },
  "language_info": {
   "codemirror_mode": {
    "name": "ipython",
    "version": 3
   },
   "file_extension": ".py",
   "mimetype": "text/x-python",
   "name": "python",
   "nbconvert_exporter": "python",
   "pygments_lexer": "ipython3",
   "version": "3.7.7-final"
  }
 },
 "nbformat": 4,
 "nbformat_minor": 2
}