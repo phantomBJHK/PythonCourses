{
 "cells": [
  {
   "cell_type": "code",
   "execution_count": 2,
   "metadata": {},
   "outputs": [
    {
     "output_type": "stream",
     "name": "stdout",
     "text": "0    1   2      3     4\n0    NaN   姓名  年龄     薪资  婚姻状况\n1    1.0   李白  25    10k    NO\n2    2.0  王昭君  28  12.5k    NO\n3    3.0  诸葛亮  27    20k   YES\n4    4.0  狄仁杰  25    14k   YES\n5    5.0  孙尚香  30    12k    NO\n6    6.0   妲己  29    17k    NO\n7    7.0   周瑜  25    18k    NO\n8    8.0   张飞  32    21k   YES\n9    9.0  王昭君  28    22k    NO\n10  10.0   大乔  26  21.5k   YES\n"
    }
   ],
   "source": [
    "import pandas as pd\n",
    "df = pd.read_csv('../People_Info.csv', header=None)\n",
    "print(df)"
   ]
  },
  {
   "cell_type": "code",
   "execution_count": 4,
   "metadata": {},
   "outputs": [
    {
     "output_type": "stream",
     "name": "stdout",
     "text": "(11, 5)\n"
    }
   ],
   "source": [
    "print(df.shape)"
   ]
  },
  {
   "cell_type": "code",
   "execution_count": null,
   "metadata": {},
   "outputs": [],
   "source": []
  }
 ],
 "metadata": {
  "language_info": {
   "codemirror_mode": {
    "name": "ipython",
    "version": 3
   },
   "file_extension": ".py",
   "mimetype": "text/x-python",
   "name": "python",
   "nbconvert_exporter": "python",
   "pygments_lexer": "ipython3",
   "version": "3.7.6-final"
  },
  "orig_nbformat": 2,
  "kernelspec": {
   "name": "python3",
   "display_name": "Python 3"
  }
 },
 "nbformat": 4,
 "nbformat_minor": 2
}