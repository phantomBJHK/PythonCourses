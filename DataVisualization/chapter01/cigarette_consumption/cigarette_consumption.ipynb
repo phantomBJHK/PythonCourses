{
 "cells": [
  {
   "cell_type": "code",
   "execution_count": 1,
   "metadata": {},
   "outputs": [
    {
     "output_type": "execute_result",
     "data": {
      "text/plain": "  state  year    cpi       pop      packpc     income        tax      avgprs  \\\n1    AL  1985  1.076   3973000  116.486282   46014968  32.500004  102.181671   \n2    AR  1985  1.076   2327000  128.534592   26210736  37.000000  101.474998   \n3    AZ  1985  1.076   3184000  104.522614   43956936  31.000000  108.578751   \n4    CA  1985  1.076  26444000  100.363037  447102816  26.000000  107.837341   \n5    CO  1985  1.076   3209000  112.963539   49466672  31.000000   94.266663   \n\n        taxs  \n1  33.348335  \n2  37.000000  \n3  36.170418  \n4  32.104000  \n5  31.000000  ",
      "text/html": "<div>\n<style scoped>\n    .dataframe tbody tr th:only-of-type {\n        vertical-align: middle;\n    }\n\n    .dataframe tbody tr th {\n        vertical-align: top;\n    }\n\n    .dataframe thead th {\n        text-align: right;\n    }\n</style>\n<table border=\"1\" class=\"dataframe\">\n  <thead>\n    <tr style=\"text-align: right;\">\n      <th></th>\n      <th>state</th>\n      <th>year</th>\n      <th>cpi</th>\n      <th>pop</th>\n      <th>packpc</th>\n      <th>income</th>\n      <th>tax</th>\n      <th>avgprs</th>\n      <th>taxs</th>\n    </tr>\n  </thead>\n  <tbody>\n    <tr>\n      <th>1</th>\n      <td>AL</td>\n      <td>1985</td>\n      <td>1.076</td>\n      <td>3973000</td>\n      <td>116.486282</td>\n      <td>46014968</td>\n      <td>32.500004</td>\n      <td>102.181671</td>\n      <td>33.348335</td>\n    </tr>\n    <tr>\n      <th>2</th>\n      <td>AR</td>\n      <td>1985</td>\n      <td>1.076</td>\n      <td>2327000</td>\n      <td>128.534592</td>\n      <td>26210736</td>\n      <td>37.000000</td>\n      <td>101.474998</td>\n      <td>37.000000</td>\n    </tr>\n    <tr>\n      <th>3</th>\n      <td>AZ</td>\n      <td>1985</td>\n      <td>1.076</td>\n      <td>3184000</td>\n      <td>104.522614</td>\n      <td>43956936</td>\n      <td>31.000000</td>\n      <td>108.578751</td>\n      <td>36.170418</td>\n    </tr>\n    <tr>\n      <th>4</th>\n      <td>CA</td>\n      <td>1985</td>\n      <td>1.076</td>\n      <td>26444000</td>\n      <td>100.363037</td>\n      <td>447102816</td>\n      <td>26.000000</td>\n      <td>107.837341</td>\n      <td>32.104000</td>\n    </tr>\n    <tr>\n      <th>5</th>\n      <td>CO</td>\n      <td>1985</td>\n      <td>1.076</td>\n      <td>3209000</td>\n      <td>112.963539</td>\n      <td>49466672</td>\n      <td>31.000000</td>\n      <td>94.266663</td>\n      <td>31.000000</td>\n    </tr>\n  </tbody>\n</table>\n</div>"
     },
     "metadata": {},
     "execution_count": 1
    }
   ],
   "source": [
    "import pandas as pd\n",
    "import numpy as np\n",
    "\n",
    "df_cigatette = pd.read_csv('cigarette.csv', index_col=0)\n",
    "df_cigatette.head()"
   ]
  },
  {
   "cell_type": "code",
   "execution_count": 2,
   "metadata": {},
   "outputs": [
    {
     "output_type": "execute_result",
     "data": {
      "text/plain": "count    528.000000\nmean     106.454967\nstd       23.124227\nmin       49.272198\n25%       91.405214\n50%      105.909554\n75%      119.592928\nmax      197.993988\nName: packpc, dtype: float64"
     },
     "metadata": {},
     "execution_count": 2
    }
   ],
   "source": [
    "df_cigatette['packpc'].describe()"
   ]
  },
  {
   "cell_type": "code",
   "execution_count": 3,
   "metadata": {},
   "outputs": [
    {
     "output_type": "execute_result",
     "data": {
      "text/plain": "  state  year    cpi       pop      packpc     income        tax      avgprs  \\\n1    AL  1985  1.076   3973000  116.486282   46014968  32.500004  102.181671   \n2    AR  1985  1.076   2327000  128.534592   26210736  37.000000  101.474998   \n3    AZ  1985  1.076   3184000  104.522614   43956936  31.000000  108.578751   \n4    CA  1985  1.076  26444000  100.363037  447102816  26.000000  107.837341   \n5    CO  1985  1.076   3209000  112.963539   49466672  31.000000   94.266663   \n\n        taxs    state_fn year_str  \n1  33.348335     Alabama     1985  \n2  37.000000    Arkansas     1985  \n3  36.170418     Arizona     1985  \n4  32.104000  California     1985  \n5  31.000000    Colorado     1985  ",
      "text/html": "<div>\n<style scoped>\n    .dataframe tbody tr th:only-of-type {\n        vertical-align: middle;\n    }\n\n    .dataframe tbody tr th {\n        vertical-align: top;\n    }\n\n    .dataframe thead th {\n        text-align: right;\n    }\n</style>\n<table border=\"1\" class=\"dataframe\">\n  <thead>\n    <tr style=\"text-align: right;\">\n      <th></th>\n      <th>state</th>\n      <th>year</th>\n      <th>cpi</th>\n      <th>pop</th>\n      <th>packpc</th>\n      <th>income</th>\n      <th>tax</th>\n      <th>avgprs</th>\n      <th>taxs</th>\n      <th>state_fn</th>\n      <th>year_str</th>\n    </tr>\n  </thead>\n  <tbody>\n    <tr>\n      <th>1</th>\n      <td>AL</td>\n      <td>1985</td>\n      <td>1.076</td>\n      <td>3973000</td>\n      <td>116.486282</td>\n      <td>46014968</td>\n      <td>32.500004</td>\n      <td>102.181671</td>\n      <td>33.348335</td>\n      <td>Alabama</td>\n      <td>1985</td>\n    </tr>\n    <tr>\n      <th>2</th>\n      <td>AR</td>\n      <td>1985</td>\n      <td>1.076</td>\n      <td>2327000</td>\n      <td>128.534592</td>\n      <td>26210736</td>\n      <td>37.000000</td>\n      <td>101.474998</td>\n      <td>37.000000</td>\n      <td>Arkansas</td>\n      <td>1985</td>\n    </tr>\n    <tr>\n      <th>3</th>\n      <td>AZ</td>\n      <td>1985</td>\n      <td>1.076</td>\n      <td>3184000</td>\n      <td>104.522614</td>\n      <td>43956936</td>\n      <td>31.000000</td>\n      <td>108.578751</td>\n      <td>36.170418</td>\n      <td>Arizona</td>\n      <td>1985</td>\n    </tr>\n    <tr>\n      <th>4</th>\n      <td>CA</td>\n      <td>1985</td>\n      <td>1.076</td>\n      <td>26444000</td>\n      <td>100.363037</td>\n      <td>447102816</td>\n      <td>26.000000</td>\n      <td>107.837341</td>\n      <td>32.104000</td>\n      <td>California</td>\n      <td>1985</td>\n    </tr>\n    <tr>\n      <th>5</th>\n      <td>CO</td>\n      <td>1985</td>\n      <td>1.076</td>\n      <td>3209000</td>\n      <td>112.963539</td>\n      <td>49466672</td>\n      <td>31.000000</td>\n      <td>94.266663</td>\n      <td>31.000000</td>\n      <td>Colorado</td>\n      <td>1985</td>\n    </tr>\n  </tbody>\n</table>\n</div>"
     },
     "metadata": {},
     "execution_count": 3
    }
   ],
   "source": [
    "dict_states = {\n",
    "    'AL': ['Alabama', '亚拉巴马州'],\n",
    "    'AK': ['Alaska', '阿拉斯加州'],\n",
    "    'AZ': ['Arizona', '亚利桑那州'],\n",
    "    'AR': ['Arkansas', '阿肯色州'],\n",
    "    'CA': ['California', '加利福尼亚州'],\n",
    "    'CO': ['Colorado', '科罗拉多州'],\n",
    "    'CT': ['Connecticut', '康涅狄格州'],\n",
    "    'DE': ['Delaware', '特拉华州'],\n",
    "    'FL': ['Florida', '佛罗里达州'],\n",
    "    'GA': ['Georgia', '佐治亚州'],\n",
    "    'HI': ['Hawaii', '夏威夷州'],\n",
    "    'ID': ['Idaho', '爱达荷州'],\n",
    "    'IL': ['Illinois', '伊利诺伊州'],\n",
    "    'IN': ['Indiana', '印第安纳州'],\n",
    "    'IA': ['Iowa', '艾奥瓦州'],\n",
    "    'KS': ['Kansas', '堪萨斯州'],\n",
    "    'KY': ['Kentucky', '肯塔基州'],\n",
    "    'LA': ['Louisiana', '路易斯安那州'],\n",
    "    'ME': ['Maine', '缅因州'],\n",
    "    'MD': ['Maryland', '马里兰州'],\n",
    "    'MA': ['Massachusetts', '马萨诸塞州'],\n",
    "    'MI': ['Michigan', '密歇根州'],\n",
    "    'MN': ['Minnesota', '明尼苏达州'],\n",
    "    'MS': ['Mississippi', '密西西比州'],\n",
    "    'MO': ['Missouri', '密苏里州'],\n",
    "    'MT': ['Montana', '蒙大拿州'],\n",
    "    'NE': ['Nebraska', '内布拉斯加州'],\n",
    "    'NV': ['Nevada', '内华达州'],\n",
    "    'NH': ['New Hampshire', '新罕布什尔州'],\n",
    "    'NJ': ['New Jersey', '新泽西州'],\n",
    "    'NM': ['New Mexico', '新墨西哥州'],\n",
    "    'NY': ['New York', '纽约州'],\n",
    "    'NC': ['North Carolina', '北卡罗来纳州'],\n",
    "    'ND': ['North Dakota', '北达科他州'],\n",
    "    'OH': ['Ohio', '俄亥俄州'],\n",
    "    'OK': ['Oklahoma', '俄克拉何马州'],\n",
    "    'OR': ['Oregon', '俄勒冈州'],\n",
    "    'PA': ['Pennsylvania', '宾夕法尼亚州'],\n",
    "    'RI': ['Rhode Island', '罗得岛州'],\n",
    "    'SC': ['South Carolina', '南卡罗来纳州'],\n",
    "    'SD': ['South Dakota', '南达科他州'],\n",
    "    'TN': ['Tennessee', '田纳西州'],\n",
    "    'TX': ['Texas', '得克萨斯州'],\n",
    "    'UT': ['Utah', '犹他州'],\n",
    "    'VT': ['Vermont', '佛蒙特州'],\n",
    "    'VA': ['Virginia', '弗吉尼亚州'],\n",
    "    'WA': ['Washington', '华盛顿州'],\n",
    "    'WV': ['West Virginia', '西弗吉尼亚州'],\n",
    "    'WI': ['Wisconsin', '威斯康星州'],\n",
    "    'WY': ['Wyoming', '怀俄明州']\n",
    "}\n",
    "df_cigatette['state_fn'] = df_cigatette['state'].apply(lambda x: dict_states[x][0])\n",
    "df_cigatette['year_str'] = df_cigatette['year'].astype(str)\n",
    "\n",
    "df_cigatette.head()"
   ]
  },
  {
   "cell_type": "code",
   "execution_count": 4,
   "metadata": {},
   "outputs": [
    {
     "output_type": "display_data",
     "data": {
      "text/html": "\n    <div class=\"bk-root\">\n        <a href=\"https://bokeh.org\" target=\"_blank\" class=\"bk-logo bk-logo-small bk-logo-notebook\"></a>\n        <span id=\"1001\">Loading BokehJS ...</span>\n    </div>"
     },
     "metadata": {}
    },
    {
     "output_type": "display_data",
     "data": {
      "application/javascript": "\n(function(root) {\n  function now() {\n    return new Date();\n  }\n\n  var force = true;\n\n  if (typeof root._bokeh_onload_callbacks === \"undefined\" || force === true) {\n    root._bokeh_onload_callbacks = [];\n    root._bokeh_is_loading = undefined;\n  }\n\n  var JS_MIME_TYPE = 'application/javascript';\n  var HTML_MIME_TYPE = 'text/html';\n  var EXEC_MIME_TYPE = 'application/vnd.bokehjs_exec.v0+json';\n  var CLASS_NAME = 'output_bokeh rendered_html';\n\n  /**\n   * Render data to the DOM node\n   */\n  function render(props, node) {\n    var script = document.createElement(\"script\");\n    node.appendChild(script);\n  }\n\n  /**\n   * Handle when an output is cleared or removed\n   */\n  function handleClearOutput(event, handle) {\n    var cell = handle.cell;\n\n    var id = cell.output_area._bokeh_element_id;\n    var server_id = cell.output_area._bokeh_server_id;\n    // Clean up Bokeh references\n    if (id != null && id in Bokeh.index) {\n      Bokeh.index[id].model.document.clear();\n      delete Bokeh.index[id];\n    }\n\n    if (server_id !== undefined) {\n      // Clean up Bokeh references\n      var cmd = \"from bokeh.io.state import curstate; print(curstate().uuid_to_server['\" + server_id + \"'].get_sessions()[0].document.roots[0]._id)\";\n      cell.notebook.kernel.execute(cmd, {\n        iopub: {\n          output: function(msg) {\n            var id = msg.content.text.trim();\n            if (id in Bokeh.index) {\n              Bokeh.index[id].model.document.clear();\n              delete Bokeh.index[id];\n            }\n          }\n        }\n      });\n      // Destroy server and session\n      var cmd = \"import bokeh.io.notebook as ion; ion.destroy_server('\" + server_id + \"')\";\n      cell.notebook.kernel.execute(cmd);\n    }\n  }\n\n  /**\n   * Handle when a new output is added\n   */\n  function handleAddOutput(event, handle) {\n    var output_area = handle.output_area;\n    var output = handle.output;\n\n    // limit handleAddOutput to display_data with EXEC_MIME_TYPE content only\n    if ((output.output_type != \"display_data\") || (!output.data.hasOwnProperty(EXEC_MIME_TYPE))) {\n      return\n    }\n\n    var toinsert = output_area.element.find(\".\" + CLASS_NAME.split(' ')[0]);\n\n    if (output.metadata[EXEC_MIME_TYPE][\"id\"] !== undefined) {\n      toinsert[toinsert.length - 1].firstChild.textContent = output.data[JS_MIME_TYPE];\n      // store reference to embed id on output_area\n      output_area._bokeh_element_id = output.metadata[EXEC_MIME_TYPE][\"id\"];\n    }\n    if (output.metadata[EXEC_MIME_TYPE][\"server_id\"] !== undefined) {\n      var bk_div = document.createElement(\"div\");\n      bk_div.innerHTML = output.data[HTML_MIME_TYPE];\n      var script_attrs = bk_div.children[0].attributes;\n      for (var i = 0; i < script_attrs.length; i++) {\n        toinsert[toinsert.length - 1].firstChild.setAttribute(script_attrs[i].name, script_attrs[i].value);\n        toinsert[toinsert.length - 1].firstChild.textContent = bk_div.children[0].textContent\n      }\n      // store reference to server id on output_area\n      output_area._bokeh_server_id = output.metadata[EXEC_MIME_TYPE][\"server_id\"];\n    }\n  }\n\n  function register_renderer(events, OutputArea) {\n\n    function append_mime(data, metadata, element) {\n      // create a DOM node to render to\n      var toinsert = this.create_output_subarea(\n        metadata,\n        CLASS_NAME,\n        EXEC_MIME_TYPE\n      );\n      this.keyboard_manager.register_events(toinsert);\n      // Render to node\n      var props = {data: data, metadata: metadata[EXEC_MIME_TYPE]};\n      render(props, toinsert[toinsert.length - 1]);\n      element.append(toinsert);\n      return toinsert\n    }\n\n    /* Handle when an output is cleared or removed */\n    events.on('clear_output.CodeCell', handleClearOutput);\n    events.on('delete.Cell', handleClearOutput);\n\n    /* Handle when a new output is added */\n    events.on('output_added.OutputArea', handleAddOutput);\n\n    /**\n     * Register the mime type and append_mime function with output_area\n     */\n    OutputArea.prototype.register_mime_type(EXEC_MIME_TYPE, append_mime, {\n      /* Is output safe? */\n      safe: true,\n      /* Index of renderer in `output_area.display_order` */\n      index: 0\n    });\n  }\n\n  // register the mime type if in Jupyter Notebook environment and previously unregistered\n  if (root.Jupyter !== undefined) {\n    var events = require('base/js/events');\n    var OutputArea = require('notebook/js/outputarea').OutputArea;\n\n    if (OutputArea.prototype.mime_types().indexOf(EXEC_MIME_TYPE) == -1) {\n      register_renderer(events, OutputArea);\n    }\n  }\n\n  \n  if (typeof (root._bokeh_timeout) === \"undefined\" || force === true) {\n    root._bokeh_timeout = Date.now() + 5000;\n    root._bokeh_failed_load = false;\n  }\n\n  var NB_LOAD_WARNING = {'data': {'text/html':\n     \"<div style='background-color: #fdd'>\\n\"+\n     \"<p>\\n\"+\n     \"BokehJS does not appear to have successfully loaded. If loading BokehJS from CDN, this \\n\"+\n     \"may be due to a slow or bad network connection. Possible fixes:\\n\"+\n     \"</p>\\n\"+\n     \"<ul>\\n\"+\n     \"<li>re-rerun `output_notebook()` to attempt to load from CDN again, or</li>\\n\"+\n     \"<li>use INLINE resources instead, as so:</li>\\n\"+\n     \"</ul>\\n\"+\n     \"<code>\\n\"+\n     \"from bokeh.resources import INLINE\\n\"+\n     \"output_notebook(resources=INLINE)\\n\"+\n     \"</code>\\n\"+\n     \"</div>\"}};\n\n  function display_loaded() {\n    var el = document.getElementById(\"1001\");\n    if (el != null) {\n      el.textContent = \"BokehJS is loading...\";\n    }\n    if (root.Bokeh !== undefined) {\n      if (el != null) {\n        el.textContent = \"BokehJS \" + root.Bokeh.version + \" successfully loaded.\";\n      }\n    } else if (Date.now() < root._bokeh_timeout) {\n      setTimeout(display_loaded, 100)\n    }\n  }\n\n\n  function run_callbacks() {\n    try {\n      root._bokeh_onload_callbacks.forEach(function(callback) {\n        if (callback != null)\n          callback();\n      });\n    } finally {\n      delete root._bokeh_onload_callbacks\n    }\n    console.debug(\"Bokeh: all callbacks have finished\");\n  }\n\n  function load_libs(css_urls, js_urls, callback) {\n    if (css_urls == null) css_urls = [];\n    if (js_urls == null) js_urls = [];\n\n    root._bokeh_onload_callbacks.push(callback);\n    if (root._bokeh_is_loading > 0) {\n      console.debug(\"Bokeh: BokehJS is being loaded, scheduling callback at\", now());\n      return null;\n    }\n    if (js_urls == null || js_urls.length === 0) {\n      run_callbacks();\n      return null;\n    }\n    console.debug(\"Bokeh: BokehJS not loaded, scheduling load and callback at\", now());\n    root._bokeh_is_loading = css_urls.length + js_urls.length;\n\n    function on_load() {\n      root._bokeh_is_loading--;\n      if (root._bokeh_is_loading === 0) {\n        console.debug(\"Bokeh: all BokehJS libraries/stylesheets loaded\");\n        run_callbacks()\n      }\n    }\n\n    function on_error() {\n      console.error(\"failed to load \" + url);\n    }\n\n    for (var i = 0; i < css_urls.length; i++) {\n      var url = css_urls[i];\n      const element = document.createElement(\"link\");\n      element.onload = on_load;\n      element.onerror = on_error;\n      element.rel = \"stylesheet\";\n      element.type = \"text/css\";\n      element.href = url;\n      console.debug(\"Bokeh: injecting link tag for BokehJS stylesheet: \", url);\n      document.body.appendChild(element);\n    }\n\n    const hashes = {\"https://cdn.bokeh.org/bokeh/release/bokeh-2.0.2.min.js\": \"ufR9RFnRs6lniiaFvtJziE0YeidtAgBRH6ux2oUItHw5WTvE1zuk9uzhUU/FJXDp\", \"https://cdn.bokeh.org/bokeh/release/bokeh-widgets-2.0.2.min.js\": \"8QM/PGWBT+IssZuRcDcjzwIh1mkOmJSoNMmyYDZbCfXJg3Ap1lEvdVgFuSAwhb/J\", \"https://cdn.bokeh.org/bokeh/release/bokeh-tables-2.0.2.min.js\": \"Jm8cH3Rg0P6UeZhVY5cLy1WzKajUT9KImCY+76hEqrcJt59/d8GPvFHjCkYgnSIn\", \"https://cdn.bokeh.org/bokeh/release/bokeh-gl-2.0.2.min.js\": \"Ozhzj+SI7ywm74aOI/UajcWz+C0NjsPunEVyVIrxzYkB+jA+2tUw8x5xJCbVtK5I\"};\n\n    for (var i = 0; i < js_urls.length; i++) {\n      var url = js_urls[i];\n      var element = document.createElement('script');\n      element.onload = on_load;\n      element.onerror = on_error;\n      element.async = false;\n      element.src = url;\n      if (url in hashes) {\n        element.crossOrigin = \"anonymous\";\n        element.integrity = \"sha384-\" + hashes[url];\n      }\n      console.debug(\"Bokeh: injecting script tag for BokehJS library: \", url);\n      document.head.appendChild(element);\n    }\n  };\n\n  function inject_raw_css(css) {\n    const element = document.createElement(\"style\");\n    element.appendChild(document.createTextNode(css));\n    document.body.appendChild(element);\n  }\n\n  \n  var js_urls = [\"https://cdn.bokeh.org/bokeh/release/bokeh-2.0.2.min.js\", \"https://cdn.bokeh.org/bokeh/release/bokeh-widgets-2.0.2.min.js\", \"https://cdn.bokeh.org/bokeh/release/bokeh-tables-2.0.2.min.js\", \"https://cdn.bokeh.org/bokeh/release/bokeh-gl-2.0.2.min.js\"];\n  var css_urls = [];\n  \n\n  var inline_js = [\n    function(Bokeh) {\n      Bokeh.set_log_level(\"info\");\n    },\n    function(Bokeh) {\n    \n    \n    }\n  ];\n\n  function run_inline_js() {\n    \n    if (root.Bokeh !== undefined || force === true) {\n      \n    for (var i = 0; i < inline_js.length; i++) {\n      inline_js[i].call(root, root.Bokeh);\n    }\n    if (force === true) {\n        display_loaded();\n      }} else if (Date.now() < root._bokeh_timeout) {\n      setTimeout(run_inline_js, 100);\n    } else if (!root._bokeh_failed_load) {\n      console.log(\"Bokeh: BokehJS failed to load within specified timeout.\");\n      root._bokeh_failed_load = true;\n    } else if (force !== true) {\n      var cell = $(document.getElementById(\"1001\")).parents('.cell').data().cell;\n      cell.output_area.append_execute_result(NB_LOAD_WARNING)\n    }\n\n  }\n\n  if (root._bokeh_is_loading === 0) {\n    console.debug(\"Bokeh: BokehJS loaded, going straight to plotting\");\n    run_inline_js();\n  } else {\n    load_libs(css_urls, js_urls, function() {\n      console.debug(\"Bokeh: BokehJS plotting callback run at\", now());\n      run_inline_js();\n    });\n  }\n}(window));",
      "application/vnd.bokehjs_load.v0+json": "\n(function(root) {\n  function now() {\n    return new Date();\n  }\n\n  var force = true;\n\n  if (typeof root._bokeh_onload_callbacks === \"undefined\" || force === true) {\n    root._bokeh_onload_callbacks = [];\n    root._bokeh_is_loading = undefined;\n  }\n\n  \n\n  \n  if (typeof (root._bokeh_timeout) === \"undefined\" || force === true) {\n    root._bokeh_timeout = Date.now() + 5000;\n    root._bokeh_failed_load = false;\n  }\n\n  var NB_LOAD_WARNING = {'data': {'text/html':\n     \"<div style='background-color: #fdd'>\\n\"+\n     \"<p>\\n\"+\n     \"BokehJS does not appear to have successfully loaded. If loading BokehJS from CDN, this \\n\"+\n     \"may be due to a slow or bad network connection. Possible fixes:\\n\"+\n     \"</p>\\n\"+\n     \"<ul>\\n\"+\n     \"<li>re-rerun `output_notebook()` to attempt to load from CDN again, or</li>\\n\"+\n     \"<li>use INLINE resources instead, as so:</li>\\n\"+\n     \"</ul>\\n\"+\n     \"<code>\\n\"+\n     \"from bokeh.resources import INLINE\\n\"+\n     \"output_notebook(resources=INLINE)\\n\"+\n     \"</code>\\n\"+\n     \"</div>\"}};\n\n  function display_loaded() {\n    var el = document.getElementById(\"1001\");\n    if (el != null) {\n      el.textContent = \"BokehJS is loading...\";\n    }\n    if (root.Bokeh !== undefined) {\n      if (el != null) {\n        el.textContent = \"BokehJS \" + root.Bokeh.version + \" successfully loaded.\";\n      }\n    } else if (Date.now() < root._bokeh_timeout) {\n      setTimeout(display_loaded, 100)\n    }\n  }\n\n\n  function run_callbacks() {\n    try {\n      root._bokeh_onload_callbacks.forEach(function(callback) {\n        if (callback != null)\n          callback();\n      });\n    } finally {\n      delete root._bokeh_onload_callbacks\n    }\n    console.debug(\"Bokeh: all callbacks have finished\");\n  }\n\n  function load_libs(css_urls, js_urls, callback) {\n    if (css_urls == null) css_urls = [];\n    if (js_urls == null) js_urls = [];\n\n    root._bokeh_onload_callbacks.push(callback);\n    if (root._bokeh_is_loading > 0) {\n      console.debug(\"Bokeh: BokehJS is being loaded, scheduling callback at\", now());\n      return null;\n    }\n    if (js_urls == null || js_urls.length === 0) {\n      run_callbacks();\n      return null;\n    }\n    console.debug(\"Bokeh: BokehJS not loaded, scheduling load and callback at\", now());\n    root._bokeh_is_loading = css_urls.length + js_urls.length;\n\n    function on_load() {\n      root._bokeh_is_loading--;\n      if (root._bokeh_is_loading === 0) {\n        console.debug(\"Bokeh: all BokehJS libraries/stylesheets loaded\");\n        run_callbacks()\n      }\n    }\n\n    function on_error() {\n      console.error(\"failed to load \" + url);\n    }\n\n    for (var i = 0; i < css_urls.length; i++) {\n      var url = css_urls[i];\n      const element = document.createElement(\"link\");\n      element.onload = on_load;\n      element.onerror = on_error;\n      element.rel = \"stylesheet\";\n      element.type = \"text/css\";\n      element.href = url;\n      console.debug(\"Bokeh: injecting link tag for BokehJS stylesheet: \", url);\n      document.body.appendChild(element);\n    }\n\n    const hashes = {\"https://cdn.bokeh.org/bokeh/release/bokeh-2.0.2.min.js\": \"ufR9RFnRs6lniiaFvtJziE0YeidtAgBRH6ux2oUItHw5WTvE1zuk9uzhUU/FJXDp\", \"https://cdn.bokeh.org/bokeh/release/bokeh-widgets-2.0.2.min.js\": \"8QM/PGWBT+IssZuRcDcjzwIh1mkOmJSoNMmyYDZbCfXJg3Ap1lEvdVgFuSAwhb/J\", \"https://cdn.bokeh.org/bokeh/release/bokeh-tables-2.0.2.min.js\": \"Jm8cH3Rg0P6UeZhVY5cLy1WzKajUT9KImCY+76hEqrcJt59/d8GPvFHjCkYgnSIn\", \"https://cdn.bokeh.org/bokeh/release/bokeh-gl-2.0.2.min.js\": \"Ozhzj+SI7ywm74aOI/UajcWz+C0NjsPunEVyVIrxzYkB+jA+2tUw8x5xJCbVtK5I\"};\n\n    for (var i = 0; i < js_urls.length; i++) {\n      var url = js_urls[i];\n      var element = document.createElement('script');\n      element.onload = on_load;\n      element.onerror = on_error;\n      element.async = false;\n      element.src = url;\n      if (url in hashes) {\n        element.crossOrigin = \"anonymous\";\n        element.integrity = \"sha384-\" + hashes[url];\n      }\n      console.debug(\"Bokeh: injecting script tag for BokehJS library: \", url);\n      document.head.appendChild(element);\n    }\n  };\n\n  function inject_raw_css(css) {\n    const element = document.createElement(\"style\");\n    element.appendChild(document.createTextNode(css));\n    document.body.appendChild(element);\n  }\n\n  \n  var js_urls = [\"https://cdn.bokeh.org/bokeh/release/bokeh-2.0.2.min.js\", \"https://cdn.bokeh.org/bokeh/release/bokeh-widgets-2.0.2.min.js\", \"https://cdn.bokeh.org/bokeh/release/bokeh-tables-2.0.2.min.js\", \"https://cdn.bokeh.org/bokeh/release/bokeh-gl-2.0.2.min.js\"];\n  var css_urls = [];\n  \n\n  var inline_js = [\n    function(Bokeh) {\n      Bokeh.set_log_level(\"info\");\n    },\n    function(Bokeh) {\n    \n    \n    }\n  ];\n\n  function run_inline_js() {\n    \n    if (root.Bokeh !== undefined || force === true) {\n      \n    for (var i = 0; i < inline_js.length; i++) {\n      inline_js[i].call(root, root.Bokeh);\n    }\n    if (force === true) {\n        display_loaded();\n      }} else if (Date.now() < root._bokeh_timeout) {\n      setTimeout(run_inline_js, 100);\n    } else if (!root._bokeh_failed_load) {\n      console.log(\"Bokeh: BokehJS failed to load within specified timeout.\");\n      root._bokeh_failed_load = true;\n    } else if (force !== true) {\n      var cell = $(document.getElementById(\"1001\")).parents('.cell').data().cell;\n      cell.output_area.append_execute_result(NB_LOAD_WARNING)\n    }\n\n  }\n\n  if (root._bokeh_is_loading === 0) {\n    console.debug(\"Bokeh: BokehJS loaded, going straight to plotting\");\n    run_inline_js();\n  } else {\n    load_libs(css_urls, js_urls, function() {\n      console.debug(\"Bokeh: BokehJS plotting callback run at\", now());\n      run_inline_js();\n    });\n  }\n}(window));"
     },
     "metadata": {}
    }
   ],
   "source": [
    "from bokeh.plotting import figure, show\n",
    "from bokeh.io import output_notebook, push_notebook\n",
    "from bokeh.models import ColumnDataSource\n",
    "output_notebook()"
   ]
  },
  {
   "cell_type": "code",
   "execution_count": 5,
   "metadata": {},
   "outputs": [],
   "source": [
    "def generate_box_plot_data(df, category, column):\n",
    "\n",
    "    # find the quartiles and IQR for each category\n",
    "    groups = df[[column, category]].groupby(by=category, sort=False)\n",
    "    # generate some synthetic time series for six different categories\n",
    "    cats = []\n",
    "\n",
    "    q1 = groups.quantile(q=0.25)\n",
    "    q2 = groups.quantile(q=0.5)\n",
    "    q3 = groups.quantile(q=0.75)\n",
    "    iqr = q3 - q1\n",
    "    upper = q3 + 1.5*iqr\n",
    "    lower = q1 - 1.5*iqr\n",
    "    # find the outliers for each category\n",
    "    def outliers(group):\n",
    "        cat = group.name\n",
    "        cats.append(cat)\n",
    "        return group[(group[column] > upper.loc[cat][column]) | (group[column] < lower.loc[cat][column])][column]\n",
    "    out = groups.apply(outliers).dropna()\n",
    "    # prepare outlier data for plotting, we need coordinates for every outlier.\n",
    "    if not out.empty:\n",
    "        out_index = []\n",
    "        out_category = []\n",
    "        out_value = []\n",
    "        for keys in out.index:\n",
    "            out_index.append(keys[1])\n",
    "            out_category.append(keys[0])\n",
    "            out_value.append(out.loc[keys[0]].loc[keys[1]])\n",
    "\n",
    "    # if no outliers, shrink lengths of stems to be no longer than the minimums or maximums\n",
    "    qmin = groups.quantile(q=0.00)\n",
    "    qmax = groups.quantile(q=1.00)\n",
    "\n",
    "    upper[column] = [min([x,y]) for (x,y) in zip(list(qmax.loc[:,column]),upper[column])]\n",
    "    lower[column] = [max([x,y]) for (x,y) in zip(list(qmin.loc[:,column]),lower[column])]\n",
    "\n",
    "    data_box_plot = {\n",
    "        'category': cats,\n",
    "        'qmin': qmin[column].tolist(),\n",
    "        'q1' : q1[column].tolist(),\n",
    "        'q2' : q2[column].tolist(),\n",
    "        'q3' : q3[column].tolist(),\n",
    "        'iqr': iqr[column].tolist(),\n",
    "        'qmax': qmax[column].tolist(),\n",
    "        'upper': upper[column].tolist(),\n",
    "        'lower': lower[column].tolist()\n",
    "    }\n",
    "\n",
    "    data_box_plot_outlier = {\n",
    "        'index': out_index,\n",
    "        'category' : out_category,\n",
    "        'value': out_value\n",
    "    }\n",
    "    \n",
    "    return data_box_plot, data_box_plot_outlier\n",
    "\n",
    "def bokeh_box_plot(p, data_box_plot, data_box_plot_out, all_dot=False):\n",
    "    box, out = data_box_plot, data_box_plot_out\n",
    "    box = ColumnDataSource(data=box)\n",
    "    # stems\n",
    "    p.segment(x0='upper', y0='category', x1='q3', y1='category', line_color='black', source=box)\n",
    "    p.segment(x0='lower', y0='category', x1='q1', y1='category', line_color='black', source=box)\n",
    "\n",
    "    # boxes\n",
    "    p.hbar(y='category', height=0.7, right='q2', left='q3', fill_color='navy', alpha=0.5, line_color='black', source=box)\n",
    "    p.hbar(y='category', height=0.7, right='q1', left='q2', fill_color='navy', alpha=0.3, line_color='black', source=box)\n",
    "\n",
    "    # whiskers (almost-0 height rects simpler than segments)\n",
    "    p.rect(x='lower', y='category', width=0.01, height=0.2, line_color='black', source=box)\n",
    "    p.rect(x='upper', y='category', width=0.01, height=0.2, line_color='black', source=box)\n",
    "\n",
    "    # outliers\n",
    "    p.circle(x='value', y='category', size=6, color=\"#F38630\", fill_alpha=1, source=out)\n",
    "    \n",
    "    return box\n"
   ]
  },
  {
   "cell_type": "code",
   "execution_count": 6,
   "metadata": {},
   "outputs": [
    {
     "output_type": "display_data",
     "data": {
      "text/html": "\n\n\n\n\n\n  <div class=\"bk-root\" id=\"02ea5bfa-1a58-4e9d-a101-20ddc176a0dc\" data-root-id=\"1002\"></div>\n"
     },
     "metadata": {}
    },
    {
     "output_type": "display_data",
     "data": {
      "application/javascript": "(function(root) {\n  function embed_document(root) {\n    \n  var docs_json = {\"6bcbfdcd-021a-4784-83e2-8526e14620c5\":{\"roots\":{\"references\":[{\"attributes\":{\"below\":[{\"id\":\"1013\"}],\"center\":[{\"id\":\"1016\"},{\"id\":\"1020\"}],\"left\":[{\"id\":\"1017\"}],\"plot_height\":450,\"plot_width\":800,\"renderers\":[{\"id\":\"1028\"},{\"id\":\"1033\"},{\"id\":\"1038\"},{\"id\":\"1043\"},{\"id\":\"1048\"},{\"id\":\"1053\"},{\"id\":\"1059\"},{\"id\":\"1069\"},{\"id\":\"1074\"}],\"title\":{\"id\":\"1003\"},\"toolbar\":{\"id\":\"1022\"},\"x_range\":{\"id\":\"1005\"},\"x_scale\":{\"id\":\"1009\"},\"y_range\":{\"id\":\"1007\"},\"y_scale\":{\"id\":\"1011\"}},\"id\":\"1002\",\"subtype\":\"Figure\",\"type\":\"Plot\"},{\"attributes\":{\"end\":205,\"start\":45},\"id\":\"1005\",\"type\":\"Range1d\"},{\"attributes\":{\"axis_label\":\"<--- \\u5e74 --->\",\"axis_label_text_font_size\":\"12pt\",\"formatter\":{\"id\":\"1077\"},\"major_label_text_font_size\":\"10pt\",\"ticker\":{\"id\":\"1063\"}},\"id\":\"1017\",\"type\":\"LinearAxis\"},{\"attributes\":{\"fill_alpha\":{\"value\":0.1},\"fill_color\":{\"value\":\"navy\"},\"height\":{\"value\":0.7},\"left\":{\"field\":\"q3\"},\"line_alpha\":{\"value\":0.1},\"right\":{\"field\":\"q2\"},\"y\":{\"field\":\"category\"}},\"id\":\"1037\",\"type\":\"HBar\"},{\"attributes\":{\"fill_alpha\":{\"value\":0.5},\"fill_color\":{\"value\":\"navy\"},\"height\":{\"value\":0.7},\"left\":{\"field\":\"q3\"},\"line_alpha\":{\"value\":0.5},\"right\":{\"field\":\"q2\"},\"y\":{\"field\":\"category\"}},\"id\":\"1036\",\"type\":\"HBar\"},{\"attributes\":{\"data\":{\"x\":[100,100],\"y\":[\"1996\",\"1984\"]},\"selected\":{\"id\":\"1087\"},\"selection_policy\":{\"id\":\"1086\"}},\"id\":\"1071\",\"type\":\"ColumnDataSource\"},{\"attributes\":{\"data_source\":{\"id\":\"1055\"},\"glyph\":{\"id\":\"1057\"},\"hover_glyph\":null,\"muted_glyph\":null,\"nonselection_glyph\":{\"id\":\"1058\"},\"selection_glyph\":null,\"view\":{\"id\":\"1060\"}},\"id\":\"1059\",\"type\":\"GlyphRenderer\"},{\"attributes\":{\"text\":\"\\u7f8e\\u56fd\\u9999\\u70df\\u6d88\\u8d39 1985\\uff5e1995\",\"text_font_size\":{\"value\":\"16pt\"}},\"id\":\"1003\",\"type\":\"Title\"},{\"attributes\":{\"fill_alpha\":{\"value\":0.1},\"fill_color\":{\"value\":\"#1f77b4\"},\"height\":{\"units\":\"data\",\"value\":0.2},\"line_alpha\":{\"value\":0.1},\"width\":{\"units\":\"data\",\"value\":0.01},\"x\":{\"field\":\"upper\"},\"y\":{\"field\":\"category\"}},\"id\":\"1052\",\"type\":\"Rect\"},{\"attributes\":{\"text_align\":\"center\",\"text_alpha\":{\"value\":0.1},\"text_baseline\":\"top\",\"text_color\":{\"value\":\"black\"},\"text_font_size\":{\"value\":\"10px\"},\"x\":{\"field\":\"value\"},\"y\":{\"field\":\"category\"},\"y_offset\":{\"value\":5}},\"id\":\"1068\",\"type\":\"Text\"},{\"attributes\":{},\"id\":\"1084\",\"type\":\"UnionRenderers\"},{\"attributes\":{\"data_source\":{\"id\":\"1024\"},\"glyph\":{\"id\":\"1031\"},\"hover_glyph\":null,\"muted_glyph\":null,\"nonselection_glyph\":{\"id\":\"1032\"},\"selection_glyph\":null,\"view\":{\"id\":\"1034\"}},\"id\":\"1033\",\"type\":\"GlyphRenderer\"},{\"attributes\":{\"source\":{\"id\":\"1071\"}},\"id\":\"1075\",\"type\":\"CDSView\"},{\"attributes\":{\"data_source\":{\"id\":\"1024\"},\"glyph\":{\"id\":\"1051\"},\"hover_glyph\":null,\"muted_glyph\":null,\"nonselection_glyph\":{\"id\":\"1052\"},\"selection_glyph\":null,\"view\":{\"id\":\"1054\"}},\"id\":\"1053\",\"type\":\"GlyphRenderer\"},{\"attributes\":{},\"id\":\"1021\",\"type\":\"SaveTool\"},{\"attributes\":{\"min_interval\":50},\"id\":\"1014\",\"type\":\"BasicTicker\"},{\"attributes\":{\"fill_color\":{\"value\":\"#1f77b4\"},\"height\":{\"units\":\"data\",\"value\":0.2},\"width\":{\"units\":\"data\",\"value\":0.01},\"x\":{\"field\":\"upper\"},\"y\":{\"field\":\"category\"}},\"id\":\"1051\",\"type\":\"Rect\"},{\"attributes\":{},\"id\":\"1081\",\"type\":\"Selection\"},{\"attributes\":{\"data_source\":{\"id\":\"1071\"},\"glyph\":{\"id\":\"1072\"},\"hover_glyph\":null,\"muted_glyph\":null,\"nonselection_glyph\":{\"id\":\"1073\"},\"selection_glyph\":null,\"view\":{\"id\":\"1075\"}},\"id\":\"1074\",\"type\":\"GlyphRenderer\"},{\"attributes\":{},\"id\":\"1009\",\"type\":\"LinearScale\"},{\"attributes\":{\"line_color\":\"red\",\"line_dash\":[6],\"x\":{\"field\":\"x\"},\"y\":{\"field\":\"y\"}},\"id\":\"1072\",\"type\":\"Line\"},{\"attributes\":{\"line_alpha\":{\"value\":0.1},\"x0\":{\"field\":\"lower\"},\"x1\":{\"field\":\"q1\"},\"y0\":{\"field\":\"category\"},\"y1\":{\"field\":\"category\"}},\"id\":\"1032\",\"type\":\"Segment\"},{\"attributes\":{\"source\":{\"id\":\"1024\"}},\"id\":\"1054\",\"type\":\"CDSView\"},{\"attributes\":{},\"id\":\"1083\",\"type\":\"Selection\"},{\"attributes\":{\"data_source\":{\"id\":\"1024\"},\"glyph\":{\"id\":\"1026\"},\"hover_glyph\":null,\"muted_glyph\":null,\"nonselection_glyph\":{\"id\":\"1027\"},\"selection_glyph\":null,\"view\":{\"id\":\"1029\"}},\"id\":\"1028\",\"type\":\"GlyphRenderer\"},{\"attributes\":{},\"id\":\"1085\",\"type\":\"Selection\"},{\"attributes\":{},\"id\":\"1077\",\"type\":\"BasicTickFormatter\"},{\"attributes\":{\"data_source\":{\"id\":\"1024\"},\"glyph\":{\"id\":\"1041\"},\"hover_glyph\":null,\"muted_glyph\":null,\"nonselection_glyph\":{\"id\":\"1042\"},\"selection_glyph\":null,\"view\":{\"id\":\"1044\"}},\"id\":\"1043\",\"type\":\"GlyphRenderer\"},{\"attributes\":{},\"id\":\"1079\",\"type\":\"BasicTickFormatter\"},{\"attributes\":{\"source\":{\"id\":\"1024\"}},\"id\":\"1044\",\"type\":\"CDSView\"},{\"attributes\":{\"fill_color\":{\"value\":\"#F38630\"},\"line_color\":{\"value\":\"#F38630\"},\"size\":{\"units\":\"screen\",\"value\":6},\"x\":{\"field\":\"value\"},\"y\":{\"field\":\"category\"}},\"id\":\"1057\",\"type\":\"Circle\"},{\"attributes\":{\"end\":1984,\"start\":1996},\"id\":\"1007\",\"type\":\"Range1d\"},{\"attributes\":{\"line_alpha\":{\"value\":0.1},\"x0\":{\"field\":\"upper\"},\"x1\":{\"field\":\"q3\"},\"y0\":{\"field\":\"category\"},\"y1\":{\"field\":\"category\"}},\"id\":\"1027\",\"type\":\"Segment\"},{\"attributes\":{\"data\":{\"category\":[1985,1986,1987,1988,1989,1990,1991,1992,1993,1994,1995],\"iqr\":[16.795801162720238,21.156475067138757,19.42494201660125,26.60891342163086,24.87337112426735,24.28549957275426,25.014982223510586,23.68728637695341,25.513845443725742,23.038492202758874,29.04055404663073],\"lower\":[86.76143932342416,74.8084526062011,76.78238296508837,59.1317081451416,58.36456298828162,55.05835533142034,52.48481750488279,52.5391731262207,52.0790863037109,51.128345489502,49.2721977233887],\"q1\":[111.95514106750451,106.54316520690924,105.91979598999025,99.04507827758789,95.67461967468265,91.48660469055173,86.9193458557129,84.51738166809085,81.73361778259277,81.14431381225587,80.23026847839353],\"q2\":[118.578411102295,116.200477600098,113.1732788085935,111.37923049926749,108.162742614746,100.3011665344239,97.89229583740236,95.07263946533205,93.18803787231445,92.7948913574219,92.83717727661136],\"q3\":[128.75094223022475,127.699640274048,125.3447380065915,125.65399169921875,120.54799079895,115.77210426330599,111.93432807922349,108.20466804504426,107.24746322631852,104.18280601501475,109.27082252502426],\"qmax\":[197.993988037109,190.634140014648,185.19923400878898,176.638961791992,176.094650268555,186.481872558594,169.139450073242,164.494445800781,162.988662719727,164.808929443359,172.64778137207],\"qmin\":[68.046257019043,64.76247406005861,68.53396606445311,55.7396430969238,57.4443130493164,53.0143013000488,52.48481750488279,52.5391731262207,52.0790863037109,51.128345489502,49.2721977233887],\"upper\":[153.9446439743051,159.43435287475614,154.48215103149337,165.56736183166504,157.85804748535102,152.20035362243738,149.45680141448938,143.73559761047437,145.51823139190714,138.74054431915306,152.83165359497036]},\"selected\":{\"id\":\"1081\"},\"selection_policy\":{\"id\":\"1080\"}},\"id\":\"1024\",\"type\":\"ColumnDataSource\"},{\"attributes\":{\"axis_label\":\"\\u9999\\u70df\\u6d88\\u8d39\\uff08\\u5e73\\u5747\\u6bcf\\u4eba\\u6bcf\\u5e74\\u7684\\u5305\\u6570\\uff09\",\"axis_label_text_font_size\":\"12pt\",\"formatter\":{\"id\":\"1079\"},\"major_label_text_font_size\":\"10pt\",\"ticker\":{\"id\":\"1014\"}},\"id\":\"1013\",\"type\":\"LinearAxis\"},{\"attributes\":{\"source\":{\"id\":\"1024\"}},\"id\":\"1039\",\"type\":\"CDSView\"},{\"attributes\":{\"fill_alpha\":{\"value\":0.1},\"fill_color\":{\"value\":\"navy\"},\"height\":{\"value\":0.7},\"left\":{\"field\":\"q2\"},\"line_alpha\":{\"value\":0.1},\"right\":{\"field\":\"q1\"},\"y\":{\"field\":\"category\"}},\"id\":\"1042\",\"type\":\"HBar\"},{\"attributes\":{\"data\":{\"category\":[1985,1985,1985,1985,1986,1986,1986,1987,1987,1987,1988,1988,1988,1989,1989,1989,1990,1990,1990,1991,1992,1992,1993,1993,1994,1994,1995,1995],\"index\":[15,25,28,42,63,76,90,111,124,138,159,172,186,207,220,234,255,268,282,303,351,364,399,412,447,460,495,508],\"text\":[\"KY\",\"NC\",\"NH\",\"UT\",\"KY\",\"NH\",\"UT\",\"KY\",\"NH\",\"UT\",\"KY\",\"NH\",\"UT\",\"KY\",\"NH\",\"UT\",\"KY\",\"NH\",\"UT\",\"KY\",\"KY\",\"NH\",\"KY\",\"NH\",\"KY\",\"NH\",\"KY\",\"NH\"],\"value\":[186.035186767578,155.283767700195,197.993988037109,68.046257019043,181.805847167969,190.634140014648,64.76247406005861,175.950057983398,185.19923400878898,68.53396606445311,172.507476806641,176.638961791992,55.7396430969238,176.094650268555,170.497741699219,57.4443130493164,186.481872558594,154.429946899414,53.0143013000488,169.139450073242,164.494445800781,145.58317565918,162.988662719727,149.528915405273,164.808929443359,155.15588378906298,172.64778137207,156.33674621582]},\"selected\":{\"id\":\"1085\"},\"selection_policy\":{\"id\":\"1084\"}},\"id\":\"1065\",\"type\":\"ColumnDataSource\"},{\"attributes\":{},\"id\":\"1011\",\"type\":\"LinearScale\"},{\"attributes\":{\"data_source\":{\"id\":\"1024\"},\"glyph\":{\"id\":\"1036\"},\"hover_glyph\":null,\"muted_glyph\":null,\"nonselection_glyph\":{\"id\":\"1037\"},\"selection_glyph\":null,\"view\":{\"id\":\"1039\"}},\"id\":\"1038\",\"type\":\"GlyphRenderer\"},{\"attributes\":{\"fill_alpha\":{\"value\":0.1},\"fill_color\":{\"value\":\"#F38630\"},\"line_alpha\":{\"value\":0.1},\"line_color\":{\"value\":\"#F38630\"},\"size\":{\"units\":\"screen\",\"value\":6},\"x\":{\"field\":\"value\"},\"y\":{\"field\":\"category\"}},\"id\":\"1058\",\"type\":\"Circle\"},{\"attributes\":{},\"id\":\"1086\",\"type\":\"UnionRenderers\"},{\"attributes\":{\"source\":{\"id\":\"1024\"}},\"id\":\"1034\",\"type\":\"CDSView\"},{\"attributes\":{\"source\":{\"id\":\"1024\"}},\"id\":\"1049\",\"type\":\"CDSView\"},{\"attributes\":{\"source\":{\"id\":\"1055\"}},\"id\":\"1060\",\"type\":\"CDSView\"},{\"attributes\":{},\"id\":\"1082\",\"type\":\"UnionRenderers\"},{\"attributes\":{\"ticks\":[1995,1994,1993,1992,1991,1990,1989,1988,1987,1986,1985]},\"id\":\"1063\",\"type\":\"FixedTicker\"},{\"attributes\":{\"data\":{\"category\":[1985,1985,1985,1985,1986,1986,1986,1987,1987,1987,1988,1988,1988,1989,1989,1989,1990,1990,1990,1991,1992,1992,1993,1993,1994,1994,1995,1995],\"index\":[15,25,28,42,63,76,90,111,124,138,159,172,186,207,220,234,255,268,282,303,351,364,399,412,447,460,495,508],\"text\":[\"KY\",\"NC\",\"NH\",\"UT\",\"KY\",\"NH\",\"UT\",\"KY\",\"NH\",\"UT\",\"KY\",\"NH\",\"UT\",\"KY\",\"NH\",\"UT\",\"KY\",\"NH\",\"UT\",\"KY\",\"KY\",\"NH\",\"KY\",\"NH\",\"KY\",\"NH\",\"KY\",\"NH\"],\"value\":[186.035186767578,155.283767700195,197.993988037109,68.046257019043,181.805847167969,190.634140014648,64.76247406005861,175.950057983398,185.19923400878898,68.53396606445311,172.507476806641,176.638961791992,55.7396430969238,176.094650268555,170.497741699219,57.4443130493164,186.481872558594,154.429946899414,53.0143013000488,169.139450073242,164.494445800781,145.58317565918,162.988662719727,149.528915405273,164.808929443359,155.15588378906298,172.64778137207,156.33674621582]},\"selected\":{\"id\":\"1083\"},\"selection_policy\":{\"id\":\"1082\"}},\"id\":\"1055\",\"type\":\"ColumnDataSource\"},{\"attributes\":{\"line_alpha\":0.1,\"line_color\":\"red\",\"line_dash\":[6],\"x\":{\"field\":\"x\"},\"y\":{\"field\":\"y\"}},\"id\":\"1073\",\"type\":\"Line\"},{\"attributes\":{},\"id\":\"1080\",\"type\":\"UnionRenderers\"},{\"attributes\":{\"source\":{\"id\":\"1024\"}},\"id\":\"1029\",\"type\":\"CDSView\"},{\"attributes\":{\"fill_alpha\":{\"value\":0.1},\"fill_color\":{\"value\":\"#1f77b4\"},\"height\":{\"units\":\"data\",\"value\":0.2},\"line_alpha\":{\"value\":0.1},\"width\":{\"units\":\"data\",\"value\":0.01},\"x\":{\"field\":\"lower\"},\"y\":{\"field\":\"category\"}},\"id\":\"1047\",\"type\":\"Rect\"},{\"attributes\":{\"text_align\":\"center\",\"text_baseline\":\"top\",\"text_color\":{\"value\":\"black\"},\"text_font_size\":{\"value\":\"10px\"},\"x\":{\"field\":\"value\"},\"y\":{\"field\":\"category\"},\"y_offset\":{\"value\":5}},\"id\":\"1067\",\"type\":\"Text\"},{\"attributes\":{\"source\":{\"id\":\"1065\"}},\"id\":\"1070\",\"type\":\"CDSView\"},{\"attributes\":{\"data_source\":{\"id\":\"1024\"},\"glyph\":{\"id\":\"1046\"},\"hover_glyph\":null,\"muted_glyph\":null,\"nonselection_glyph\":{\"id\":\"1047\"},\"selection_glyph\":null,\"view\":{\"id\":\"1049\"}},\"id\":\"1048\",\"type\":\"GlyphRenderer\"},{\"attributes\":{\"data_source\":{\"id\":\"1065\"},\"glyph\":{\"id\":\"1067\"},\"hover_glyph\":null,\"muted_glyph\":null,\"nonselection_glyph\":{\"id\":\"1068\"},\"selection_glyph\":null,\"view\":{\"id\":\"1070\"}},\"id\":\"1069\",\"type\":\"GlyphRenderer\"},{\"attributes\":{\"axis\":{\"id\":\"1017\"},\"dimension\":1,\"ticker\":null},\"id\":\"1020\",\"type\":\"Grid\"},{\"attributes\":{\"x0\":{\"field\":\"lower\"},\"x1\":{\"field\":\"q1\"},\"y0\":{\"field\":\"category\"},\"y1\":{\"field\":\"category\"}},\"id\":\"1031\",\"type\":\"Segment\"},{\"attributes\":{\"axis\":{\"id\":\"1013\"},\"ticker\":null},\"id\":\"1016\",\"type\":\"Grid\"},{\"attributes\":{\"fill_alpha\":{\"value\":0.3},\"fill_color\":{\"value\":\"navy\"},\"height\":{\"value\":0.7},\"left\":{\"field\":\"q2\"},\"line_alpha\":{\"value\":0.3},\"right\":{\"field\":\"q1\"},\"y\":{\"field\":\"category\"}},\"id\":\"1041\",\"type\":\"HBar\"},{\"attributes\":{\"fill_color\":{\"value\":\"#1f77b4\"},\"height\":{\"units\":\"data\",\"value\":0.2},\"width\":{\"units\":\"data\",\"value\":0.01},\"x\":{\"field\":\"lower\"},\"y\":{\"field\":\"category\"}},\"id\":\"1046\",\"type\":\"Rect\"},{\"attributes\":{},\"id\":\"1087\",\"type\":\"Selection\"},{\"attributes\":{\"x0\":{\"field\":\"upper\"},\"x1\":{\"field\":\"q3\"},\"y0\":{\"field\":\"category\"},\"y1\":{\"field\":\"category\"}},\"id\":\"1026\",\"type\":\"Segment\"},{\"attributes\":{\"active_drag\":\"auto\",\"active_inspect\":\"auto\",\"active_multi\":null,\"active_scroll\":\"auto\",\"active_tap\":\"auto\",\"tools\":[{\"id\":\"1021\"}]},\"id\":\"1022\",\"type\":\"Toolbar\"}],\"root_ids\":[\"1002\"]},\"title\":\"Bokeh Application\",\"version\":\"2.0.2\"}};\n  var render_items = [{\"docid\":\"6bcbfdcd-021a-4784-83e2-8526e14620c5\",\"notebook_comms_target\":\"1088\",\"root_ids\":[\"1002\"],\"roots\":{\"1002\":\"02ea5bfa-1a58-4e9d-a101-20ddc176a0dc\"}}];\n  root.Bokeh.embed.embed_items_notebook(docs_json, render_items);\n\n  }\n  if (root.Bokeh !== undefined) {\n    embed_document(root);\n  } else {\n    var attempts = 0;\n    var timer = setInterval(function(root) {\n      if (root.Bokeh !== undefined) {\n        clearInterval(timer);\n        embed_document(root);\n      } else {\n        attempts++;\n        if (attempts > 100) {\n          clearInterval(timer);\n          console.log(\"Bokeh: ERROR: Unable to run BokehJS code because BokehJS library is missing\");\n        }\n      }\n    }, 10, root)\n  }\n})(window);",
      "application/vnd.bokehjs_exec.v0+json": ""
     },
     "metadata": {
      "application/vnd.bokehjs_exec.v0+json": {
       "id": "1002"
      }
     }
    },
    {
     "output_type": "execute_result",
     "data": {
      "text/plain": "<__main__.box_plot_app_by_year at 0x1b30ee0c608>"
     },
     "metadata": {},
     "execution_count": 6
    }
   ],
   "source": [
    "class box_plot_app_by_year():\n",
    "    def __init__(self, df):\n",
    "        self.df = df.copy()\n",
    "        self.df['year_str'] = self.df['year'].astype(str)\n",
    "        self.df.sort_values(by='year', inplace=True, ascending=False)\n",
    "        self.data_box_plot, self.data_box_plot_out = generate_box_plot_data(df_cigatette, 'year_str', 'packpc')\n",
    "        self.data_box_plot['category'] = [int(d) for d in self.data_box_plot['category']]\n",
    "        self.data_box_plot_out['category'] = [int(d) for d in self.data_box_plot_out['category']]\n",
    "        self.data_box_plot_out['text'] = self.df.loc[self.data_box_plot_out['index'], 'state'].tolist()\n",
    "\n",
    "        p = figure(title='美国香烟消费 1985～1995', tools=\"save\", \n",
    "                   # background_fill_color=\"#efefef\", \n",
    "                   x_range=[45, 205], \n",
    "                   y_range=[1996, 1984],\n",
    "                   plot_width=800, plot_height=450, \n",
    "                   toolbar_location='right', )\n",
    "        self.data_source = bokeh_box_plot(p, self.data_box_plot, self.data_box_plot_out, all_dot=False)\n",
    "        p.yaxis.axis_label = '<--- 年 --->'\n",
    "        p.xaxis.axis_label = '香烟消费（平均每人每年的包数）'\n",
    "        p.title.text_font_size = '16pt'\n",
    "        p.axis.axis_label_text_font_size = \"12pt\"\n",
    "        p.axis.major_label_text_font_size = \"10pt\"\n",
    "        p.xaxis.ticker.min_interval = 50\n",
    "        p.xaxis.ticker.num_minor_ticks = 5\n",
    "        p.yaxis.ticker = [_ for _ in range(1995, 1984, -1)]\n",
    "        p.text(x='value', y='category', text='text',\n",
    "               text_font_size='10px', text_align='center', text_baseline='top', y_offset=5, \n",
    "               source=self.data_box_plot_out)\n",
    "        p.line(x=[100, 100], y=['1996', '1984'], line_color='red', line_dash='dashed')\n",
    "        self.plot_handler = show(p, notebook_handle=True)\n",
    "        self.figure = p\n",
    "        \n",
    "box_plot_app_by_year(df_cigatette)"
   ]
  },
  {
   "cell_type": "code",
   "execution_count": 7,
   "metadata": {
    "collapsed": true,
    "jupyter": {
     "outputs_hidden": true,
     "source_hidden": true
    }
   },
   "outputs": [
    {
     "output_type": "display_data",
     "data": {
      "text/html": "\n\n\n\n\n\n  <div class=\"bk-root\" id=\"75167476-b758-4144-9ece-20efd185fce6\" data-root-id=\"1161\"></div>\n"
     },
     "metadata": {}
    },
    {
     "output_type": "display_data",
     "data": {
      "application/javascript": "(function(root) {\n  function embed_document(root) {\n    \n  var docs_json = {\"3ef09fdf-d1bb-497b-9431-f50a0a40276f\":{\"roots\":{\"references\":[{\"attributes\":{\"below\":[{\"id\":\"1172\"}],\"center\":[{\"id\":\"1175\"},{\"id\":\"1179\"}],\"left\":[{\"id\":\"1176\"}],\"plot_height\":450,\"plot_width\":800,\"renderers\":[{\"id\":\"1191\"},{\"id\":\"1196\"},{\"id\":\"1202\"},{\"id\":\"1207\"},{\"id\":\"1212\"},{\"id\":\"1217\"},{\"id\":\"1222\"},{\"id\":\"1227\"},{\"id\":\"1233\"}],\"title\":{\"id\":\"1162\"},\"toolbar\":{\"id\":\"1181\"},\"x_range\":{\"id\":\"1164\"},\"x_scale\":{\"id\":\"1168\"},\"y_range\":{\"id\":\"1166\"},\"y_scale\":{\"id\":\"1170\"}},\"id\":\"1161\",\"subtype\":\"Figure\",\"type\":\"Plot\"},{\"attributes\":{\"data_source\":{\"id\":\"1198\"},\"glyph\":{\"id\":\"1200\"},\"hover_glyph\":null,\"muted_glyph\":null,\"nonselection_glyph\":{\"id\":\"1201\"},\"selection_glyph\":null,\"view\":{\"id\":\"1203\"}},\"id\":\"1202\",\"type\":\"GlyphRenderer\"},{\"attributes\":{\"fill_alpha\":{\"value\":0.1},\"fill_color\":{\"value\":\"#1f77b4\"},\"height\":{\"units\":\"data\",\"value\":0.2},\"line_alpha\":{\"value\":0.1},\"width\":{\"units\":\"data\",\"value\":0.01},\"x\":{\"field\":\"lower\"},\"y\":{\"field\":\"category\"}},\"id\":\"1221\",\"type\":\"Rect\"},{\"attributes\":{},\"id\":\"1251\",\"type\":\"UnionRenderers\"},{\"attributes\":{\"data\":{\"category\":[1995,1995,1994,1994,1993,1993,1992,1992,1991,1990,1990,1990,1989,1989,1989,1988,1988,1988,1987,1987,1987,1986,1986,1986,1985,1985,1985,1985],\"index\":[495,508,447,460,399,412,351,364,303,268,282,255,207,234,220,159,186,172,111,138,124,63,90,76,15,25,42,28],\"text\":[\"KY\",\"NH\",\"KY\",\"NH\",\"KY\",\"NH\",\"KY\",\"NH\",\"KY\",\"NH\",\"UT\",\"KY\",\"KY\",\"UT\",\"NH\",\"KY\",\"UT\",\"NH\",\"KY\",\"UT\",\"NH\",\"KY\",\"UT\",\"NH\",\"KY\",\"NC\",\"UT\",\"NH\"],\"value\":[172.64778137207,156.33674621582,164.808929443359,155.15588378906298,162.988662719727,149.528915405273,164.494445800781,145.58317565918,169.139450073242,154.429946899414,53.0143013000488,186.481872558594,176.094650268555,57.4443130493164,170.497741699219,172.507476806641,55.7396430969238,176.638961791992,175.950057983398,68.53396606445311,185.19923400878898,181.805847167969,64.76247406005861,190.634140014648,186.035186767578,155.283767700195,68.046257019043,197.993988037109]},\"selected\":{\"id\":\"1252\"},\"selection_policy\":{\"id\":\"1251\"}},\"id\":\"1187\",\"type\":\"ColumnDataSource\"},{\"attributes\":{\"data_source\":{\"id\":\"1187\"},\"glyph\":{\"id\":\"1189\"},\"hover_glyph\":null,\"muted_glyph\":null,\"nonselection_glyph\":{\"id\":\"1190\"},\"selection_glyph\":null,\"view\":{\"id\":\"1192\"}},\"id\":\"1191\",\"type\":\"GlyphRenderer\"},{\"attributes\":{\"data_source\":{\"id\":\"1198\"},\"glyph\":{\"id\":\"1220\"},\"hover_glyph\":null,\"muted_glyph\":null,\"nonselection_glyph\":{\"id\":\"1221\"},\"selection_glyph\":null,\"view\":{\"id\":\"1223\"}},\"id\":\"1222\",\"type\":\"GlyphRenderer\"},{\"attributes\":{\"axis\":{\"id\":\"1176\"},\"dimension\":1,\"ticker\":null},\"id\":\"1179\",\"type\":\"Grid\"},{\"attributes\":{\"fill_alpha\":{\"value\":0.1},\"fill_color\":{\"value\":\"navy\"},\"height\":{\"value\":0.7},\"left\":{\"field\":\"q3\"},\"line_alpha\":{\"value\":0.1},\"right\":{\"field\":\"q2\"},\"y\":{\"field\":\"category\"}},\"id\":\"1211\",\"type\":\"HBar\"},{\"attributes\":{\"source\":{\"id\":\"1193\"}},\"id\":\"1197\",\"type\":\"CDSView\"},{\"attributes\":{\"fill_color\":{\"value\":\"#1f77b4\"},\"height\":{\"units\":\"data\",\"value\":0.2},\"width\":{\"units\":\"data\",\"value\":0.01},\"x\":{\"field\":\"lower\"},\"y\":{\"field\":\"category\"}},\"id\":\"1220\",\"type\":\"Rect\"},{\"attributes\":{\"end\":205,\"start\":45},\"id\":\"1164\",\"type\":\"Range1d\"},{\"attributes\":{\"source\":{\"id\":\"1198\"}},\"id\":\"1203\",\"type\":\"CDSView\"},{\"attributes\":{\"source\":{\"id\":\"1198\"}},\"id\":\"1213\",\"type\":\"CDSView\"},{\"attributes\":{\"axis_label\":\"\\u9999\\u70df\\u6d88\\u8d39\\uff08\\u5e73\\u5747\\u6bcf\\u4eba\\u6bcf\\u5e74\\u7684\\u5305\\u6570\\uff09\",\"axis_label_text_font_size\":\"12pt\",\"formatter\":{\"id\":\"1250\"},\"major_label_text_font_size\":\"10pt\",\"ticker\":{\"id\":\"1173\"}},\"id\":\"1172\",\"type\":\"LinearAxis\"},{\"attributes\":{},\"id\":\"1168\",\"type\":\"LinearScale\"},{\"attributes\":{\"source\":{\"id\":\"1198\"}},\"id\":\"1223\",\"type\":\"CDSView\"},{\"attributes\":{\"ticks\":[1995,1994,1993,1992,1991,1990,1989,1988,1987,1986,1985]},\"id\":\"1185\",\"type\":\"FixedTicker\"},{\"attributes\":{\"min_interval\":50},\"id\":\"1173\",\"type\":\"BasicTicker\"},{\"attributes\":{\"line_alpha\":0.1,\"line_color\":\"red\",\"line_dash\":[6],\"x\":{\"field\":\"x\"},\"y\":{\"field\":\"y\"}},\"id\":\"1195\",\"type\":\"Line\"},{\"attributes\":{\"data_source\":{\"id\":\"1193\"},\"glyph\":{\"id\":\"1194\"},\"hover_glyph\":null,\"muted_glyph\":null,\"nonselection_glyph\":{\"id\":\"1195\"},\"selection_glyph\":null,\"view\":{\"id\":\"1197\"}},\"id\":\"1196\",\"type\":\"GlyphRenderer\"},{\"attributes\":{\"text_align\":\"center\",\"text_alpha\":{\"value\":0.1},\"text_baseline\":\"top\",\"text_color\":{\"value\":\"black\"},\"text_font_size\":{\"value\":\"10px\"},\"x\":{\"field\":\"value\"},\"y\":{\"field\":\"category\"},\"y_offset\":{\"value\":5}},\"id\":\"1190\",\"type\":\"Text\"},{\"attributes\":{\"data\":{\"category\":[1995,1995,1994,1994,1993,1993,1992,1992,1991,1990,1990,1990,1989,1989,1989,1988,1988,1988,1987,1987,1987,1986,1986,1986,1985,1985,1985,1985],\"index\":[495,508,447,460,399,412,351,364,303,268,282,255,207,234,220,159,186,172,111,138,124,63,90,76,15,25,42,28],\"text\":[\"KY\",\"NH\",\"KY\",\"NH\",\"KY\",\"NH\",\"KY\",\"NH\",\"KY\",\"NH\",\"UT\",\"KY\",\"KY\",\"UT\",\"NH\",\"KY\",\"UT\",\"NH\",\"KY\",\"UT\",\"NH\",\"KY\",\"UT\",\"NH\",\"KY\",\"NC\",\"UT\",\"NH\"],\"value\":[172.64778137207,156.33674621582,164.808929443359,155.15588378906298,162.988662719727,149.528915405273,164.494445800781,145.58317565918,169.139450073242,154.429946899414,53.0143013000488,186.481872558594,176.094650268555,57.4443130493164,170.497741699219,172.507476806641,55.7396430969238,176.638961791992,175.950057983398,68.53396606445311,185.19923400878898,181.805847167969,64.76247406005861,190.634140014648,186.035186767578,155.283767700195,68.046257019043,197.993988037109]},\"selected\":{\"id\":\"1258\"},\"selection_policy\":{\"id\":\"1257\"}},\"id\":\"1229\",\"type\":\"ColumnDataSource\"},{\"attributes\":{},\"id\":\"1250\",\"type\":\"BasicTickFormatter\"},{\"attributes\":{\"fill_alpha\":{\"value\":0.1},\"fill_color\":{\"value\":\"#1f77b4\"},\"height\":{\"units\":\"data\",\"value\":0.2},\"line_alpha\":{\"value\":0.1},\"width\":{\"units\":\"data\",\"value\":0.01},\"x\":{\"field\":\"upper\"},\"y\":{\"field\":\"category\"}},\"id\":\"1226\",\"type\":\"Rect\"},{\"attributes\":{\"data_source\":{\"id\":\"1198\"},\"glyph\":{\"id\":\"1205\"},\"hover_glyph\":null,\"muted_glyph\":null,\"nonselection_glyph\":{\"id\":\"1206\"},\"selection_glyph\":null,\"view\":{\"id\":\"1208\"}},\"id\":\"1207\",\"type\":\"GlyphRenderer\"},{\"attributes\":{\"data_source\":{\"id\":\"1198\"},\"glyph\":{\"id\":\"1225\"},\"hover_glyph\":null,\"muted_glyph\":null,\"nonselection_glyph\":{\"id\":\"1226\"},\"selection_glyph\":null,\"view\":{\"id\":\"1228\"}},\"id\":\"1227\",\"type\":\"GlyphRenderer\"},{\"attributes\":{\"line_alpha\":{\"value\":0.1},\"x0\":{\"field\":\"upper\"},\"x1\":{\"field\":\"q3\"},\"y0\":{\"field\":\"category\"},\"y1\":{\"field\":\"category\"}},\"id\":\"1201\",\"type\":\"Segment\"},{\"attributes\":{},\"id\":\"1257\",\"type\":\"UnionRenderers\"},{\"attributes\":{\"text\":\"\\u7f8e\\u56fd\\u9999\\u70df\\u6d88\\u8d39 1985\\uff5e1995\",\"text_font_size\":{\"value\":\"16pt\"}},\"id\":\"1162\",\"type\":\"Title\"},{\"attributes\":{\"data_source\":{\"id\":\"1198\"},\"glyph\":{\"id\":\"1210\"},\"hover_glyph\":null,\"muted_glyph\":null,\"nonselection_glyph\":{\"id\":\"1211\"},\"selection_glyph\":null,\"view\":{\"id\":\"1213\"}},\"id\":\"1212\",\"type\":\"GlyphRenderer\"},{\"attributes\":{\"fill_color\":{\"value\":\"#1f77b4\"},\"height\":{\"units\":\"data\",\"value\":0.2},\"width\":{\"units\":\"data\",\"value\":0.01},\"x\":{\"field\":\"upper\"},\"y\":{\"field\":\"category\"}},\"id\":\"1225\",\"type\":\"Rect\"},{\"attributes\":{\"source\":{\"id\":\"1187\"}},\"id\":\"1192\",\"type\":\"CDSView\"},{\"attributes\":{\"data\":{\"category\":[1995,1994,1993,1992,1991,1990,1989,1988,1987,1986,1985],\"iqr\":[29.04055404663073,23.038492202758874,25.513845443725742,23.68728637695341,25.014982223510586,24.28549957275426,24.87337112426735,26.60891342163086,19.42494201660125,21.156475067138757,16.795801162720238],\"lower\":[49.2721977233887,51.128345489502,52.0790863037109,52.5391731262207,52.48481750488279,55.05835533142034,58.36456298828162,59.1317081451416,76.78238296508837,74.8084526062011,86.76143932342416],\"q1\":[80.23026847839353,81.14431381225587,81.73361778259277,84.51738166809085,86.9193458557129,91.48660469055173,95.67461967468265,99.04507827758789,105.91979598999025,106.54316520690924,111.95514106750451],\"q2\":[92.83717727661136,92.7948913574219,93.18803787231445,95.07263946533205,97.89229583740236,100.3011665344239,108.162742614746,111.37923049926749,113.1732788085935,116.200477600098,118.578411102295],\"q3\":[109.27082252502426,104.18280601501475,107.24746322631852,108.20466804504426,111.93432807922349,115.77210426330599,120.54799079895,125.65399169921875,125.3447380065915,127.699640274048,128.75094223022475],\"qmax\":[172.64778137207,164.808929443359,162.988662719727,164.494445800781,169.139450073242,186.481872558594,176.094650268555,176.638961791992,185.19923400878898,190.634140014648,197.993988037109],\"qmin\":[49.2721977233887,51.128345489502,52.0790863037109,52.5391731262207,52.48481750488279,53.0143013000488,57.4443130493164,55.7396430969238,68.53396606445311,64.76247406005861,68.046257019043],\"upper\":[152.83165359497036,138.74054431915306,145.51823139190714,143.73559761047437,149.45680141448938,152.20035362243738,157.85804748535102,165.56736183166504,154.48215103149337,159.43435287475614,153.9446439743051]},\"selected\":{\"id\":\"1256\"},\"selection_policy\":{\"id\":\"1255\"}},\"id\":\"1198\",\"type\":\"ColumnDataSource\"},{\"attributes\":{\"line_alpha\":{\"value\":0.1},\"x0\":{\"field\":\"lower\"},\"x1\":{\"field\":\"q1\"},\"y0\":{\"field\":\"category\"},\"y1\":{\"field\":\"category\"}},\"id\":\"1206\",\"type\":\"Segment\"},{\"attributes\":{\"fill_alpha\":{\"value\":0.5},\"fill_color\":{\"value\":\"navy\"},\"height\":{\"value\":0.7},\"left\":{\"field\":\"q3\"},\"line_alpha\":{\"value\":0.5},\"right\":{\"field\":\"q2\"},\"y\":{\"field\":\"category\"}},\"id\":\"1210\",\"type\":\"HBar\"},{\"attributes\":{\"x0\":{\"field\":\"upper\"},\"x1\":{\"field\":\"q3\"},\"y0\":{\"field\":\"category\"},\"y1\":{\"field\":\"category\"}},\"id\":\"1200\",\"type\":\"Segment\"},{\"attributes\":{\"source\":{\"id\":\"1198\"}},\"id\":\"1228\",\"type\":\"CDSView\"},{\"attributes\":{\"end\":1984,\"start\":1996},\"id\":\"1166\",\"type\":\"Range1d\"},{\"attributes\":{},\"id\":\"1252\",\"type\":\"Selection\"},{\"attributes\":{\"active_drag\":\"auto\",\"active_inspect\":\"auto\",\"active_multi\":null,\"active_scroll\":\"auto\",\"active_tap\":\"auto\",\"tools\":[{\"id\":\"1180\"}]},\"id\":\"1181\",\"type\":\"Toolbar\"},{\"attributes\":{},\"id\":\"1255\",\"type\":\"UnionRenderers\"},{\"attributes\":{\"line_color\":\"red\",\"line_dash\":[6],\"x\":{\"field\":\"x\"},\"y\":{\"field\":\"y\"}},\"id\":\"1194\",\"type\":\"Line\"},{\"attributes\":{\"data\":{\"x\":[100,100],\"y\":[\"1996\",\"1984\"]},\"selected\":{\"id\":\"1254\"},\"selection_policy\":{\"id\":\"1253\"}},\"id\":\"1193\",\"type\":\"ColumnDataSource\"},{\"attributes\":{\"axis_label\":\"<--- \\u5e74 --->\",\"axis_label_text_font_size\":\"12pt\",\"formatter\":{\"id\":\"1248\"},\"major_label_text_font_size\":\"10pt\",\"ticker\":{\"id\":\"1185\"}},\"id\":\"1176\",\"type\":\"LinearAxis\"},{\"attributes\":{\"fill_alpha\":{\"value\":0.3},\"fill_color\":{\"value\":\"navy\"},\"height\":{\"value\":0.7},\"left\":{\"field\":\"q2\"},\"line_alpha\":{\"value\":0.3},\"right\":{\"field\":\"q1\"},\"y\":{\"field\":\"category\"}},\"id\":\"1215\",\"type\":\"HBar\"},{\"attributes\":{},\"id\":\"1258\",\"type\":\"Selection\"},{\"attributes\":{\"fill_alpha\":{\"value\":0.1},\"fill_color\":{\"value\":\"navy\"},\"height\":{\"value\":0.7},\"left\":{\"field\":\"q2\"},\"line_alpha\":{\"value\":0.1},\"right\":{\"field\":\"q1\"},\"y\":{\"field\":\"category\"}},\"id\":\"1216\",\"type\":\"HBar\"},{\"attributes\":{\"fill_color\":{\"value\":\"#F38630\"},\"line_color\":{\"value\":\"#F38630\"},\"size\":{\"units\":\"screen\",\"value\":6},\"x\":{\"field\":\"value\"},\"y\":{\"field\":\"category\"}},\"id\":\"1231\",\"type\":\"Circle\"},{\"attributes\":{},\"id\":\"1248\",\"type\":\"BasicTickFormatter\"},{\"attributes\":{\"axis\":{\"id\":\"1172\"},\"ticker\":null},\"id\":\"1175\",\"type\":\"Grid\"},{\"attributes\":{},\"id\":\"1180\",\"type\":\"SaveTool\"},{\"attributes\":{\"text_align\":\"center\",\"text_baseline\":\"top\",\"text_color\":{\"value\":\"black\"},\"text_font_size\":{\"value\":\"10px\"},\"x\":{\"field\":\"value\"},\"y\":{\"field\":\"category\"},\"y_offset\":{\"value\":5}},\"id\":\"1189\",\"type\":\"Text\"},{\"attributes\":{\"x0\":{\"field\":\"lower\"},\"x1\":{\"field\":\"q1\"},\"y0\":{\"field\":\"category\"},\"y1\":{\"field\":\"category\"}},\"id\":\"1205\",\"type\":\"Segment\"},{\"attributes\":{},\"id\":\"1170\",\"type\":\"LinearScale\"},{\"attributes\":{\"data_source\":{\"id\":\"1198\"},\"glyph\":{\"id\":\"1215\"},\"hover_glyph\":null,\"muted_glyph\":null,\"nonselection_glyph\":{\"id\":\"1216\"},\"selection_glyph\":null,\"view\":{\"id\":\"1218\"}},\"id\":\"1217\",\"type\":\"GlyphRenderer\"},{\"attributes\":{},\"id\":\"1254\",\"type\":\"Selection\"},{\"attributes\":{\"data_source\":{\"id\":\"1229\"},\"glyph\":{\"id\":\"1231\"},\"hover_glyph\":null,\"muted_glyph\":null,\"nonselection_glyph\":{\"id\":\"1232\"},\"selection_glyph\":null,\"view\":{\"id\":\"1234\"}},\"id\":\"1233\",\"type\":\"GlyphRenderer\"},{\"attributes\":{\"fill_alpha\":{\"value\":0.1},\"fill_color\":{\"value\":\"#F38630\"},\"line_alpha\":{\"value\":0.1},\"line_color\":{\"value\":\"#F38630\"},\"size\":{\"units\":\"screen\",\"value\":6},\"x\":{\"field\":\"value\"},\"y\":{\"field\":\"category\"}},\"id\":\"1232\",\"type\":\"Circle\"},{\"attributes\":{},\"id\":\"1256\",\"type\":\"Selection\"},{\"attributes\":{\"source\":{\"id\":\"1198\"}},\"id\":\"1208\",\"type\":\"CDSView\"},{\"attributes\":{\"source\":{\"id\":\"1198\"}},\"id\":\"1218\",\"type\":\"CDSView\"},{\"attributes\":{\"source\":{\"id\":\"1229\"}},\"id\":\"1234\",\"type\":\"CDSView\"},{\"attributes\":{},\"id\":\"1253\",\"type\":\"UnionRenderers\"}],\"root_ids\":[\"1161\"]},\"title\":\"Bokeh Application\",\"version\":\"2.0.2\"}};\n  var render_items = [{\"docid\":\"3ef09fdf-d1bb-497b-9431-f50a0a40276f\",\"root_ids\":[\"1161\"],\"roots\":{\"1161\":\"75167476-b758-4144-9ece-20efd185fce6\"}}];\n  root.Bokeh.embed.embed_items_notebook(docs_json, render_items);\n\n  }\n  if (root.Bokeh !== undefined) {\n    embed_document(root);\n  } else {\n    var attempts = 0;\n    var timer = setInterval(function(root) {\n      if (root.Bokeh !== undefined) {\n        clearInterval(timer);\n        embed_document(root);\n      } else {\n        attempts++;\n        if (attempts > 100) {\n          clearInterval(timer);\n          console.log(\"Bokeh: ERROR: Unable to run BokehJS code because BokehJS library is missing\");\n        }\n      }\n    }, 10, root)\n  }\n})(window);",
      "application/vnd.bokehjs_exec.v0+json": ""
     },
     "metadata": {
      "application/vnd.bokehjs_exec.v0+json": {
       "id": "1161"
      }
     }
    }
   ],
   "source": [
    "df_cigatette.sort_values(by='year', inplace=True, ascending=False)\n",
    "data_box_plot, data_box_plot_out = generate_box_plot_data(df_cigatette, 'year_str', 'packpc')\n",
    "\n",
    "#\n",
    "data_box_plot['category'] = [int(d) for d in data_box_plot['category']]\n",
    "data_box_plot_out['category'] = [int(d) for d in data_box_plot_out['category']]\n",
    "#\n",
    "\n",
    "p = figure(title='美国香烟消费 1985～1995', tools=\"save\", \n",
    "           # background_fill_color=\"#efefef\", \n",
    "           x_range=[45, 205], \n",
    "           y_range=[1996, 1984],\n",
    "           plot_width=800, plot_height=450, \n",
    "           toolbar_location='right', )\n",
    "p.yaxis.axis_label = '<--- 年 --->'\n",
    "p.xaxis.axis_label = '香烟消费（平均每人每年的包数）'\n",
    "p.title.text_font_size = '16pt'\n",
    "p.axis.axis_label_text_font_size = \"12pt\"\n",
    "p.axis.major_label_text_font_size = \"10pt\"\n",
    "p.xaxis.ticker.min_interval = 50\n",
    "p.xaxis.ticker.num_minor_ticks = 5\n",
    "p.yaxis.ticker = [_ for _ in range(1995, 1984, -1)]\n",
    "\n",
    "#     if all_dot:\n",
    "#         p.circle(df[column], df[by], size=4, color=\"black\", fill_alpha=0.3)\n",
    "# p.xaxis.ticker = [50, 100, 150, 200]\n",
    "# p.yaxis.ticker = ['1']\n",
    "# p.xaxis.ticker.minor_ticks = [51]\n",
    "# p.ygrid.grid_line_color = \"grey\"\n",
    "# p.grid.grid_line_width = 0.5\n",
    "\n",
    "data_box_plot_out['text'] = df_cigatette.loc[data_box_plot_out['index'], 'state'].tolist()\n",
    "p.text(x='value', y='category', text='text',\n",
    "       text_font_size='10px', text_align='center', text_baseline='top', y_offset=5, source=data_box_plot_out)\n",
    "p.line(x=[100, 100], y=['1996', '1984'], line_color='red', line_dash='dashed')\n",
    "\n",
    "bokeh_box_plot(p, data_box_plot, data_box_plot_out, all_dot=False)\n",
    "show(p)"
   ]
  },
  {
   "cell_type": "markdown",
   "metadata": {},
   "source": [
    "---"
   ]
  },
  {
   "cell_type": "code",
   "execution_count": 8,
   "metadata": {},
   "outputs": [],
   "source": [
    "class box_plot_app_by_state():\n",
    "    def __init__(self, df):\n",
    "        self.df = df.copy()\n",
    "        self.df.sort_values(by='state', inplace=True, ascending=True)\n",
    "        self.data_box_plot, self.data_box_plot_out = generate_box_plot_data(df_cigatette, 'state_fn', 'packpc')\n",
    "        self.df_box_plot = pd.DataFrame(self.data_box_plot)\n",
    "\n",
    "        p = figure(title='美国香烟消费 1985～1995', tools=\"save\", \n",
    "                   # background_fill_color=\"#efefef\", \n",
    "                   x_range=[45, 205], \n",
    "                   y_range=self.data_box_plot['category'], \n",
    "                   plot_width=800, plot_height=1000, \n",
    "                   toolbar_location='right', )\n",
    "        self.data_source = bokeh_box_plot(p, self.data_box_plot, self.data_box_plot_out, all_dot=False)\n",
    "        p.yaxis.axis_label = ''\n",
    "        p.xaxis.axis_label = '香烟消费（平均每人每年的包数）'\n",
    "        p.title.text_font_size = '16pt'\n",
    "        p.axis.axis_label_text_font_size = \"12pt\"\n",
    "        p.axis.major_label_text_font_size = \"10pt\"\n",
    "        p.xaxis.ticker.min_interval = 50\n",
    "        p.xaxis.ticker.num_minor_ticks = 5\n",
    "        \n",
    "        self.plot_handler = show(p, notebook_handle=True)\n",
    "        self.figure = p\n",
    "\n",
    "    def update_app(self, sort_column):\n",
    "        self.df_box_plot.sort_values(by=sort_column, inplace=True)\n",
    "        self.data_box_plot = self.df_box_plot.to_dict('list')\n",
    "        self.figure.y_range.factors = self.data_box_plot['category']\n",
    "        push_notebook(handle=self.plot_handler)\n"
   ]
  },
  {
   "cell_type": "code",
   "execution_count": 9,
   "metadata": {},
   "outputs": [
    {
     "output_type": "display_data",
     "data": {
      "text/plain": "Dropdown(description='排序方式：', layout=Layout(width='400px'), options=('美国州', '香烟消费中值（包/人/年）', '香烟消费 IQR（包/人/年）'…",
      "application/vnd.jupyter.widget-view+json": {
       "version_major": 2,
       "version_minor": 0,
       "model_id": "ff4d69c7890745739dfbf3331e1c97da"
      }
     },
     "metadata": {}
    },
    {
     "output_type": "display_data",
     "data": {
      "text/html": "\n\n\n\n\n\n  <div class=\"bk-root\" id=\"756c3718-d53e-4cd7-ac29-03128c7ddc09\" data-root-id=\"1331\"></div>\n"
     },
     "metadata": {}
    },
    {
     "output_type": "display_data",
     "data": {
      "application/javascript": "(function(root) {\n  function embed_document(root) {\n    \n  var docs_json = {\"4df265a3-7ffe-4a9f-bd47-efa283e91d7b\":{\"roots\":{\"references\":[{\"attributes\":{\"below\":[{\"id\":\"1342\"}],\"center\":[{\"id\":\"1345\"},{\"id\":\"1348\"}],\"left\":[{\"id\":\"1346\"}],\"plot_height\":1000,\"plot_width\":800,\"renderers\":[{\"id\":\"1356\"},{\"id\":\"1361\"},{\"id\":\"1366\"},{\"id\":\"1371\"},{\"id\":\"1376\"},{\"id\":\"1381\"},{\"id\":\"1387\"}],\"title\":{\"id\":\"1332\"},\"toolbar\":{\"id\":\"1350\"},\"x_range\":{\"id\":\"1334\"},\"x_scale\":{\"id\":\"1338\"},\"y_range\":{\"id\":\"1336\"},\"y_scale\":{\"id\":\"1340\"}},\"id\":\"1331\",\"subtype\":\"Figure\",\"type\":\"Plot\"},{\"attributes\":{},\"id\":\"1340\",\"type\":\"CategoricalScale\"},{\"attributes\":{\"fill_alpha\":{\"value\":0.1},\"fill_color\":{\"value\":\"#1f77b4\"},\"height\":{\"units\":\"data\",\"value\":0.2},\"line_alpha\":{\"value\":0.1},\"width\":{\"units\":\"data\",\"value\":0.01},\"x\":{\"field\":\"upper\"},\"y\":{\"field\":\"category\"}},\"id\":\"1380\",\"type\":\"Rect\"},{\"attributes\":{\"data_source\":{\"id\":\"1352\"},\"glyph\":{\"id\":\"1359\"},\"hover_glyph\":null,\"muted_glyph\":null,\"nonselection_glyph\":{\"id\":\"1360\"},\"selection_glyph\":null,\"view\":{\"id\":\"1362\"}},\"id\":\"1361\",\"type\":\"GlyphRenderer\"},{\"attributes\":{\"data_source\":{\"id\":\"1352\"},\"glyph\":{\"id\":\"1374\"},\"hover_glyph\":null,\"muted_glyph\":null,\"nonselection_glyph\":{\"id\":\"1375\"},\"selection_glyph\":null,\"view\":{\"id\":\"1377\"}},\"id\":\"1376\",\"type\":\"GlyphRenderer\"},{\"attributes\":{\"fill_color\":{\"value\":\"#F38630\"},\"line_color\":{\"value\":\"#F38630\"},\"size\":{\"units\":\"screen\",\"value\":6},\"x\":{\"field\":\"value\"},\"y\":{\"field\":\"category\"}},\"id\":\"1385\",\"type\":\"Circle\"},{\"attributes\":{\"fill_color\":{\"value\":\"#1f77b4\"},\"height\":{\"units\":\"data\",\"value\":0.2},\"width\":{\"units\":\"data\",\"value\":0.01},\"x\":{\"field\":\"lower\"},\"y\":{\"field\":\"category\"}},\"id\":\"1374\",\"type\":\"Rect\"},{\"attributes\":{\"min_interval\":50},\"id\":\"1343\",\"type\":\"BasicTicker\"},{\"attributes\":{\"x0\":{\"field\":\"upper\"},\"x1\":{\"field\":\"q3\"},\"y0\":{\"field\":\"category\"},\"y1\":{\"field\":\"category\"}},\"id\":\"1354\",\"type\":\"Segment\"},{\"attributes\":{\"data\":{\"category\":[\"Michigan\",\"Vermont\",\"West Virginia\",\"West Virginia\"],\"index\":[500,44,479,383],\"value\":[81.3882522583008,145.283020019531,102.22766876220699,96.5957717895508]},\"selected\":{\"id\":\"1423\"},\"selection_policy\":{\"id\":\"1422\"}},\"id\":\"1383\",\"type\":\"ColumnDataSource\"},{\"attributes\":{},\"id\":\"1422\",\"type\":\"UnionRenderers\"},{\"attributes\":{},\"id\":\"1338\",\"type\":\"LinearScale\"},{\"attributes\":{},\"id\":\"1420\",\"type\":\"UnionRenderers\"},{\"attributes\":{},\"id\":\"1347\",\"type\":\"CategoricalTicker\"},{\"attributes\":{\"active_drag\":\"auto\",\"active_inspect\":\"auto\",\"active_multi\":null,\"active_scroll\":\"auto\",\"active_tap\":\"auto\",\"tools\":[{\"id\":\"1349\"}]},\"id\":\"1350\",\"type\":\"Toolbar\"},{\"attributes\":{\"data_source\":{\"id\":\"1383\"},\"glyph\":{\"id\":\"1385\"},\"hover_glyph\":null,\"muted_glyph\":null,\"nonselection_glyph\":{\"id\":\"1386\"},\"selection_glyph\":null,\"view\":{\"id\":\"1388\"}},\"id\":\"1387\",\"type\":\"GlyphRenderer\"},{\"attributes\":{\"fill_alpha\":{\"value\":0.1},\"fill_color\":{\"value\":\"navy\"},\"height\":{\"value\":0.7},\"left\":{\"field\":\"q2\"},\"line_alpha\":{\"value\":0.1},\"right\":{\"field\":\"q1\"},\"y\":{\"field\":\"category\"}},\"id\":\"1370\",\"type\":\"HBar\"},{\"attributes\":{\"axis_label\":\"\\u9999\\u70df\\u6d88\\u8d39\\uff08\\u5e73\\u5747\\u6bcf\\u4eba\\u6bcf\\u5e74\\u7684\\u5305\\u6570\\uff09\",\"axis_label_text_font_size\":\"12pt\",\"formatter\":{\"id\":\"1419\"},\"major_label_text_font_size\":\"10pt\",\"ticker\":{\"id\":\"1343\"}},\"id\":\"1342\",\"type\":\"LinearAxis\"},{\"attributes\":{\"end\":205,\"start\":45},\"id\":\"1334\",\"type\":\"Range1d\"},{\"attributes\":{\"data_source\":{\"id\":\"1352\"},\"glyph\":{\"id\":\"1354\"},\"hover_glyph\":null,\"muted_glyph\":null,\"nonselection_glyph\":{\"id\":\"1355\"},\"selection_glyph\":null,\"view\":{\"id\":\"1357\"}},\"id\":\"1356\",\"type\":\"GlyphRenderer\"},{\"attributes\":{},\"id\":\"1349\",\"type\":\"SaveTool\"},{\"attributes\":{\"line_alpha\":{\"value\":0.1},\"x0\":{\"field\":\"upper\"},\"x1\":{\"field\":\"q3\"},\"y0\":{\"field\":\"category\"},\"y1\":{\"field\":\"category\"}},\"id\":\"1355\",\"type\":\"Segment\"},{\"attributes\":{\"data\":{\"category\":[\"Wyoming\",\"Montana\",\"Missouri\",\"Minnesota\",\"Michigan\",\"Maine\",\"Maryland\",\"Massachusetts\",\"Louisiana\",\"Kentucky\",\"Kansas\",\"Illinois\",\"Idaho\",\"Iowa\",\"Georgia\",\"Florida\",\"Delaware\",\"Connecticut\",\"Colorado\",\"California\",\"Arizona\",\"Arkansas\",\"Alabama\",\"Mississippi\",\"Indiana\",\"North Carolina\",\"Rhode Island\",\"North Dakota\",\"Wisconsin\",\"Washington\",\"Vermont\",\"Virginia\",\"Utah\",\"Texas\",\"Tennessee\",\"South Dakota\",\"South Carolina\",\"West Virginia\",\"Pennsylvania\",\"Nevada\",\"New Hampshire\",\"New Jersey\",\"New Mexico\",\"Nebraska\",\"New York\",\"Ohio\",\"Oklahoma\",\"Oregon\"],\"iqr\":[14.889709472656506,9.71343231201169,9.135681152343523,16.44386291503892,14.327178955078494,10.638618469237997,28.48239135742159,23.123931884765796,13.427616119385007,11.976058959961506,16.688297271728814,18.180763244629205,14.130844116210923,12.390117645263501,18.859844207763004,25.05410003662118,16.35358810424802,23.217800140380888,16.16890335083015,26.35788536071773,24.102413177490178,11.767524719237983,9.617187499999986,8.751754760742003,10.059707641601506,21.296043395995994,29.431758880615135,13.447998046875,10.90802001953088,11.741065979003892,7.5586891174314985,22.777477264403984,8.821441650390653,24.719699859619283,9.278099060058494,6.697147369384808,15.341545104980526,4.224700927734489,14.961063385009538,35.26108932495137,28.93966674804696,25.531467437743913,13.324932098388643,11.14297485351561,27.755725860595803,12.998950958252479,23.632369995117344,13.199657440185206],\"lower\":[103.83065032959,81.5596618652344,117.245948791504,79.5938034057617,86.21648788452076,102.368370056152,77.4735488891602,76.6206436157227,103.610824584961,162.988662719727,86.9559097290039,83.26507568359379,74.8497848510742,90.8341598510742,97.4746246337891,90.46829223632808,116.92974853515601,77.6233596801758,82.1311950683594,56.8593063354492,71.9541702270508,101.629341125488,101.085433959961,102.521156311035,123.55389404296899,108.15811920166,92.5998001098633,74.4381332397461,88.6393280029297,65.5309219360352,116.027069091797,102.12233734130899,49.2721977233887,73.0793075561523,114.138710021973,89.0740509033203,108.082748413086,103.97510528564428,93.8685684204102,93.52611541748051,145.58317565918,80.3713684082031,64.4154891967773,84.0553283691406,70.81732177734371,106.67374420166,83.9623260498047,91.0874862670898],\"q1\":[106.36409378051749,83.23881912231445,120.2552871704105,82.81221771240234,107.7072563171385,111.68927764892601,85.7885513305664,87.8729133605957,105.760116577148,166.9741897583005,88.75444793701169,92.8352165222168,80.66806793212893,93.1561279296875,105.3745155334475,93.58991241455081,120.3846168518065,82.0173568725586,83.69401168823245,64.0668773651123,75.80344009399411,113.64860916137701,105.930362701416,104.01459121704099,126.25912475585949,125.5416564941405,97.86822509765635,81.6005630493164,93.4766426086426,75.97804260253906,120.6938400268555,105.79280853271501,52.28195190429685,76.33297348022461,119.0096740722655,91.3377571105957,111.05340957641599,110.31215667724601,95.64799118041995,100.09045028686515,151.97943115234352,83.8710021972656,67.45474243164065,89.25045776367185,80.1351776123047,111.11989212036102,90.16423034667964,95.43965148925781],\"q2\":[112.238136291504,87.1595687866211,122.45027923584,89.4631118774414,114.741889953613,116.314926147461,99.9701690673828,97.5465621948242,107.43796539306601,172.64778137207,95.45758056640629,95.9991226196289,83.8427429199219,97.0046920776367,112.640670776367,105.742919921875,124.466598510742,90.8163299560547,89.1381072998047,74.20005798339841,85.81005859375,122.80477142334,109.205955505371,105.582450866699,134.258346557617,131.60607910156298,104.084701538086,85.30445861816409,94.71649169921879,78.74256896972659,122.580711364746,115.74748229980499,53.0143013000488,85.0116882324219,123.21530914306601,91.9730377197266,120.21452331543001,111.993370056152,102.54208374023399,120.545303344727,156.33674621582,98.4767913818359,71.5820999145508,91.71456909179692,93.86843872070308,115.84597015380899,102.63491821289101,98.7914505004883],\"q3\":[121.253803253174,92.95225143432614,129.39096832275402,99.25608062744126,122.034435272217,122.327896118164,114.270942687988,110.9968452453615,119.187732696533,178.950248718262,105.4427452087405,111.015979766846,94.79891204833986,105.546245574951,124.2343597412105,118.64401245117199,136.73820495605452,105.23515701293948,99.8629150390626,90.42476272583004,99.90585327148429,125.41613388061499,115.54755020141599,112.76634597778299,136.318832397461,146.8376998901365,127.29998397827148,95.0485610961914,104.38466262817349,87.71910858154295,128.252529144287,128.570285797119,61.1033935546875,101.05267333984389,128.287773132324,98.03490447998051,126.39495468139651,114.5368576049805,110.60905456542949,135.35153961181652,180.91909790039048,109.40246963500951,80.7796745300293,100.39343261718746,107.8909034729005,124.1188430786135,113.79660034179699,108.63930892944302],\"qmax\":[129.399993896484,104.25790405273399,130.373931884766,112.90322875976601,128.00485229492202,128.116943359375,120.978706359863,115.677597045898,127.557266235352,186.481872558594,116.68039703369101,123.208480834961,103.018112182617,113.74558258056601,127.234619140625,122.181121826172,143.851135253906,109.278350830078,112.963539123535,100.363037109375,104.52261352539101,128.534591674805,117.159317016602,117.040184020996,138.881759643555,155.283767700195,137.011032104492,105.465286254883,107.876998901367,96.2281265258789,145.283020019531,134.00979614257798,68.53396606445311,115.102928161621,130.81103515625,106.59025573730499,127.209442138672,115.568832397461,117.703025817871,141.95584106445298,197.993988037109,116.521278381348,88.74217987060551,107.38170623779301,116.66291809081999,127.598739624023,127.139366149902,119.45379638671899],\"qmin\":[103.83065032959,81.5596618652344,117.245948791504,79.5938034057617,81.3882522583008,102.368370056152,77.4735488891602,76.6206436157227,103.610824584961,162.988662719727,86.9559097290039,83.26507568359379,74.8497848510742,90.8341598510742,97.4746246337891,90.46829223632808,116.92974853515601,77.6233596801758,82.1311950683594,56.8593063354492,71.9541702270508,101.629341125488,101.085433959961,102.521156311035,123.55389404296899,108.15811920166,92.5998001098633,74.4381332397461,88.6393280029297,65.5309219360352,116.027069091797,102.12233734130899,49.2721977233887,73.0793075561523,114.138710021973,89.0740509033203,108.082748413086,96.5957717895508,93.8685684204102,93.52611541748051,145.58317565918,80.3713684082031,64.4154891967773,84.0553283691406,70.81732177734371,106.67374420166,83.9623260498047,91.0874862670898],\"upper\":[129.399993896484,104.25790405273399,130.373931884766,112.90322875976601,128.00485229492202,128.116943359375,120.978706359863,115.677597045898,127.557266235352,186.481872558594,116.68039703369101,123.208480834961,103.018112182617,113.74558258056601,127.234619140625,122.181121826172,143.851135253906,109.278350830078,112.963539123535,100.363037109375,104.52261352539101,128.534591674805,117.159317016602,117.040184020996,138.881759643555,155.283767700195,137.011032104492,105.465286254883,107.876998901367,96.2281265258789,139.59056282043423,134.00979614257798,68.53396606445311,115.102928161621,130.81103515625,106.59025573730499,127.209442138672,115.568832397461,117.703025817871,141.95584106445298,197.993988037109,116.521278381348,88.74217987060551,107.38170623779301,116.66291809081999,127.598739624023,127.139366149902,119.45379638671899]},\"selected\":{\"id\":\"1421\"},\"selection_policy\":{\"id\":\"1420\"}},\"id\":\"1352\",\"type\":\"ColumnDataSource\"},{\"attributes\":{\"source\":{\"id\":\"1352\"}},\"id\":\"1367\",\"type\":\"CDSView\"},{\"attributes\":{\"x0\":{\"field\":\"lower\"},\"x1\":{\"field\":\"q1\"},\"y0\":{\"field\":\"category\"},\"y1\":{\"field\":\"category\"}},\"id\":\"1359\",\"type\":\"Segment\"},{\"attributes\":{\"fill_alpha\":{\"value\":0.1},\"fill_color\":{\"value\":\"navy\"},\"height\":{\"value\":0.7},\"left\":{\"field\":\"q3\"},\"line_alpha\":{\"value\":0.1},\"right\":{\"field\":\"q2\"},\"y\":{\"field\":\"category\"}},\"id\":\"1365\",\"type\":\"HBar\"},{\"attributes\":{\"fill_alpha\":{\"value\":0.5},\"fill_color\":{\"value\":\"navy\"},\"height\":{\"value\":0.7},\"left\":{\"field\":\"q3\"},\"line_alpha\":{\"value\":0.5},\"right\":{\"field\":\"q2\"},\"y\":{\"field\":\"category\"}},\"id\":\"1364\",\"type\":\"HBar\"},{\"attributes\":{},\"id\":\"1421\",\"type\":\"Selection\"},{\"attributes\":{\"data_source\":{\"id\":\"1352\"},\"glyph\":{\"id\":\"1379\"},\"hover_glyph\":null,\"muted_glyph\":null,\"nonselection_glyph\":{\"id\":\"1380\"},\"selection_glyph\":null,\"view\":{\"id\":\"1382\"}},\"id\":\"1381\",\"type\":\"GlyphRenderer\"},{\"attributes\":{\"source\":{\"id\":\"1352\"}},\"id\":\"1357\",\"type\":\"CDSView\"},{\"attributes\":{\"source\":{\"id\":\"1352\"}},\"id\":\"1372\",\"type\":\"CDSView\"},{\"attributes\":{\"axis_label_text_font_size\":\"12pt\",\"formatter\":{\"id\":\"1417\"},\"major_label_text_font_size\":\"10pt\",\"ticker\":{\"id\":\"1347\"}},\"id\":\"1346\",\"type\":\"CategoricalAxis\"},{\"attributes\":{\"line_alpha\":{\"value\":0.1},\"x0\":{\"field\":\"lower\"},\"x1\":{\"field\":\"q1\"},\"y0\":{\"field\":\"category\"},\"y1\":{\"field\":\"category\"}},\"id\":\"1360\",\"type\":\"Segment\"},{\"attributes\":{\"text\":\"\\u7f8e\\u56fd\\u9999\\u70df\\u6d88\\u8d39 1985\\uff5e1995\",\"text_font_size\":{\"value\":\"16pt\"}},\"id\":\"1332\",\"type\":\"Title\"},{\"attributes\":{\"axis\":{\"id\":\"1346\"},\"dimension\":1,\"ticker\":null},\"id\":\"1348\",\"type\":\"Grid\"},{\"attributes\":{\"fill_alpha\":{\"value\":0.1},\"fill_color\":{\"value\":\"#F38630\"},\"line_alpha\":{\"value\":0.1},\"line_color\":{\"value\":\"#F38630\"},\"size\":{\"units\":\"screen\",\"value\":6},\"x\":{\"field\":\"value\"},\"y\":{\"field\":\"category\"}},\"id\":\"1386\",\"type\":\"Circle\"},{\"attributes\":{},\"id\":\"1423\",\"type\":\"Selection\"},{\"attributes\":{\"data_source\":{\"id\":\"1352\"},\"glyph\":{\"id\":\"1364\"},\"hover_glyph\":null,\"muted_glyph\":null,\"nonselection_glyph\":{\"id\":\"1365\"},\"selection_glyph\":null,\"view\":{\"id\":\"1367\"}},\"id\":\"1366\",\"type\":\"GlyphRenderer\"},{\"attributes\":{},\"id\":\"1419\",\"type\":\"BasicTickFormatter\"},{\"attributes\":{\"source\":{\"id\":\"1352\"}},\"id\":\"1362\",\"type\":\"CDSView\"},{\"attributes\":{\"fill_color\":{\"value\":\"#1f77b4\"},\"height\":{\"units\":\"data\",\"value\":0.2},\"width\":{\"units\":\"data\",\"value\":0.01},\"x\":{\"field\":\"upper\"},\"y\":{\"field\":\"category\"}},\"id\":\"1379\",\"type\":\"Rect\"},{\"attributes\":{\"axis\":{\"id\":\"1342\"},\"ticker\":null},\"id\":\"1345\",\"type\":\"Grid\"},{\"attributes\":{\"factors\":[\"Wyoming\",\"Montana\",\"Missouri\",\"Minnesota\",\"Michigan\",\"Maine\",\"Maryland\",\"Massachusetts\",\"Louisiana\",\"Kentucky\",\"Kansas\",\"Illinois\",\"Idaho\",\"Iowa\",\"Georgia\",\"Florida\",\"Delaware\",\"Connecticut\",\"Colorado\",\"California\",\"Arizona\",\"Arkansas\",\"Alabama\",\"Mississippi\",\"Indiana\",\"North Carolina\",\"Rhode Island\",\"North Dakota\",\"Wisconsin\",\"Washington\",\"Vermont\",\"Virginia\",\"Utah\",\"Texas\",\"Tennessee\",\"South Dakota\",\"South Carolina\",\"West Virginia\",\"Pennsylvania\",\"Nevada\",\"New Hampshire\",\"New Jersey\",\"New Mexico\",\"Nebraska\",\"New York\",\"Ohio\",\"Oklahoma\",\"Oregon\"]},\"id\":\"1336\",\"type\":\"FactorRange\"},{\"attributes\":{\"fill_alpha\":{\"value\":0.3},\"fill_color\":{\"value\":\"navy\"},\"height\":{\"value\":0.7},\"left\":{\"field\":\"q2\"},\"line_alpha\":{\"value\":0.3},\"right\":{\"field\":\"q1\"},\"y\":{\"field\":\"category\"}},\"id\":\"1369\",\"type\":\"HBar\"},{\"attributes\":{\"fill_alpha\":{\"value\":0.1},\"fill_color\":{\"value\":\"#1f77b4\"},\"height\":{\"units\":\"data\",\"value\":0.2},\"line_alpha\":{\"value\":0.1},\"width\":{\"units\":\"data\",\"value\":0.01},\"x\":{\"field\":\"lower\"},\"y\":{\"field\":\"category\"}},\"id\":\"1375\",\"type\":\"Rect\"},{\"attributes\":{\"source\":{\"id\":\"1352\"}},\"id\":\"1382\",\"type\":\"CDSView\"},{\"attributes\":{\"source\":{\"id\":\"1383\"}},\"id\":\"1388\",\"type\":\"CDSView\"},{\"attributes\":{\"data_source\":{\"id\":\"1352\"},\"glyph\":{\"id\":\"1369\"},\"hover_glyph\":null,\"muted_glyph\":null,\"nonselection_glyph\":{\"id\":\"1370\"},\"selection_glyph\":null,\"view\":{\"id\":\"1372\"}},\"id\":\"1371\",\"type\":\"GlyphRenderer\"},{\"attributes\":{\"source\":{\"id\":\"1352\"}},\"id\":\"1377\",\"type\":\"CDSView\"},{\"attributes\":{},\"id\":\"1417\",\"type\":\"CategoricalTickFormatter\"}],\"root_ids\":[\"1331\"]},\"title\":\"Bokeh Application\",\"version\":\"2.0.2\"}};\n  var render_items = [{\"docid\":\"4df265a3-7ffe-4a9f-bd47-efa283e91d7b\",\"notebook_comms_target\":\"1424\",\"root_ids\":[\"1331\"],\"roots\":{\"1331\":\"756c3718-d53e-4cd7-ac29-03128c7ddc09\"}}];\n  root.Bokeh.embed.embed_items_notebook(docs_json, render_items);\n\n  }\n  if (root.Bokeh !== undefined) {\n    embed_document(root);\n  } else {\n    var attempts = 0;\n    var timer = setInterval(function(root) {\n      if (root.Bokeh !== undefined) {\n        clearInterval(timer);\n        embed_document(root);\n      } else {\n        attempts++;\n        if (attempts > 100) {\n          clearInterval(timer);\n          console.log(\"Bokeh: ERROR: Unable to run BokehJS code because BokehJS library is missing\");\n        }\n      }\n    }, 10, root)\n  }\n})(window);",
      "application/vnd.bokehjs_exec.v0+json": ""
     },
     "metadata": {
      "application/vnd.bokehjs_exec.v0+json": {
       "id": "1331"
      }
     }
    }
   ],
   "source": [
    "import ipywidgets as widgets\n",
    "\n",
    "sort_choise = widgets.Dropdown(\n",
    "    options=['美国州', '香烟消费中值（包/人/年）', '香烟消费 IQR（包/人/年）'],\n",
    "    index=0,\n",
    "    description='排序方式：',\n",
    "    disabled=False,\n",
    "    layout={\n",
    "        'width': '400px'\n",
    "    },\n",
    "    style={\n",
    "        'description_width': 'initial'\n",
    "    }   \n",
    ")\n",
    "\n",
    "display(sort_choise)\n",
    "\n",
    "def on_selection_change(change):\n",
    "    new_selection = change['new']\n",
    "    index = change['owner'].index\n",
    "    sort_column = ['category', 'q2', 'iqr'][index]\n",
    "    app.update_app(sort_column)\n",
    "\n",
    "sort_choise.observe(on_selection_change, names='value')\n",
    "app = box_plot_app_by_state(df_cigatette)"
   ]
  },
  {
   "cell_type": "code",
   "execution_count": 10,
   "metadata": {},
   "outputs": [
    {
     "output_type": "execute_result",
     "data": {
      "text/plain": "    state  year    cpi      pop      packpc    income        tax      avgprs  \\\n1      AL  1985  1.076  3973000  116.486282  46014968  32.500004  102.181671   \n241    AL  1990  1.307  4048508  111.744873  64094948  32.500004  143.448578   \n193    AL  1989  1.240  4030000  109.205956  60044480  32.500004  133.256012   \n433    AL  1994  1.482  4232965  103.426323  79832152  40.500004  156.275574   \n49     AL  1986  1.096  3992000  117.159317  48703940  32.500004  107.989166   \n\n          taxs state_fn year_str  \n1    33.348335  Alabama     1985  \n241  33.756920  Alabama     1990  \n193  33.656002  Alabama     1989  \n433  41.883919  Alabama     1994  \n49   33.405838  Alabama     1986  ",
      "text/html": "<div>\n<style scoped>\n    .dataframe tbody tr th:only-of-type {\n        vertical-align: middle;\n    }\n\n    .dataframe tbody tr th {\n        vertical-align: top;\n    }\n\n    .dataframe thead th {\n        text-align: right;\n    }\n</style>\n<table border=\"1\" class=\"dataframe\">\n  <thead>\n    <tr style=\"text-align: right;\">\n      <th></th>\n      <th>state</th>\n      <th>year</th>\n      <th>cpi</th>\n      <th>pop</th>\n      <th>packpc</th>\n      <th>income</th>\n      <th>tax</th>\n      <th>avgprs</th>\n      <th>taxs</th>\n      <th>state_fn</th>\n      <th>year_str</th>\n    </tr>\n  </thead>\n  <tbody>\n    <tr>\n      <th>1</th>\n      <td>AL</td>\n      <td>1985</td>\n      <td>1.076</td>\n      <td>3973000</td>\n      <td>116.486282</td>\n      <td>46014968</td>\n      <td>32.500004</td>\n      <td>102.181671</td>\n      <td>33.348335</td>\n      <td>Alabama</td>\n      <td>1985</td>\n    </tr>\n    <tr>\n      <th>241</th>\n      <td>AL</td>\n      <td>1990</td>\n      <td>1.307</td>\n      <td>4048508</td>\n      <td>111.744873</td>\n      <td>64094948</td>\n      <td>32.500004</td>\n      <td>143.448578</td>\n      <td>33.756920</td>\n      <td>Alabama</td>\n      <td>1990</td>\n    </tr>\n    <tr>\n      <th>193</th>\n      <td>AL</td>\n      <td>1989</td>\n      <td>1.240</td>\n      <td>4030000</td>\n      <td>109.205956</td>\n      <td>60044480</td>\n      <td>32.500004</td>\n      <td>133.256012</td>\n      <td>33.656002</td>\n      <td>Alabama</td>\n      <td>1989</td>\n    </tr>\n    <tr>\n      <th>433</th>\n      <td>AL</td>\n      <td>1994</td>\n      <td>1.482</td>\n      <td>4232965</td>\n      <td>103.426323</td>\n      <td>79832152</td>\n      <td>40.500004</td>\n      <td>156.275574</td>\n      <td>41.883919</td>\n      <td>Alabama</td>\n      <td>1994</td>\n    </tr>\n    <tr>\n      <th>49</th>\n      <td>AL</td>\n      <td>1986</td>\n      <td>1.096</td>\n      <td>3992000</td>\n      <td>117.159317</td>\n      <td>48703940</td>\n      <td>32.500004</td>\n      <td>107.989166</td>\n      <td>33.405838</td>\n      <td>Alabama</td>\n      <td>1986</td>\n    </tr>\n  </tbody>\n</table>\n</div>"
     },
     "metadata": {},
     "execution_count": 10
    }
   ],
   "source": [
    "df_cigatette.sort_values(by='state', inplace=True, ascending=True)\n",
    "df_cigatette.head()"
   ]
  },
  {
   "cell_type": "code",
   "execution_count": 11,
   "metadata": {},
   "outputs": [
    {
     "output_type": "display_data",
     "data": {
      "text/html": "\n\n\n\n\n\n  <div class=\"bk-root\" id=\"4e0dc1df-c12e-4a65-8549-c014ae5289c7\" data-root-id=\"1479\"></div>\n"
     },
     "metadata": {}
    },
    {
     "output_type": "display_data",
     "data": {
      "application/javascript": "(function(root) {\n  function embed_document(root) {\n    \n  var docs_json = {\"5db03996-549e-49b3-a496-ee78ddd62480\":{\"roots\":{\"references\":[{\"attributes\":{\"below\":[{\"id\":\"1490\"}],\"center\":[{\"id\":\"1493\"},{\"id\":\"1496\"}],\"left\":[{\"id\":\"1494\"}],\"plot_height\":1000,\"plot_width\":800,\"renderers\":[{\"id\":\"1506\"},{\"id\":\"1511\"},{\"id\":\"1516\"},{\"id\":\"1521\"},{\"id\":\"1526\"},{\"id\":\"1531\"},{\"id\":\"1537\"}],\"title\":{\"id\":\"1480\"},\"toolbar\":{\"id\":\"1498\"},\"x_range\":{\"id\":\"1482\"},\"x_scale\":{\"id\":\"1486\"},\"y_range\":{\"id\":\"1484\"},\"y_scale\":{\"id\":\"1488\"}},\"id\":\"1479\",\"subtype\":\"Figure\",\"type\":\"Plot\"},{\"attributes\":{\"data_source\":{\"id\":\"1502\"},\"glyph\":{\"id\":\"1519\"},\"hover_glyph\":null,\"muted_glyph\":null,\"nonselection_glyph\":{\"id\":\"1520\"},\"selection_glyph\":null,\"view\":{\"id\":\"1522\"}},\"id\":\"1521\",\"type\":\"GlyphRenderer\"},{\"attributes\":{\"fill_alpha\":{\"value\":0.1},\"fill_color\":{\"value\":\"#1f77b4\"},\"height\":{\"units\":\"data\",\"value\":0.2},\"line_alpha\":{\"value\":0.1},\"width\":{\"units\":\"data\",\"value\":0.01},\"x\":{\"field\":\"upper\"},\"y\":{\"field\":\"category\"}},\"id\":\"1530\",\"type\":\"Rect\"},{\"attributes\":{\"fill_color\":{\"value\":\"#1f77b4\"},\"height\":{\"units\":\"data\",\"value\":0.2},\"width\":{\"units\":\"data\",\"value\":0.01},\"x\":{\"field\":\"upper\"},\"y\":{\"field\":\"category\"}},\"id\":\"1529\",\"type\":\"Rect\"},{\"attributes\":{\"data_source\":{\"id\":\"1502\"},\"glyph\":{\"id\":\"1529\"},\"hover_glyph\":null,\"muted_glyph\":null,\"nonselection_glyph\":{\"id\":\"1530\"},\"selection_glyph\":null,\"view\":{\"id\":\"1532\"}},\"id\":\"1531\",\"type\":\"GlyphRenderer\"},{\"attributes\":{\"data_source\":{\"id\":\"1533\"},\"glyph\":{\"id\":\"1535\"},\"hover_glyph\":null,\"muted_glyph\":null,\"nonselection_glyph\":{\"id\":\"1536\"},\"selection_glyph\":null,\"view\":{\"id\":\"1538\"}},\"id\":\"1537\",\"type\":\"GlyphRenderer\"},{\"attributes\":{\"source\":{\"id\":\"1502\"}},\"id\":\"1507\",\"type\":\"CDSView\"},{\"attributes\":{\"axis\":{\"id\":\"1494\"},\"dimension\":1,\"ticker\":null},\"id\":\"1496\",\"type\":\"Grid\"},{\"attributes\":{},\"id\":\"1578\",\"type\":\"Selection\"},{\"attributes\":{},\"id\":\"1580\",\"type\":\"Selection\"},{\"attributes\":{\"fill_alpha\":{\"value\":0.3},\"fill_color\":{\"value\":\"navy\"},\"height\":{\"value\":0.7},\"left\":{\"field\":\"q2\"},\"line_alpha\":{\"value\":0.3},\"right\":{\"field\":\"q1\"},\"y\":{\"field\":\"category\"}},\"id\":\"1519\",\"type\":\"HBar\"},{\"attributes\":{\"factors\":[\"Alabama\",\"Arkansas\",\"Arizona\",\"California\",\"Colorado\",\"Connecticut\",\"Delaware\",\"Florida\",\"Georgia\",\"Iowa\",\"Idaho\",\"Illinois\",\"Indiana\",\"Kansas\",\"Kentucky\",\"Louisiana\",\"Massachusetts\",\"Maryland\",\"Maine\",\"Michigan\",\"Minnesota\",\"Missouri\",\"Mississippi\",\"Montana\",\"North Carolina\",\"North Dakota\",\"Nebraska\",\"New Hampshire\",\"New Jersey\",\"New Mexico\",\"Nevada\",\"New York\",\"Ohio\",\"Oklahoma\",\"Oregon\",\"Pennsylvania\",\"Rhode Island\",\"South Carolina\",\"South Dakota\",\"Tennessee\",\"Texas\",\"Utah\",\"Virginia\",\"Vermont\",\"Washington\",\"Wisconsin\",\"West Virginia\",\"Wyoming\"]},\"id\":\"1484\",\"type\":\"FactorRange\"},{\"attributes\":{\"data_source\":{\"id\":\"1502\"},\"glyph\":{\"id\":\"1514\"},\"hover_glyph\":null,\"muted_glyph\":null,\"nonselection_glyph\":{\"id\":\"1515\"},\"selection_glyph\":null,\"view\":{\"id\":\"1517\"}},\"id\":\"1516\",\"type\":\"GlyphRenderer\"},{\"attributes\":{\"source\":{\"id\":\"1502\"}},\"id\":\"1522\",\"type\":\"CDSView\"},{\"attributes\":{},\"id\":\"1576\",\"type\":\"BasicTickFormatter\"},{\"attributes\":{\"fill_color\":{\"value\":\"#1f77b4\"},\"height\":{\"units\":\"data\",\"value\":0.2},\"width\":{\"units\":\"data\",\"value\":0.01},\"x\":{\"field\":\"lower\"},\"y\":{\"field\":\"category\"}},\"id\":\"1524\",\"type\":\"Rect\"},{\"attributes\":{},\"id\":\"1488\",\"type\":\"CategoricalScale\"},{\"attributes\":{\"min_interval\":50},\"id\":\"1491\",\"type\":\"BasicTicker\"},{\"attributes\":{\"active_drag\":\"auto\",\"active_inspect\":\"auto\",\"active_multi\":null,\"active_scroll\":\"auto\",\"active_tap\":\"auto\",\"tools\":[{\"id\":\"1497\"}]},\"id\":\"1498\",\"type\":\"Toolbar\"},{\"attributes\":{},\"id\":\"1486\",\"type\":\"LinearScale\"},{\"attributes\":{\"line_alpha\":{\"value\":0.1},\"x0\":{\"field\":\"lower\"},\"x1\":{\"field\":\"q1\"},\"y0\":{\"field\":\"category\"},\"y1\":{\"field\":\"category\"}},\"id\":\"1510\",\"type\":\"Segment\"},{\"attributes\":{\"data\":{\"category\":[\"Michigan\",\"Vermont\",\"West Virginia\",\"West Virginia\"],\"index\":[500,44,383,479],\"value\":[81.3882522583008,145.283020019531,96.5957717895508,102.22766876220699]},\"selected\":{\"id\":\"1580\"},\"selection_policy\":{\"id\":\"1579\"}},\"id\":\"1533\",\"type\":\"ColumnDataSource\"},{\"attributes\":{},\"id\":\"1495\",\"type\":\"CategoricalTicker\"},{\"attributes\":{\"axis\":{\"id\":\"1490\"},\"ticker\":null},\"id\":\"1493\",\"type\":\"Grid\"},{\"attributes\":{\"fill_alpha\":{\"value\":0.1},\"fill_color\":{\"value\":\"#1f77b4\"},\"height\":{\"units\":\"data\",\"value\":0.2},\"line_alpha\":{\"value\":0.1},\"width\":{\"units\":\"data\",\"value\":0.01},\"x\":{\"field\":\"lower\"},\"y\":{\"field\":\"category\"}},\"id\":\"1525\",\"type\":\"Rect\"},{\"attributes\":{\"fill_alpha\":{\"value\":0.1},\"fill_color\":{\"value\":\"#F38630\"},\"line_alpha\":{\"value\":0.1},\"line_color\":{\"value\":\"#F38630\"},\"size\":{\"units\":\"screen\",\"value\":6},\"x\":{\"field\":\"value\"},\"y\":{\"field\":\"category\"}},\"id\":\"1536\",\"type\":\"Circle\"},{\"attributes\":{\"axis_label\":\"<--- \\u5e74 --->\",\"axis_label_text_font_size\":\"12pt\",\"formatter\":{\"id\":\"1574\"},\"major_label_text_font_size\":\"10pt\",\"ticker\":{\"id\":\"1495\"}},\"id\":\"1494\",\"type\":\"CategoricalAxis\"},{\"attributes\":{\"x0\":{\"field\":\"lower\"},\"x1\":{\"field\":\"q1\"},\"y0\":{\"field\":\"category\"},\"y1\":{\"field\":\"category\"}},\"id\":\"1509\",\"type\":\"Segment\"},{\"attributes\":{\"source\":{\"id\":\"1533\"}},\"id\":\"1538\",\"type\":\"CDSView\"},{\"attributes\":{\"line_alpha\":{\"value\":0.1},\"x0\":{\"field\":\"upper\"},\"x1\":{\"field\":\"q3\"},\"y0\":{\"field\":\"category\"},\"y1\":{\"field\":\"category\"}},\"id\":\"1505\",\"type\":\"Segment\"},{\"attributes\":{\"source\":{\"id\":\"1502\"}},\"id\":\"1517\",\"type\":\"CDSView\"},{\"attributes\":{\"source\":{\"id\":\"1502\"}},\"id\":\"1527\",\"type\":\"CDSView\"},{\"attributes\":{\"text\":\"\\u7f8e\\u56fd\\u9999\\u70df\\u6d88\\u8d39 1985\\uff5e1995\",\"text_font_size\":{\"value\":\"16pt\"}},\"id\":\"1480\",\"type\":\"Title\"},{\"attributes\":{\"data_source\":{\"id\":\"1502\"},\"glyph\":{\"id\":\"1509\"},\"hover_glyph\":null,\"muted_glyph\":null,\"nonselection_glyph\":{\"id\":\"1510\"},\"selection_glyph\":null,\"view\":{\"id\":\"1512\"}},\"id\":\"1511\",\"type\":\"GlyphRenderer\"},{\"attributes\":{\"data_source\":{\"id\":\"1502\"},\"glyph\":{\"id\":\"1524\"},\"hover_glyph\":null,\"muted_glyph\":null,\"nonselection_glyph\":{\"id\":\"1525\"},\"selection_glyph\":null,\"view\":{\"id\":\"1527\"}},\"id\":\"1526\",\"type\":\"GlyphRenderer\"},{\"attributes\":{\"x0\":{\"field\":\"upper\"},\"x1\":{\"field\":\"q3\"},\"y0\":{\"field\":\"category\"},\"y1\":{\"field\":\"category\"}},\"id\":\"1504\",\"type\":\"Segment\"},{\"attributes\":{\"source\":{\"id\":\"1502\"}},\"id\":\"1512\",\"type\":\"CDSView\"},{\"attributes\":{\"fill_alpha\":{\"value\":0.1},\"fill_color\":{\"value\":\"navy\"},\"height\":{\"value\":0.7},\"left\":{\"field\":\"q3\"},\"line_alpha\":{\"value\":0.1},\"right\":{\"field\":\"q2\"},\"y\":{\"field\":\"category\"}},\"id\":\"1515\",\"type\":\"HBar\"},{\"attributes\":{\"source\":{\"id\":\"1502\"}},\"id\":\"1532\",\"type\":\"CDSView\"},{\"attributes\":{\"fill_color\":{\"value\":\"#F38630\"},\"line_color\":{\"value\":\"#F38630\"},\"size\":{\"units\":\"screen\",\"value\":6},\"x\":{\"field\":\"value\"},\"y\":{\"field\":\"category\"}},\"id\":\"1535\",\"type\":\"Circle\"},{\"attributes\":{\"end\":205,\"start\":45},\"id\":\"1482\",\"type\":\"Range1d\"},{\"attributes\":{\"fill_alpha\":{\"value\":0.5},\"fill_color\":{\"value\":\"navy\"},\"height\":{\"value\":0.7},\"left\":{\"field\":\"q3\"},\"line_alpha\":{\"value\":0.5},\"right\":{\"field\":\"q2\"},\"y\":{\"field\":\"category\"}},\"id\":\"1514\",\"type\":\"HBar\"},{\"attributes\":{},\"id\":\"1577\",\"type\":\"UnionRenderers\"},{\"attributes\":{\"data_source\":{\"id\":\"1502\"},\"glyph\":{\"id\":\"1504\"},\"hover_glyph\":null,\"muted_glyph\":null,\"nonselection_glyph\":{\"id\":\"1505\"},\"selection_glyph\":null,\"view\":{\"id\":\"1507\"}},\"id\":\"1506\",\"type\":\"GlyphRenderer\"},{\"attributes\":{},\"id\":\"1497\",\"type\":\"SaveTool\"},{\"attributes\":{\"data\":{\"category\":[\"Alabama\",\"Arkansas\",\"Arizona\",\"California\",\"Colorado\",\"Connecticut\",\"Delaware\",\"Florida\",\"Georgia\",\"Iowa\",\"Idaho\",\"Illinois\",\"Indiana\",\"Kansas\",\"Kentucky\",\"Louisiana\",\"Massachusetts\",\"Maryland\",\"Maine\",\"Michigan\",\"Minnesota\",\"Missouri\",\"Mississippi\",\"Montana\",\"North Carolina\",\"North Dakota\",\"Nebraska\",\"New Hampshire\",\"New Jersey\",\"New Mexico\",\"Nevada\",\"New York\",\"Ohio\",\"Oklahoma\",\"Oregon\",\"Pennsylvania\",\"Rhode Island\",\"South Carolina\",\"South Dakota\",\"Tennessee\",\"Texas\",\"Utah\",\"Virginia\",\"Vermont\",\"Washington\",\"Wisconsin\",\"West Virginia\",\"Wyoming\"],\"iqr\":[9.617187499999986,11.767524719237983,24.102413177490178,26.35788536071773,16.16890335083015,23.217800140380888,16.35358810424802,25.05410003662118,18.859844207763004,12.390117645263501,14.130844116210923,18.180763244629205,10.059707641601506,16.688297271728814,11.976058959961506,13.427616119385007,23.123931884765796,28.48239135742159,10.638618469237997,14.327178955078494,16.44386291503892,9.135681152343523,8.751754760742003,9.71343231201169,21.296043395995994,13.447998046875,11.14297485351561,28.93966674804696,25.531467437743913,13.324932098388643,35.26108932495137,27.755725860595803,12.998950958252479,23.632369995117344,13.199657440185206,14.961063385009538,29.431758880615135,15.341545104980526,6.697147369384808,9.278099060058494,24.719699859619283,8.821441650390653,22.777477264403984,7.5586891174314985,11.741065979003892,10.90802001953088,4.224700927734489,14.889709472656506],\"lower\":[101.085433959961,101.629341125488,71.9541702270508,56.8593063354492,82.1311950683594,77.6233596801758,116.92974853515601,90.46829223632808,97.4746246337891,90.8341598510742,74.8497848510742,83.26507568359379,123.55389404296899,86.9559097290039,162.988662719727,103.610824584961,76.6206436157227,77.4735488891602,102.368370056152,86.21648788452076,79.5938034057617,117.245948791504,102.521156311035,81.5596618652344,108.15811920166,74.4381332397461,84.0553283691406,145.58317565918,80.3713684082031,64.4154891967773,93.52611541748051,70.81732177734371,106.67374420166,83.9623260498047,91.0874862670898,93.8685684204102,92.5998001098633,108.082748413086,89.0740509033203,114.138710021973,73.0793075561523,49.2721977233887,102.12233734130899,116.027069091797,65.5309219360352,88.6393280029297,103.97510528564428,103.83065032959],\"q1\":[105.930362701416,113.64860916137701,75.80344009399411,64.0668773651123,83.69401168823245,82.0173568725586,120.3846168518065,93.58991241455081,105.3745155334475,93.1561279296875,80.66806793212893,92.8352165222168,126.25912475585949,88.75444793701169,166.9741897583005,105.760116577148,87.8729133605957,85.7885513305664,111.68927764892601,107.7072563171385,82.81221771240234,120.2552871704105,104.01459121704099,83.23881912231445,125.5416564941405,81.6005630493164,89.25045776367185,151.97943115234352,83.8710021972656,67.45474243164065,100.09045028686515,80.1351776123047,111.11989212036102,90.16423034667964,95.43965148925781,95.64799118041995,97.86822509765635,111.05340957641599,91.3377571105957,119.0096740722655,76.33297348022461,52.28195190429685,105.79280853271501,120.6938400268555,75.97804260253906,93.4766426086426,110.31215667724601,106.36409378051749],\"q2\":[109.205955505371,122.80477142334,85.81005859375,74.20005798339841,89.1381072998047,90.8163299560547,124.466598510742,105.742919921875,112.640670776367,97.0046920776367,83.8427429199219,95.9991226196289,134.258346557617,95.45758056640629,172.64778137207,107.43796539306601,97.5465621948242,99.9701690673828,116.314926147461,114.741889953613,89.4631118774414,122.45027923584,105.582450866699,87.1595687866211,131.60607910156298,85.30445861816409,91.71456909179692,156.33674621582,98.4767913818359,71.5820999145508,120.545303344727,93.86843872070308,115.84597015380899,102.63491821289101,98.7914505004883,102.54208374023399,104.084701538086,120.21452331543001,91.9730377197266,123.21530914306601,85.0116882324219,53.0143013000488,115.74748229980499,122.580711364746,78.74256896972659,94.71649169921879,111.993370056152,112.238136291504],\"q3\":[115.54755020141599,125.41613388061499,99.90585327148429,90.42476272583004,99.8629150390626,105.23515701293948,136.73820495605452,118.64401245117199,124.2343597412105,105.546245574951,94.79891204833986,111.015979766846,136.318832397461,105.4427452087405,178.950248718262,119.187732696533,110.9968452453615,114.270942687988,122.327896118164,122.034435272217,99.25608062744126,129.39096832275402,112.76634597778299,92.95225143432614,146.8376998901365,95.0485610961914,100.39343261718746,180.91909790039048,109.40246963500951,80.7796745300293,135.35153961181652,107.8909034729005,124.1188430786135,113.79660034179699,108.63930892944302,110.60905456542949,127.29998397827148,126.39495468139651,98.03490447998051,128.287773132324,101.05267333984389,61.1033935546875,128.570285797119,128.252529144287,87.71910858154295,104.38466262817349,114.5368576049805,121.253803253174],\"qmax\":[117.159317016602,128.534591674805,104.52261352539101,100.363037109375,112.963539123535,109.278350830078,143.851135253906,122.181121826172,127.234619140625,113.74558258056601,103.018112182617,123.208480834961,138.881759643555,116.68039703369101,186.481872558594,127.557266235352,115.677597045898,120.978706359863,128.116943359375,128.00485229492202,112.90322875976601,130.373931884766,117.040184020996,104.25790405273399,155.283767700195,105.465286254883,107.38170623779301,197.993988037109,116.521278381348,88.74217987060551,141.95584106445298,116.66291809081999,127.598739624023,127.139366149902,119.45379638671899,117.703025817871,137.011032104492,127.209442138672,106.59025573730499,130.81103515625,115.102928161621,68.53396606445311,134.00979614257798,145.283020019531,96.2281265258789,107.876998901367,115.568832397461,129.399993896484],\"qmin\":[101.085433959961,101.629341125488,71.9541702270508,56.8593063354492,82.1311950683594,77.6233596801758,116.92974853515601,90.46829223632808,97.4746246337891,90.8341598510742,74.8497848510742,83.26507568359379,123.55389404296899,86.9559097290039,162.988662719727,103.610824584961,76.6206436157227,77.4735488891602,102.368370056152,81.3882522583008,79.5938034057617,117.245948791504,102.521156311035,81.5596618652344,108.15811920166,74.4381332397461,84.0553283691406,145.58317565918,80.3713684082031,64.4154891967773,93.52611541748051,70.81732177734371,106.67374420166,83.9623260498047,91.0874862670898,93.8685684204102,92.5998001098633,108.082748413086,89.0740509033203,114.138710021973,73.0793075561523,49.2721977233887,102.12233734130899,116.027069091797,65.5309219360352,88.6393280029297,96.5957717895508,103.83065032959],\"upper\":[117.159317016602,128.534591674805,104.52261352539101,100.363037109375,112.963539123535,109.278350830078,143.851135253906,122.181121826172,127.234619140625,113.74558258056601,103.018112182617,123.208480834961,138.881759643555,116.68039703369101,186.481872558594,127.557266235352,115.677597045898,120.978706359863,128.116943359375,128.00485229492202,112.90322875976601,130.373931884766,117.040184020996,104.25790405273399,155.283767700195,105.465286254883,107.38170623779301,197.993988037109,116.521278381348,88.74217987060551,141.95584106445298,116.66291809081999,127.598739624023,127.139366149902,119.45379638671899,117.703025817871,137.011032104492,127.209442138672,106.59025573730499,130.81103515625,115.102928161621,68.53396606445311,134.00979614257798,139.59056282043423,96.2281265258789,107.876998901367,115.568832397461,129.399993896484]},\"selected\":{\"id\":\"1578\"},\"selection_policy\":{\"id\":\"1577\"}},\"id\":\"1502\",\"type\":\"ColumnDataSource\"},{\"attributes\":{\"fill_alpha\":{\"value\":0.1},\"fill_color\":{\"value\":\"navy\"},\"height\":{\"value\":0.7},\"left\":{\"field\":\"q2\"},\"line_alpha\":{\"value\":0.1},\"right\":{\"field\":\"q1\"},\"y\":{\"field\":\"category\"}},\"id\":\"1520\",\"type\":\"HBar\"},{\"attributes\":{\"axis_label\":\"\\u9999\\u70df\\u6d88\\u8d39\\uff08\\u5e73\\u5747\\u6bcf\\u4eba\\u6bcf\\u5e74\\u7684\\u5305\\u6570\\uff09\",\"axis_label_text_font_size\":\"12pt\",\"formatter\":{\"id\":\"1576\"},\"major_label_text_font_size\":\"10pt\",\"ticker\":{\"id\":\"1491\"}},\"id\":\"1490\",\"type\":\"LinearAxis\"},{\"attributes\":{},\"id\":\"1579\",\"type\":\"UnionRenderers\"},{\"attributes\":{},\"id\":\"1574\",\"type\":\"CategoricalTickFormatter\"}],\"root_ids\":[\"1479\"]},\"title\":\"Bokeh Application\",\"version\":\"2.0.2\"}};\n  var render_items = [{\"docid\":\"5db03996-549e-49b3-a496-ee78ddd62480\",\"root_ids\":[\"1479\"],\"roots\":{\"1479\":\"4e0dc1df-c12e-4a65-8549-c014ae5289c7\"}}];\n  root.Bokeh.embed.embed_items_notebook(docs_json, render_items);\n\n  }\n  if (root.Bokeh !== undefined) {\n    embed_document(root);\n  } else {\n    var attempts = 0;\n    var timer = setInterval(function(root) {\n      if (root.Bokeh !== undefined) {\n        clearInterval(timer);\n        embed_document(root);\n      } else {\n        attempts++;\n        if (attempts > 100) {\n          clearInterval(timer);\n          console.log(\"Bokeh: ERROR: Unable to run BokehJS code because BokehJS library is missing\");\n        }\n      }\n    }, 10, root)\n  }\n})(window);",
      "application/vnd.bokehjs_exec.v0+json": ""
     },
     "metadata": {
      "application/vnd.bokehjs_exec.v0+json": {
       "id": "1479"
      }
     }
    }
   ],
   "source": [
    "data_box_plot, data_box_plot_out = generate_box_plot_data(df_cigatette, 'state_fn', 'packpc')\n",
    "\n",
    "df_box_plot = pd.DataFrame(data_box_plot)\n",
    "# df_box_plot.sort_values(by='q2').head()\n",
    "# df_box_plot = pd.DataFrame(data_box_plot)\n",
    "# df_box_plot.sort_values(by='q3', inplace=True)\n",
    "data_box_plot = df_box_plot.to_dict('list')\n",
    "\n",
    "p = figure(title='美国香烟消费 1985～1995', tools=\"save\", \n",
    "           # background_fill_color=\"#efefef\", \n",
    "           x_range=[45, 205], \n",
    "           y_range=data_box_plot['category'], \n",
    "           plot_width=800, plot_height=1000, \n",
    "           toolbar_location='right', )\n",
    "p.yaxis.axis_label = '<--- 年 --->'\n",
    "p.xaxis.axis_label = '香烟消费（平均每人每年的包数）'\n",
    "p.title.text_font_size = '16pt'\n",
    "p.axis.axis_label_text_font_size = \"12pt\"\n",
    "p.axis.major_label_text_font_size = \"10pt\"\n",
    "p.xaxis.ticker.min_interval = 50\n",
    "p.xaxis.ticker.num_minor_ticks = 5\n",
    "#     if all_dot:\n",
    "#         p.circle(df[column], df[by], size=4, color=\"black\", fill_alpha=0.3)\n",
    "# p.xaxis.ticker = [50, 100, 150, 200]\n",
    "# p.yaxis.ticker = ['1']\n",
    "# p.xaxis.ticker.minor_ticks = [51]\n",
    "# p.ygrid.grid_line_color = \"grey\"\n",
    "# p.grid.grid_line_width = 0.5\n",
    "\n",
    "bokeh_box_plot(p, data_box_plot, data_box_plot_out, all_dot=False)\n",
    "show(p)"
   ]
  },
  {
   "cell_type": "markdown",
   "metadata": {},
   "source": [
    "---"
   ]
  },
  {
   "cell_type": "code",
   "execution_count": 12,
   "metadata": {},
   "outputs": [
    {
     "output_type": "display_data",
     "data": {
      "text/html": "\n\n\n\n\n\n  <div class=\"bk-root\" id=\"36228c5b-010e-48a3-ba6b-ef87cb59904a\" data-root-id=\"1635\"></div>\n"
     },
     "metadata": {}
    },
    {
     "output_type": "display_data",
     "data": {
      "application/javascript": "(function(root) {\n  function embed_document(root) {\n    \n  var docs_json = {\"80164569-c1ad-45d9-8f09-fdf53e4ba82e\":{\"roots\":{\"references\":[{\"attributes\":{\"below\":[{\"id\":\"1646\"}],\"center\":[{\"id\":\"1649\"},{\"id\":\"1653\"}],\"left\":[{\"id\":\"1650\"}],\"plot_height\":450,\"plot_width\":800,\"renderers\":[{\"id\":\"1664\"},{\"id\":\"1669\"},{\"id\":\"1674\"},{\"id\":\"1679\"},{\"id\":\"1684\"},{\"id\":\"1689\"},{\"id\":\"1694\"},{\"id\":\"1699\"},{\"id\":\"1704\"}],\"title\":{\"id\":\"1636\"},\"toolbar\":{\"id\":\"1655\"},\"x_range\":{\"id\":\"1638\"},\"x_scale\":{\"id\":\"1642\"},\"y_range\":{\"id\":\"1640\"},\"y_scale\":{\"id\":\"1644\"}},\"id\":\"1635\",\"subtype\":\"Figure\",\"type\":\"Plot\"},{\"attributes\":{\"data_source\":{\"id\":\"1701\"},\"glyph\":{\"id\":\"1702\"},\"hover_glyph\":null,\"muted_glyph\":null,\"nonselection_glyph\":{\"id\":\"1703\"},\"selection_glyph\":null,\"view\":{\"id\":\"1705\"}},\"id\":\"1704\",\"type\":\"GlyphRenderer\"},{\"attributes\":{\"axis_label\":\"<--- \\u5e74 --->\",\"axis_label_text_font_size\":\"12pt\",\"formatter\":{\"id\":\"1749\"},\"major_label_text_font_size\":\"12pt\",\"ticker\":{\"id\":\"1659\"}},\"id\":\"1650\",\"type\":\"LinearAxis\"},{\"attributes\":{\"line_alpha\":{\"value\":0.1},\"x0\":{\"field\":\"x0\"},\"x1\":{\"field\":\"x1\"},\"y0\":{\"field\":\"y0\"},\"y1\":{\"field\":\"y1\"}},\"id\":\"1663\",\"type\":\"Segment\"},{\"attributes\":{\"active_drag\":\"auto\",\"active_inspect\":\"auto\",\"active_multi\":null,\"active_scroll\":\"auto\",\"active_tap\":\"auto\",\"tools\":[{\"id\":\"1654\"}]},\"id\":\"1655\",\"type\":\"Toolbar\"},{\"attributes\":{},\"id\":\"1654\",\"type\":\"SaveTool\"},{\"attributes\":{},\"id\":\"1749\",\"type\":\"BasicTickFormatter\"},{\"attributes\":{\"source\":{\"id\":\"1701\"}},\"id\":\"1705\",\"type\":\"CDSView\"},{\"attributes\":{},\"id\":\"1754\",\"type\":\"Selection\"},{\"attributes\":{},\"id\":\"1750\",\"type\":\"BasicTickFormatter\"},{\"attributes\":{},\"id\":\"1757\",\"type\":\"UnionRenderers\"},{\"attributes\":{\"axis\":{\"id\":\"1650\"},\"dimension\":1,\"ticker\":null},\"id\":\"1653\",\"type\":\"Grid\"},{\"attributes\":{\"source\":{\"id\":\"1661\"}},\"id\":\"1665\",\"type\":\"CDSView\"},{\"attributes\":{\"data\":{\"x\":{\"__ndarray__\":\"sP//a7uwVUCx//8veIdLQDQAAACqLk1ABwAAoG2QSUD7//+vvbNSQP3//38OPkpABAAAYNeiSEAAAADQ25BNQAAAAKADRUpA+///fx8KSkAiAACQEjJTQA==\",\"dtype\":\"float64\",\"shape\":[11]},\"y\":[1985,1990,1989,1994,1986,1991,1995,1988,1992,1993,1987]},\"selected\":{\"id\":\"1760\"},\"selection_policy\":{\"id\":\"1759\"}},\"id\":\"1681\",\"type\":\"ColumnDataSource\"},{\"attributes\":{},\"id\":\"1755\",\"type\":\"UnionRenderers\"},{\"attributes\":{\"data_source\":{\"id\":\"1661\"},\"glyph\":{\"id\":\"1662\"},\"hover_glyph\":null,\"muted_glyph\":null,\"nonselection_glyph\":{\"id\":\"1663\"},\"selection_glyph\":null,\"view\":{\"id\":\"1665\"}},\"id\":\"1664\",\"type\":\"GlyphRenderer\"},{\"attributes\":{},\"id\":\"1751\",\"type\":\"UnionRenderers\"},{\"attributes\":{\"axis\":{\"id\":\"1646\"},\"ticker\":null},\"id\":\"1649\",\"type\":\"Grid\"},{\"attributes\":{\"x0\":{\"field\":\"x0\"},\"x1\":{\"field\":\"x1\"},\"y0\":{\"field\":\"y0\"},\"y1\":{\"field\":\"y1\"}},\"id\":\"1662\",\"type\":\"Segment\"},{\"attributes\":{\"text_align\":\"center\",\"text_alpha\":{\"value\":0.1},\"text_baseline\":\"top\",\"text_color\":{\"value\":\"black\"},\"text_font_size\":{\"value\":\"10px\"},\"x\":{\"field\":\"x\"},\"y\":{\"field\":\"y\"},\"y_offset\":{\"value\":5}},\"id\":\"1703\",\"type\":\"Text\"},{\"attributes\":{},\"id\":\"1753\",\"type\":\"UnionRenderers\"},{\"attributes\":{},\"id\":\"1759\",\"type\":\"UnionRenderers\"},{\"attributes\":{\"text\":\"\\u7f8e\\u56fd\\u9999\\u70df\\u6d88\\u8d39 1985\\uff5e1995\",\"text_font_size\":{\"value\":\"16pt\"}},\"id\":\"1636\",\"type\":\"Title\"},{\"attributes\":{\"ticks\":[1995,1994,1993,1992,1991,1990,1989,1988,1987,1986,1985]},\"id\":\"1659\",\"type\":\"FixedTicker\"},{\"attributes\":{\"data\":{\"x\":[186.035186767578,155.283767700195,197.993988037109,68.046257019043,186.481872558594,154.429946899414,53.0143013000488,176.094650268555,170.497741699219,57.4443130493164,164.808929443359,155.15588378906298,181.805847167969,190.634140014648,64.76247406005861,169.139450073242,172.64778137207,156.33674621582,172.507476806641,176.638961791992,55.7396430969238,164.494445800781,145.58317565918,162.988662719727,149.528915405273,175.950057983398,185.19923400878898,68.53396606445311],\"y\":[1985,1985,1985,1985,1990,1990,1990,1989,1989,1989,1994,1994,1986,1986,1986,1991,1995,1995,1988,1988,1988,1992,1992,1993,1993,1987,1987,1987]},\"selected\":{\"id\":\"1766\"},\"selection_policy\":{\"id\":\"1765\"}},\"id\":\"1696\",\"type\":\"ColumnDataSource\"},{\"attributes\":{},\"id\":\"1761\",\"type\":\"UnionRenderers\"},{\"attributes\":{\"ticks\":[50,100,150,200]},\"id\":\"1657\",\"type\":\"FixedTicker\"},{\"attributes\":{},\"id\":\"1763\",\"type\":\"UnionRenderers\"},{\"attributes\":{\"data\":{\"left\":{\"__ndarray__\":\"BQAAuAcYYEAXAAAoavFcQPL//0cSI15ABwAAGLMLWkAKAADoxuxfQPb//wfM+1tA9f//J1VRW0AAAAAA22lfQBYAAEgZDVtACwAAcNbPWkDr//8vEFZfQA==\",\"dtype\":\"float64\",\"shape\":[11]},\"right\":{\"__ndarray__\":\"BQAAsASlXUAFAABQRhNZQPn//19qCltAAgAAgN8yV0AYAACg1AxdQAEAAGAbeVhAAgAAUJQ1V0D6//9PRdhbQAEAACCmxFdAAAAA0AhMV0Du////FktcQA==\",\"dtype\":\"float64\",\"shape\":[11]},\"y\":[1985,1990,1989,1994,1986,1991,1995,1988,1992,1993,1987]},\"selected\":{\"id\":\"1756\"},\"selection_policy\":{\"id\":\"1755\"}},\"id\":\"1671\",\"type\":\"ColumnDataSource\"},{\"attributes\":{},\"id\":\"1760\",\"type\":\"Selection\"},{\"attributes\":{\"axis_label\":\"\\u9999\\u70df\\u6d88\\u8d39\\uff08\\u5e73\\u5747\\u6bcf\\u4eba\\u6bcf\\u5e74\\u7684\\u5305\\u6570\\uff09\",\"axis_label_text_font_size\":\"12pt\",\"formatter\":{\"id\":\"1750\"},\"major_label_text_font_size\":\"12pt\",\"ticker\":{\"id\":\"1657\"}},\"id\":\"1646\",\"type\":\"LinearAxis\"},{\"attributes\":{\"data_source\":{\"id\":\"1666\"},\"glyph\":{\"id\":\"1667\"},\"hover_glyph\":null,\"muted_glyph\":null,\"nonselection_glyph\":{\"id\":\"1668\"},\"selection_glyph\":null,\"view\":{\"id\":\"1670\"}},\"id\":\"1669\",\"type\":\"GlyphRenderer\"},{\"attributes\":{},\"id\":\"1752\",\"type\":\"Selection\"},{\"attributes\":{\"fill_alpha\":{\"value\":0.5},\"fill_color\":{\"value\":\"navy\"},\"height\":{\"value\":0.7},\"left\":{\"field\":\"left\"},\"line_alpha\":{\"value\":0.5},\"right\":{\"field\":\"right\"},\"y\":{\"field\":\"y\"}},\"id\":\"1672\",\"type\":\"HBar\"},{\"attributes\":{\"end\":215,\"start\":30},\"id\":\"1638\",\"type\":\"Range1d\"},{\"attributes\":{},\"id\":\"1756\",\"type\":\"Selection\"},{\"attributes\":{\"data\":{\"x0\":{\"__ndarray__\":\"sP//a7uwVUCx//8veIdLQDQAAACqLk1ABwAAoG2QSUD7//+vvbNSQP3//38OPkpABAAAYNeiSEAAAADQ25BNQAAAAKADRUpA+///fx8KSkAiAACQEjJTQA==\",\"dtype\":\"float64\",\"shape\":[11]},\"x1\":{\"__ndarray__\":\"5v//ByH9W0D+//+HJN9WQAIAAPgs61dAAQAAcDxJVEAEAAA4w6JaQAEAAJDWulVA/v//t7wOVEAAAACQ4sJYQAIAAMgcIVVAAAAAmPNuVEABAADw3XpaQA==\",\"dtype\":\"float64\",\"shape\":[11]},\"y0\":[1985,1990,1989,1994,1986,1991,1995,1988,1992,1993,1987],\"y1\":[1985,1990,1989,1994,1986,1991,1995,1988,1992,1993,1987]},\"selected\":{\"id\":\"1754\"},\"selection_policy\":{\"id\":\"1753\"}},\"id\":\"1666\",\"type\":\"ColumnDataSource\"},{\"attributes\":{},\"id\":\"1762\",\"type\":\"Selection\"},{\"attributes\":{\"end\":1984,\"start\":1996},\"id\":\"1640\",\"type\":\"Range1d\"},{\"attributes\":{\"data\":{\"left\":{\"__ndarray__\":\"BQAAsASlXUAFAABQRhNZQPn//19qCltAAgAAgN8yV0AYAACg1AxdQAEAAGAbeVhAAgAAUJQ1V0D6//9PRdhbQAEAACCmxFdAAAAA0AhMV0Du////FktcQA==\",\"dtype\":\"float64\",\"shape\":[11]},\"right\":{\"__ndarray__\":\"5v//ByH9W0D+//+HJN9WQAIAAPgs61dAAQAAcDxJVEAEAAA4w6JaQAEAAJDWulVA/v//t7wOVEAAAACQ4sJYQAIAAMgcIVVAAAAAmPNuVEABAADw3XpaQA==\",\"dtype\":\"float64\",\"shape\":[11]},\"y\":[1985,1990,1989,1994,1986,1991,1995,1988,1992,1993,1987]},\"selected\":{\"id\":\"1758\"},\"selection_policy\":{\"id\":\"1757\"}},\"id\":\"1676\",\"type\":\"ColumnDataSource\"},{\"attributes\":{},\"id\":\"1758\",\"type\":\"Selection\"},{\"attributes\":{\"line_alpha\":{\"value\":0.1},\"x0\":{\"field\":\"x0\"},\"x1\":{\"field\":\"x1\"},\"y0\":{\"field\":\"y0\"},\"y1\":{\"field\":\"y1\"}},\"id\":\"1668\",\"type\":\"Segment\"},{\"attributes\":{},\"id\":\"1642\",\"type\":\"LinearScale\"},{\"attributes\":{\"fill_color\":{\"value\":\"#F38630\"},\"line_color\":{\"value\":\"#F38630\"},\"size\":{\"units\":\"screen\",\"value\":6},\"x\":{\"field\":\"x\"},\"y\":{\"field\":\"y\"}},\"id\":\"1697\",\"type\":\"Circle\"},{\"attributes\":{\"source\":{\"id\":\"1666\"}},\"id\":\"1670\",\"type\":\"CDSView\"},{\"attributes\":{\"fill_alpha\":{\"value\":0.1},\"fill_color\":{\"value\":\"#F38630\"},\"line_alpha\":{\"value\":0.1},\"line_color\":{\"value\":\"#F38630\"},\"size\":{\"units\":\"screen\",\"value\":6},\"x\":{\"field\":\"x\"},\"y\":{\"field\":\"y\"}},\"id\":\"1698\",\"type\":\"Circle\"},{\"attributes\":{},\"id\":\"1644\",\"type\":\"LinearScale\"},{\"attributes\":{},\"id\":\"1764\",\"type\":\"Selection\"},{\"attributes\":{\"fill_alpha\":{\"value\":0.1},\"fill_color\":{\"value\":\"navy\"},\"height\":{\"value\":0.7},\"left\":{\"field\":\"left\"},\"line_alpha\":{\"value\":0.1},\"right\":{\"field\":\"right\"},\"y\":{\"field\":\"y\"}},\"id\":\"1673\",\"type\":\"HBar\"},{\"attributes\":{},\"id\":\"1765\",\"type\":\"UnionRenderers\"},{\"attributes\":{\"data\":{\"x0\":{\"__ndarray__\":\"IAAAhjo+Y0AeAABMaQZjQO3//x91u2NACAAAirJXYUAKAAA45u1jQPP//x2ermJA9P//55waY0AAAADUJ7JkQBoAAASK92FADgAAWpUwYkDl///HbU9jQA==\",\"dtype\":\"float64\",\"shape\":[11]},\"x1\":{\"__ndarray__\":\"BQAAuAcYYEAXAAAoavFcQPL//0cSI15ABwAAGLMLWkAKAADoxuxfQPb//wfM+1tA9f//J1VRW0AAAAAA22lfQBYAAEgZDVtACwAAcNbPWkDr//8vEFZfQA==\",\"dtype\":\"float64\",\"shape\":[11]},\"y0\":[1985,1990,1989,1994,1986,1991,1995,1988,1992,1993,1987],\"y1\":[1985,1990,1989,1994,1986,1991,1995,1988,1992,1993,1987]},\"selected\":{\"id\":\"1752\"},\"selection_policy\":{\"id\":\"1751\"}},\"id\":\"1661\",\"type\":\"ColumnDataSource\"},{\"attributes\":{\"fill_alpha\":{\"value\":0.3},\"fill_color\":{\"value\":\"navy\"},\"height\":{\"value\":0.7},\"left\":{\"field\":\"left\"},\"line_alpha\":{\"value\":0.3},\"right\":{\"field\":\"right\"},\"y\":{\"field\":\"y\"}},\"id\":\"1677\",\"type\":\"HBar\"},{\"attributes\":{\"data_source\":{\"id\":\"1676\"},\"glyph\":{\"id\":\"1677\"},\"hover_glyph\":null,\"muted_glyph\":null,\"nonselection_glyph\":{\"id\":\"1678\"},\"selection_glyph\":null,\"view\":{\"id\":\"1680\"}},\"id\":\"1679\",\"type\":\"GlyphRenderer\"},{\"attributes\":{},\"id\":\"1766\",\"type\":\"Selection\"},{\"attributes\":{\"data_source\":{\"id\":\"1671\"},\"glyph\":{\"id\":\"1672\"},\"hover_glyph\":null,\"muted_glyph\":null,\"nonselection_glyph\":{\"id\":\"1673\"},\"selection_glyph\":null,\"view\":{\"id\":\"1675\"}},\"id\":\"1674\",\"type\":\"GlyphRenderer\"},{\"attributes\":{},\"id\":\"1767\",\"type\":\"UnionRenderers\"},{\"attributes\":{\"data\":{\"text\":[\"KY\",\"NC\",\"NH\",\"UT\",\"KY\",\"NH\",\"UT\",\"KY\",\"NH\",\"UT\",\"KY\",\"NH\",\"KY\",\"NH\",\"UT\",\"KY\",\"KY\",\"NH\",\"KY\",\"NH\",\"UT\",\"KY\",\"NH\",\"KY\",\"NH\",\"KY\",\"NH\",\"UT\"],\"x\":[186.035186767578,155.283767700195,197.993988037109,68.046257019043,186.481872558594,154.429946899414,53.0143013000488,176.094650268555,170.497741699219,57.4443130493164,164.808929443359,155.15588378906298,181.805847167969,190.634140014648,64.76247406005861,169.139450073242,172.64778137207,156.33674621582,172.507476806641,176.638961791992,55.7396430969238,164.494445800781,145.58317565918,162.988662719727,149.528915405273,175.950057983398,185.19923400878898,68.53396606445311],\"y\":[1985,1985,1985,1985,1990,1990,1990,1989,1989,1989,1994,1994,1986,1986,1986,1991,1995,1995,1988,1988,1988,1992,1992,1993,1993,1987,1987,1987]},\"selected\":{\"id\":\"1768\"},\"selection_policy\":{\"id\":\"1767\"}},\"id\":\"1701\",\"type\":\"ColumnDataSource\"},{\"attributes\":{},\"id\":\"1768\",\"type\":\"Selection\"},{\"attributes\":{\"source\":{\"id\":\"1671\"}},\"id\":\"1675\",\"type\":\"CDSView\"},{\"attributes\":{\"fill_color\":{\"value\":\"#1f77b4\"},\"height\":{\"units\":\"data\",\"value\":0.2},\"width\":{\"units\":\"data\",\"value\":0.01},\"x\":{\"field\":\"x\"},\"y\":{\"field\":\"y\"}},\"id\":\"1682\",\"type\":\"Rect\"},{\"attributes\":{\"fill_color\":{\"value\":\"#1f77b4\"},\"height\":{\"units\":\"data\",\"value\":0.2},\"width\":{\"units\":\"data\",\"value\":0.01},\"x\":{\"field\":\"x\"},\"y\":{\"field\":\"y\"}},\"id\":\"1687\",\"type\":\"Rect\"},{\"attributes\":{\"fill_alpha\":{\"value\":0.1},\"fill_color\":{\"value\":\"navy\"},\"height\":{\"value\":0.7},\"left\":{\"field\":\"left\"},\"line_alpha\":{\"value\":0.1},\"right\":{\"field\":\"right\"},\"y\":{\"field\":\"y\"}},\"id\":\"1678\",\"type\":\"HBar\"},{\"attributes\":{\"source\":{\"id\":\"1676\"}},\"id\":\"1680\",\"type\":\"CDSView\"},{\"attributes\":{\"data_source\":{\"id\":\"1681\"},\"glyph\":{\"id\":\"1682\"},\"hover_glyph\":null,\"muted_glyph\":null,\"nonselection_glyph\":{\"id\":\"1683\"},\"selection_glyph\":null,\"view\":{\"id\":\"1685\"}},\"id\":\"1684\",\"type\":\"GlyphRenderer\"},{\"attributes\":{\"x0\":{\"field\":\"x0\"},\"x1\":{\"field\":\"x1\"},\"y0\":{\"field\":\"y0\"},\"y1\":{\"field\":\"y1\"}},\"id\":\"1667\",\"type\":\"Segment\"},{\"attributes\":{\"data\":{\"x\":{\"__ndarray__\":\"IAAAhjo+Y0AeAABMaQZjQO3//x91u2NACAAAirJXYUAKAAA45u1jQPP//x2ermJA9P//55waY0AAAADUJ7JkQBoAAASK92FADgAAWpUwYkDl///HbU9jQA==\",\"dtype\":\"float64\",\"shape\":[11]},\"y\":[1985,1990,1989,1994,1986,1991,1995,1988,1992,1993,1987]},\"selected\":{\"id\":\"1762\"},\"selection_policy\":{\"id\":\"1761\"}},\"id\":\"1686\",\"type\":\"ColumnDataSource\"},{\"attributes\":{\"fill_alpha\":{\"value\":0.1},\"fill_color\":{\"value\":\"#1f77b4\"},\"height\":{\"units\":\"data\",\"value\":0.2},\"line_alpha\":{\"value\":0.1},\"width\":{\"units\":\"data\",\"value\":0.01},\"x\":{\"field\":\"x\"},\"y\":{\"field\":\"y\"}},\"id\":\"1683\",\"type\":\"Rect\"},{\"attributes\":{\"source\":{\"id\":\"1681\"}},\"id\":\"1685\",\"type\":\"CDSView\"},{\"attributes\":{\"fill_alpha\":{\"value\":0.1},\"fill_color\":{\"value\":\"#F38630\"},\"line_alpha\":{\"value\":0.1},\"line_color\":{\"value\":\"#F38630\"},\"size\":{\"units\":\"screen\",\"value\":6},\"x\":{\"field\":\"x\"},\"y\":{\"field\":\"y\"}},\"id\":\"1693\",\"type\":\"Circle\"},{\"attributes\":{\"data_source\":{\"id\":\"1686\"},\"glyph\":{\"id\":\"1687\"},\"hover_glyph\":null,\"muted_glyph\":null,\"nonselection_glyph\":{\"id\":\"1688\"},\"selection_glyph\":null,\"view\":{\"id\":\"1690\"}},\"id\":\"1689\",\"type\":\"GlyphRenderer\"},{\"attributes\":{\"data\":{\"x\":[186.035186767578,155.283767700195,197.993988037109,68.046257019043,186.481872558594,154.429946899414,53.0143013000488,176.094650268555,170.497741699219,57.4443130493164,164.808929443359,155.15588378906298,181.805847167969,190.634140014648,64.76247406005861,169.139450073242,172.64778137207,156.33674621582,172.507476806641,176.638961791992,55.7396430969238,164.494445800781,145.58317565918,162.988662719727,149.528915405273,175.950057983398,185.19923400878898,68.53396606445311],\"y\":[1985,1985,1985,1985,1990,1990,1990,1989,1989,1989,1994,1994,1986,1986,1986,1991,1995,1995,1988,1988,1988,1992,1992,1993,1993,1987,1987,1987]},\"selected\":{\"id\":\"1764\"},\"selection_policy\":{\"id\":\"1763\"}},\"id\":\"1691\",\"type\":\"ColumnDataSource\"},{\"attributes\":{\"fill_alpha\":{\"value\":0.1},\"fill_color\":{\"value\":\"#1f77b4\"},\"height\":{\"units\":\"data\",\"value\":0.2},\"line_alpha\":{\"value\":0.1},\"width\":{\"units\":\"data\",\"value\":0.01},\"x\":{\"field\":\"x\"},\"y\":{\"field\":\"y\"}},\"id\":\"1688\",\"type\":\"Rect\"},{\"attributes\":{\"source\":{\"id\":\"1686\"}},\"id\":\"1690\",\"type\":\"CDSView\"},{\"attributes\":{\"source\":{\"id\":\"1696\"}},\"id\":\"1700\",\"type\":\"CDSView\"},{\"attributes\":{\"fill_color\":{\"value\":\"#F38630\"},\"line_color\":{\"value\":\"#F38630\"},\"size\":{\"units\":\"screen\",\"value\":6},\"x\":{\"field\":\"x\"},\"y\":{\"field\":\"y\"}},\"id\":\"1692\",\"type\":\"Circle\"},{\"attributes\":{\"text_align\":\"center\",\"text_baseline\":\"top\",\"text_color\":{\"value\":\"black\"},\"text_font_size\":{\"value\":\"10px\"},\"x\":{\"field\":\"x\"},\"y\":{\"field\":\"y\"},\"y_offset\":{\"value\":5}},\"id\":\"1702\",\"type\":\"Text\"},{\"attributes\":{\"data_source\":{\"id\":\"1691\"},\"glyph\":{\"id\":\"1692\"},\"hover_glyph\":null,\"muted_glyph\":null,\"nonselection_glyph\":{\"id\":\"1693\"},\"selection_glyph\":null,\"view\":{\"id\":\"1695\"}},\"id\":\"1694\",\"type\":\"GlyphRenderer\"},{\"attributes\":{\"source\":{\"id\":\"1691\"}},\"id\":\"1695\",\"type\":\"CDSView\"},{\"attributes\":{\"data_source\":{\"id\":\"1696\"},\"glyph\":{\"id\":\"1697\"},\"hover_glyph\":null,\"muted_glyph\":null,\"nonselection_glyph\":{\"id\":\"1698\"},\"selection_glyph\":null,\"view\":{\"id\":\"1700\"}},\"id\":\"1699\",\"type\":\"GlyphRenderer\"}],\"root_ids\":[\"1635\"]},\"title\":\"Bokeh Application\",\"version\":\"2.0.2\"}};\n  var render_items = [{\"docid\":\"80164569-c1ad-45d9-8f09-fdf53e4ba82e\",\"root_ids\":[\"1635\"],\"roots\":{\"1635\":\"36228c5b-010e-48a3-ba6b-ef87cb59904a\"}}];\n  root.Bokeh.embed.embed_items_notebook(docs_json, render_items);\n\n  }\n  if (root.Bokeh !== undefined) {\n    embed_document(root);\n  } else {\n    var attempts = 0;\n    var timer = setInterval(function(root) {\n      if (root.Bokeh !== undefined) {\n        clearInterval(timer);\n        embed_document(root);\n      } else {\n        attempts++;\n        if (attempts > 100) {\n          clearInterval(timer);\n          console.log(\"Bokeh: ERROR: Unable to run BokehJS code because BokehJS library is missing\");\n        }\n      }\n    }, 10, root)\n  }\n})(window);",
      "application/vnd.bokehjs_exec.v0+json": ""
     },
     "metadata": {
      "application/vnd.bokehjs_exec.v0+json": {
       "id": "1635"
      }
     }
    }
   ],
   "source": [
    "def bokeh_box_horizontal(p, df, by, column, direction=None, all_dot=False):\n",
    "\n",
    "    # generate some synthetic time series for six different categories\n",
    "    cats = list(df[by].unique())\n",
    "    # find the quartiles and IQR for each category\n",
    "    groups = df[[column, by]].groupby(by=by, sort=False)\n",
    "    q1 = groups.quantile(q=0.25)\n",
    "    q2 = groups.quantile(q=0.5)\n",
    "    q3 = groups.quantile(q=0.75)\n",
    "    iqr = q3 - q1\n",
    "    upper = q3 + 1.5*iqr\n",
    "    lower = q1 - 1.5*iqr\n",
    "    # find the outliers for each category\n",
    "    def outliers(group):\n",
    "        cat = group.name\n",
    "        return group[(group[column] > upper.loc[cat][column]) | (group[column] < lower.loc[cat][column])][column]\n",
    "    out = groups.apply(outliers).dropna()\n",
    "    # prepare outlier data for plotting, we need coordinates for every outlier.\n",
    "    if not out.empty:\n",
    "        outx = []\n",
    "        outy = []\n",
    "        for keys in out.index:\n",
    "            outx.append(keys[0])\n",
    "            outy.append(out.loc[keys[0]].loc[keys[1]])\n",
    "\n",
    "    # if no outliers, shrink lengths of stems to be no longer than the minimums or maximums\n",
    "    qmin = groups.quantile(q=0.00)\n",
    "    qmax = groups.quantile(q=1.00)\n",
    "\n",
    "    upper[column] = [min([x,y]) for (x,y) in zip(list(qmax.loc[:,column]),upper[column])]\n",
    "    lower[column] = [max([x,y]) for (x,y) in zip(list(qmin.loc[:,column]),lower[column])]\n",
    "\n",
    "    if direction is None:\n",
    "        direction = 'horizontal'\n",
    "\n",
    "    if direction == 'horizontal':\n",
    "        # stems\n",
    "        p.segment(upper[column], cats, q3[column], cats, line_color=\"black\")\n",
    "        p.segment(lower[column], cats, q1[column], cats, line_color=\"black\")\n",
    "\n",
    "        # boxes\n",
    "        p.hbar(cats, 0.7, q2[column], q3[column], fill_color=\"navy\", alpha=0.5, line_color=\"black\")\n",
    "        p.hbar(cats, 0.7, q1[column], q2[column], fill_color=\"navy\", alpha=0.3, line_color=\"black\")\n",
    "\n",
    "        # whiskers (almost-0 height rects simpler than segments)\n",
    "        p.rect(lower[column], cats, 0.01, 0.2, line_color=\"black\")\n",
    "        p.rect(upper[column], cats, 0.01, 0.2, line_color=\"black\")\n",
    "\n",
    "        if all_dot:\n",
    "            p.circle(df[column], df[by], size=4, color=\"black\", fill_alpha=0.3)\n",
    "        # outliers\n",
    "        if not out.empty:\n",
    "            p.circle(outy, outx, size=6, color=\"#F38630\", fill_alpha=1)\n",
    "            \n",
    "    if direction == 'vertical':\n",
    "        # stems\n",
    "        p.segment(cats, upper[column], cats, q3[column], line_color=\"black\")\n",
    "        p.segment(cats, lower[column], cats, q1[column], line_color=\"black\")\n",
    "\n",
    "        # boxes\n",
    "        p.vbar(cats, 0.7, q2[column], q3[column], fill_color=\"#E08E79\", line_color=\"black\")\n",
    "        p.vbar(cats, 0.7, q1[column], q2[column], fill_color=\"#3B8686\", line_color=\"black\")\n",
    "\n",
    "        # whiskers (almost-0 height rects simpler than segments)\n",
    "        p.rect(cats, lower[column], 0.2, 0.01, line_color=\"black\")\n",
    "        p.rect(cats, upper[column], 0.2, 0.01, line_color=\"black\")\n",
    "\n",
    "        if all_dot:\n",
    "            p.circle(df[by], df[column], size=4, color=\"grey\", fill_alpha=0.6)\n",
    "        # outliers\n",
    "        if not out.empty:\n",
    "            p.circle(outx, outy, size=6, color=\"#F38630\", fill_alpha=1)\n",
    "        \n",
    "    \n",
    "\n",
    "p = figure(title='美国香烟消费 1985～1995', tools=\"save\", \n",
    "           # background_fill_color=\"#efefef\", \n",
    "           x_range=[30, 215], y_range=[1996, 1984], \n",
    "           plot_width=800, plot_height=450, \n",
    "           toolbar_location='right', )\n",
    "p.yaxis.axis_label = '<--- 年 --->'\n",
    "p.xaxis.axis_label = '香烟消费（平均每人每年的包数）'\n",
    "p.title.text_font_size = '16pt'\n",
    "p.axis.axis_label_text_font_size = \"12pt\"\n",
    "p.axis.major_label_text_font_size = \"12pt\"\n",
    "p.xaxis.ticker = [50, 100, 150, 200]\n",
    "p.yaxis.ticker = [_ for _ in range(1995, 1984, -1)]\n",
    "# p.xaxis.ticker.minor_ticks = [51]\n",
    "# p.ygrid.grid_line_color = \"grey\"\n",
    "# p.grid.grid_line_width = 0.5\n",
    "\n",
    "bokeh_box_horizontal(p, df_cigatette, 'year', 'packpc', direction='horizontal', all_dot=False)\n",
    "\n",
    "###########################################################################\n",
    "df, by, column = df_cigatette.copy(), 'year', 'packpc'\n",
    "groups = df[[column, by]].groupby(by=by, sort=False)\n",
    "q1 = groups.quantile(q=0.25)\n",
    "q2 = groups.quantile(q=0.5)\n",
    "q3 = groups.quantile(q=0.75)\n",
    "iqr = q3 - q1\n",
    "upper = q3 + 1.5*iqr\n",
    "lower = q1 - 1.5*iqr\n",
    "# find the outliers for each category\n",
    "def outliers(group):\n",
    "    cat = group.name\n",
    "    return group[(group[column] > upper.loc[cat][column]) | (group[column] < lower.loc[cat][column])][column]\n",
    "out = groups.apply(outliers).dropna()\n",
    "df['id'] = df.index\n",
    "df = df.set_index(['year', 'id'])\n",
    "out.index.values\n",
    "#df[(1985, 15)]\n",
    "df.loc[out.index]\n",
    "\n",
    "###########################################################################\n",
    "# prepare outlier data for plotting, we need coordinates for every outlier.\n",
    "outx = []\n",
    "outy = []\n",
    "if not out.empty:\n",
    "    for keys in out.index:\n",
    "        outx.append(keys[0])\n",
    "        outy.append(out.loc[keys[0]].loc[keys[1]])\n",
    "p.circle(outy, outx, size=6, color=\"#F38630\", fill_alpha=1)\n",
    "p.text(outy, outx, df.loc[out.index]['state'], text_font_size='10px', text_align='center', text_baseline='top', y_offset=5)\n",
    "show(p)"
   ]
  },
  {
   "cell_type": "code",
   "execution_count": 13,
   "metadata": {},
   "outputs": [
    {
     "output_type": "display_data",
     "data": {
      "text/html": "\n\n\n\n\n\n  <div class=\"bk-root\" id=\"db7db039-3627-4f5c-ba5e-d6e74867390c\" data-root-id=\"1635\"></div>\n"
     },
     "metadata": {}
    },
    {
     "output_type": "display_data",
     "data": {
      "application/javascript": "(function(root) {\n  function embed_document(root) {\n    \n  var docs_json = {\"547f6624-0ae1-4552-82fa-7cb1852f3fdd\":{\"roots\":{\"references\":[{\"attributes\":{\"below\":[{\"id\":\"1646\"}],\"center\":[{\"id\":\"1649\"},{\"id\":\"1653\"}],\"left\":[{\"id\":\"1650\"}],\"plot_height\":450,\"plot_width\":800,\"renderers\":[{\"id\":\"1664\"},{\"id\":\"1669\"},{\"id\":\"1674\"},{\"id\":\"1679\"},{\"id\":\"1684\"},{\"id\":\"1689\"},{\"id\":\"1694\"},{\"id\":\"1699\"},{\"id\":\"1704\"},{\"id\":\"1898\"}],\"title\":{\"id\":\"1636\"},\"toolbar\":{\"id\":\"1655\"},\"x_range\":{\"id\":\"1638\"},\"x_scale\":{\"id\":\"1642\"},\"y_range\":{\"id\":\"1640\"},\"y_scale\":{\"id\":\"1644\"}},\"id\":\"1635\",\"subtype\":\"Figure\",\"type\":\"Plot\"},{\"attributes\":{\"data_source\":{\"id\":\"1701\"},\"glyph\":{\"id\":\"1702\"},\"hover_glyph\":null,\"muted_glyph\":null,\"nonselection_glyph\":{\"id\":\"1703\"},\"selection_glyph\":null,\"view\":{\"id\":\"1705\"}},\"id\":\"1704\",\"type\":\"GlyphRenderer\"},{\"attributes\":{},\"id\":\"1963\",\"type\":\"UnionRenderers\"},{\"attributes\":{\"axis_label\":\"<--- \\u5e74 --->\",\"axis_label_text_font_size\":\"12pt\",\"formatter\":{\"id\":\"1749\"},\"major_label_text_font_size\":\"12pt\",\"ticker\":{\"id\":\"1659\"}},\"id\":\"1650\",\"type\":\"LinearAxis\"},{\"attributes\":{\"line_alpha\":{\"value\":0.1},\"x0\":{\"field\":\"x0\"},\"x1\":{\"field\":\"x1\"},\"y0\":{\"field\":\"y0\"},\"y1\":{\"field\":\"y1\"}},\"id\":\"1663\",\"type\":\"Segment\"},{\"attributes\":{\"active_drag\":\"auto\",\"active_inspect\":\"auto\",\"active_multi\":null,\"active_scroll\":\"auto\",\"active_tap\":\"auto\",\"tools\":[{\"id\":\"1654\"}]},\"id\":\"1655\",\"type\":\"Toolbar\"},{\"attributes\":{},\"id\":\"1654\",\"type\":\"SaveTool\"},{\"attributes\":{},\"id\":\"1749\",\"type\":\"BasicTickFormatter\"},{\"attributes\":{\"source\":{\"id\":\"1701\"}},\"id\":\"1705\",\"type\":\"CDSView\"},{\"attributes\":{},\"id\":\"1754\",\"type\":\"Selection\"},{\"attributes\":{},\"id\":\"1750\",\"type\":\"BasicTickFormatter\"},{\"attributes\":{},\"id\":\"1757\",\"type\":\"UnionRenderers\"},{\"attributes\":{\"axis\":{\"id\":\"1650\"},\"dimension\":1,\"ticker\":null},\"id\":\"1653\",\"type\":\"Grid\"},{\"attributes\":{\"source\":{\"id\":\"1661\"}},\"id\":\"1665\",\"type\":\"CDSView\"},{\"attributes\":{\"data\":{\"x\":{\"__ndarray__\":\"sP//a7uwVUCx//8veIdLQDQAAACqLk1ABwAAoG2QSUD7//+vvbNSQP3//38OPkpABAAAYNeiSEAAAADQ25BNQAAAAKADRUpA+///fx8KSkAiAACQEjJTQA==\",\"dtype\":\"float64\",\"shape\":[11]},\"y\":[1985,1990,1989,1994,1986,1991,1995,1988,1992,1993,1987]},\"selected\":{\"id\":\"1760\"},\"selection_policy\":{\"id\":\"1759\"}},\"id\":\"1681\",\"type\":\"ColumnDataSource\"},{\"attributes\":{},\"id\":\"1755\",\"type\":\"UnionRenderers\"},{\"attributes\":{\"data_source\":{\"id\":\"1661\"},\"glyph\":{\"id\":\"1662\"},\"hover_glyph\":null,\"muted_glyph\":null,\"nonselection_glyph\":{\"id\":\"1663\"},\"selection_glyph\":null,\"view\":{\"id\":\"1665\"}},\"id\":\"1664\",\"type\":\"GlyphRenderer\"},{\"attributes\":{},\"id\":\"1751\",\"type\":\"UnionRenderers\"},{\"attributes\":{\"line_color\":\"red\",\"line_dash\":[6],\"x\":{\"field\":\"x\"},\"y\":{\"field\":\"y\"}},\"id\":\"1896\",\"type\":\"Line\"},{\"attributes\":{\"data_source\":{\"id\":\"1895\"},\"glyph\":{\"id\":\"1896\"},\"hover_glyph\":null,\"muted_glyph\":null,\"nonselection_glyph\":{\"id\":\"1897\"},\"selection_glyph\":null,\"view\":{\"id\":\"1899\"}},\"id\":\"1898\",\"type\":\"GlyphRenderer\"},{\"attributes\":{\"axis\":{\"id\":\"1646\"},\"ticker\":null},\"id\":\"1649\",\"type\":\"Grid\"},{\"attributes\":{\"x0\":{\"field\":\"x0\"},\"x1\":{\"field\":\"x1\"},\"y0\":{\"field\":\"y0\"},\"y1\":{\"field\":\"y1\"}},\"id\":\"1662\",\"type\":\"Segment\"},{\"attributes\":{\"text_align\":\"center\",\"text_alpha\":{\"value\":0.1},\"text_baseline\":\"top\",\"text_color\":{\"value\":\"black\"},\"text_font_size\":{\"value\":\"10px\"},\"x\":{\"field\":\"x\"},\"y\":{\"field\":\"y\"},\"y_offset\":{\"value\":5}},\"id\":\"1703\",\"type\":\"Text\"},{\"attributes\":{},\"id\":\"1753\",\"type\":\"UnionRenderers\"},{\"attributes\":{},\"id\":\"1759\",\"type\":\"UnionRenderers\"},{\"attributes\":{\"text\":\"\\u7f8e\\u56fd\\u9999\\u70df\\u6d88\\u8d39 1985\\uff5e1995\",\"text_font_size\":{\"value\":\"16pt\"}},\"id\":\"1636\",\"type\":\"Title\"},{\"attributes\":{\"source\":{\"id\":\"1895\"}},\"id\":\"1899\",\"type\":\"CDSView\"},{\"attributes\":{\"ticks\":[1995,1994,1993,1992,1991,1990,1989,1988,1987,1986,1985]},\"id\":\"1659\",\"type\":\"FixedTicker\"},{\"attributes\":{\"data\":{\"x\":[186.035186767578,155.283767700195,197.993988037109,68.046257019043,186.481872558594,154.429946899414,53.0143013000488,176.094650268555,170.497741699219,57.4443130493164,164.808929443359,155.15588378906298,181.805847167969,190.634140014648,64.76247406005861,169.139450073242,172.64778137207,156.33674621582,172.507476806641,176.638961791992,55.7396430969238,164.494445800781,145.58317565918,162.988662719727,149.528915405273,175.950057983398,185.19923400878898,68.53396606445311],\"y\":[1985,1985,1985,1985,1990,1990,1990,1989,1989,1989,1994,1994,1986,1986,1986,1991,1995,1995,1988,1988,1988,1992,1992,1993,1993,1987,1987,1987]},\"selected\":{\"id\":\"1766\"},\"selection_policy\":{\"id\":\"1765\"}},\"id\":\"1696\",\"type\":\"ColumnDataSource\"},{\"attributes\":{},\"id\":\"1761\",\"type\":\"UnionRenderers\"},{\"attributes\":{\"ticks\":[50,100,150,200]},\"id\":\"1657\",\"type\":\"FixedTicker\"},{\"attributes\":{},\"id\":\"1964\",\"type\":\"Selection\"},{\"attributes\":{},\"id\":\"1763\",\"type\":\"UnionRenderers\"},{\"attributes\":{\"data\":{\"left\":{\"__ndarray__\":\"BQAAuAcYYEAXAAAoavFcQPL//0cSI15ABwAAGLMLWkAKAADoxuxfQPb//wfM+1tA9f//J1VRW0AAAAAA22lfQBYAAEgZDVtACwAAcNbPWkDr//8vEFZfQA==\",\"dtype\":\"float64\",\"shape\":[11]},\"right\":{\"__ndarray__\":\"BQAAsASlXUAFAABQRhNZQPn//19qCltAAgAAgN8yV0AYAACg1AxdQAEAAGAbeVhAAgAAUJQ1V0D6//9PRdhbQAEAACCmxFdAAAAA0AhMV0Du////FktcQA==\",\"dtype\":\"float64\",\"shape\":[11]},\"y\":[1985,1990,1989,1994,1986,1991,1995,1988,1992,1993,1987]},\"selected\":{\"id\":\"1756\"},\"selection_policy\":{\"id\":\"1755\"}},\"id\":\"1671\",\"type\":\"ColumnDataSource\"},{\"attributes\":{},\"id\":\"1760\",\"type\":\"Selection\"},{\"attributes\":{\"axis_label\":\"\\u9999\\u70df\\u6d88\\u8d39\\uff08\\u5e73\\u5747\\u6bcf\\u4eba\\u6bcf\\u5e74\\u7684\\u5305\\u6570\\uff09\",\"axis_label_text_font_size\":\"12pt\",\"formatter\":{\"id\":\"1750\"},\"major_label_text_font_size\":\"12pt\",\"ticker\":{\"id\":\"1657\"}},\"id\":\"1646\",\"type\":\"LinearAxis\"},{\"attributes\":{\"data_source\":{\"id\":\"1666\"},\"glyph\":{\"id\":\"1667\"},\"hover_glyph\":null,\"muted_glyph\":null,\"nonselection_glyph\":{\"id\":\"1668\"},\"selection_glyph\":null,\"view\":{\"id\":\"1670\"}},\"id\":\"1669\",\"type\":\"GlyphRenderer\"},{\"attributes\":{},\"id\":\"1752\",\"type\":\"Selection\"},{\"attributes\":{\"fill_alpha\":{\"value\":0.5},\"fill_color\":{\"value\":\"navy\"},\"height\":{\"value\":0.7},\"left\":{\"field\":\"left\"},\"line_alpha\":{\"value\":0.5},\"right\":{\"field\":\"right\"},\"y\":{\"field\":\"y\"}},\"id\":\"1672\",\"type\":\"HBar\"},{\"attributes\":{\"line_alpha\":0.1,\"line_color\":\"red\",\"line_dash\":[6],\"x\":{\"field\":\"x\"},\"y\":{\"field\":\"y\"}},\"id\":\"1897\",\"type\":\"Line\"},{\"attributes\":{\"end\":215,\"start\":30},\"id\":\"1638\",\"type\":\"Range1d\"},{\"attributes\":{},\"id\":\"1756\",\"type\":\"Selection\"},{\"attributes\":{\"data\":{\"x\":[100,100],\"y\":[1996,1984]},\"selected\":{\"id\":\"1964\"},\"selection_policy\":{\"id\":\"1963\"}},\"id\":\"1895\",\"type\":\"ColumnDataSource\"},{\"attributes\":{\"data\":{\"x0\":{\"__ndarray__\":\"sP//a7uwVUCx//8veIdLQDQAAACqLk1ABwAAoG2QSUD7//+vvbNSQP3//38OPkpABAAAYNeiSEAAAADQ25BNQAAAAKADRUpA+///fx8KSkAiAACQEjJTQA==\",\"dtype\":\"float64\",\"shape\":[11]},\"x1\":{\"__ndarray__\":\"5v//ByH9W0D+//+HJN9WQAIAAPgs61dAAQAAcDxJVEAEAAA4w6JaQAEAAJDWulVA/v//t7wOVEAAAACQ4sJYQAIAAMgcIVVAAAAAmPNuVEABAADw3XpaQA==\",\"dtype\":\"float64\",\"shape\":[11]},\"y0\":[1985,1990,1989,1994,1986,1991,1995,1988,1992,1993,1987],\"y1\":[1985,1990,1989,1994,1986,1991,1995,1988,1992,1993,1987]},\"selected\":{\"id\":\"1754\"},\"selection_policy\":{\"id\":\"1753\"}},\"id\":\"1666\",\"type\":\"ColumnDataSource\"},{\"attributes\":{},\"id\":\"1762\",\"type\":\"Selection\"},{\"attributes\":{\"end\":1984,\"start\":1996},\"id\":\"1640\",\"type\":\"Range1d\"},{\"attributes\":{\"data\":{\"left\":{\"__ndarray__\":\"BQAAsASlXUAFAABQRhNZQPn//19qCltAAgAAgN8yV0AYAACg1AxdQAEAAGAbeVhAAgAAUJQ1V0D6//9PRdhbQAEAACCmxFdAAAAA0AhMV0Du////FktcQA==\",\"dtype\":\"float64\",\"shape\":[11]},\"right\":{\"__ndarray__\":\"5v//ByH9W0D+//+HJN9WQAIAAPgs61dAAQAAcDxJVEAEAAA4w6JaQAEAAJDWulVA/v//t7wOVEAAAACQ4sJYQAIAAMgcIVVAAAAAmPNuVEABAADw3XpaQA==\",\"dtype\":\"float64\",\"shape\":[11]},\"y\":[1985,1990,1989,1994,1986,1991,1995,1988,1992,1993,1987]},\"selected\":{\"id\":\"1758\"},\"selection_policy\":{\"id\":\"1757\"}},\"id\":\"1676\",\"type\":\"ColumnDataSource\"},{\"attributes\":{},\"id\":\"1758\",\"type\":\"Selection\"},{\"attributes\":{\"line_alpha\":{\"value\":0.1},\"x0\":{\"field\":\"x0\"},\"x1\":{\"field\":\"x1\"},\"y0\":{\"field\":\"y0\"},\"y1\":{\"field\":\"y1\"}},\"id\":\"1668\",\"type\":\"Segment\"},{\"attributes\":{},\"id\":\"1642\",\"type\":\"LinearScale\"},{\"attributes\":{\"fill_color\":{\"value\":\"#F38630\"},\"line_color\":{\"value\":\"#F38630\"},\"size\":{\"units\":\"screen\",\"value\":6},\"x\":{\"field\":\"x\"},\"y\":{\"field\":\"y\"}},\"id\":\"1697\",\"type\":\"Circle\"},{\"attributes\":{\"source\":{\"id\":\"1666\"}},\"id\":\"1670\",\"type\":\"CDSView\"},{\"attributes\":{\"fill_alpha\":{\"value\":0.1},\"fill_color\":{\"value\":\"#F38630\"},\"line_alpha\":{\"value\":0.1},\"line_color\":{\"value\":\"#F38630\"},\"size\":{\"units\":\"screen\",\"value\":6},\"x\":{\"field\":\"x\"},\"y\":{\"field\":\"y\"}},\"id\":\"1698\",\"type\":\"Circle\"},{\"attributes\":{},\"id\":\"1644\",\"type\":\"LinearScale\"},{\"attributes\":{},\"id\":\"1764\",\"type\":\"Selection\"},{\"attributes\":{\"fill_alpha\":{\"value\":0.1},\"fill_color\":{\"value\":\"navy\"},\"height\":{\"value\":0.7},\"left\":{\"field\":\"left\"},\"line_alpha\":{\"value\":0.1},\"right\":{\"field\":\"right\"},\"y\":{\"field\":\"y\"}},\"id\":\"1673\",\"type\":\"HBar\"},{\"attributes\":{\"data\":{\"x0\":{\"__ndarray__\":\"IAAAhjo+Y0AeAABMaQZjQO3//x91u2NACAAAirJXYUAKAAA45u1jQPP//x2ermJA9P//55waY0AAAADUJ7JkQBoAAASK92FADgAAWpUwYkDl///HbU9jQA==\",\"dtype\":\"float64\",\"shape\":[11]},\"x1\":{\"__ndarray__\":\"BQAAuAcYYEAXAAAoavFcQPL//0cSI15ABwAAGLMLWkAKAADoxuxfQPb//wfM+1tA9f//J1VRW0AAAAAA22lfQBYAAEgZDVtACwAAcNbPWkDr//8vEFZfQA==\",\"dtype\":\"float64\",\"shape\":[11]},\"y0\":[1985,1990,1989,1994,1986,1991,1995,1988,1992,1993,1987],\"y1\":[1985,1990,1989,1994,1986,1991,1995,1988,1992,1993,1987]},\"selected\":{\"id\":\"1752\"},\"selection_policy\":{\"id\":\"1751\"}},\"id\":\"1661\",\"type\":\"ColumnDataSource\"},{\"attributes\":{},\"id\":\"1765\",\"type\":\"UnionRenderers\"},{\"attributes\":{\"fill_alpha\":{\"value\":0.3},\"fill_color\":{\"value\":\"navy\"},\"height\":{\"value\":0.7},\"left\":{\"field\":\"left\"},\"line_alpha\":{\"value\":0.3},\"right\":{\"field\":\"right\"},\"y\":{\"field\":\"y\"}},\"id\":\"1677\",\"type\":\"HBar\"},{\"attributes\":{\"data_source\":{\"id\":\"1676\"},\"glyph\":{\"id\":\"1677\"},\"hover_glyph\":null,\"muted_glyph\":null,\"nonselection_glyph\":{\"id\":\"1678\"},\"selection_glyph\":null,\"view\":{\"id\":\"1680\"}},\"id\":\"1679\",\"type\":\"GlyphRenderer\"},{\"attributes\":{},\"id\":\"1766\",\"type\":\"Selection\"},{\"attributes\":{\"data_source\":{\"id\":\"1671\"},\"glyph\":{\"id\":\"1672\"},\"hover_glyph\":null,\"muted_glyph\":null,\"nonselection_glyph\":{\"id\":\"1673\"},\"selection_glyph\":null,\"view\":{\"id\":\"1675\"}},\"id\":\"1674\",\"type\":\"GlyphRenderer\"},{\"attributes\":{},\"id\":\"1767\",\"type\":\"UnionRenderers\"},{\"attributes\":{\"data\":{\"text\":[\"KY\",\"NC\",\"NH\",\"UT\",\"KY\",\"NH\",\"UT\",\"KY\",\"NH\",\"UT\",\"KY\",\"NH\",\"KY\",\"NH\",\"UT\",\"KY\",\"KY\",\"NH\",\"KY\",\"NH\",\"UT\",\"KY\",\"NH\",\"KY\",\"NH\",\"KY\",\"NH\",\"UT\"],\"x\":[186.035186767578,155.283767700195,197.993988037109,68.046257019043,186.481872558594,154.429946899414,53.0143013000488,176.094650268555,170.497741699219,57.4443130493164,164.808929443359,155.15588378906298,181.805847167969,190.634140014648,64.76247406005861,169.139450073242,172.64778137207,156.33674621582,172.507476806641,176.638961791992,55.7396430969238,164.494445800781,145.58317565918,162.988662719727,149.528915405273,175.950057983398,185.19923400878898,68.53396606445311],\"y\":[1985,1985,1985,1985,1990,1990,1990,1989,1989,1989,1994,1994,1986,1986,1986,1991,1995,1995,1988,1988,1988,1992,1992,1993,1993,1987,1987,1987]},\"selected\":{\"id\":\"1768\"},\"selection_policy\":{\"id\":\"1767\"}},\"id\":\"1701\",\"type\":\"ColumnDataSource\"},{\"attributes\":{},\"id\":\"1768\",\"type\":\"Selection\"},{\"attributes\":{\"source\":{\"id\":\"1671\"}},\"id\":\"1675\",\"type\":\"CDSView\"},{\"attributes\":{\"fill_color\":{\"value\":\"#1f77b4\"},\"height\":{\"units\":\"data\",\"value\":0.2},\"width\":{\"units\":\"data\",\"value\":0.01},\"x\":{\"field\":\"x\"},\"y\":{\"field\":\"y\"}},\"id\":\"1682\",\"type\":\"Rect\"},{\"attributes\":{\"fill_color\":{\"value\":\"#1f77b4\"},\"height\":{\"units\":\"data\",\"value\":0.2},\"width\":{\"units\":\"data\",\"value\":0.01},\"x\":{\"field\":\"x\"},\"y\":{\"field\":\"y\"}},\"id\":\"1687\",\"type\":\"Rect\"},{\"attributes\":{\"fill_alpha\":{\"value\":0.1},\"fill_color\":{\"value\":\"navy\"},\"height\":{\"value\":0.7},\"left\":{\"field\":\"left\"},\"line_alpha\":{\"value\":0.1},\"right\":{\"field\":\"right\"},\"y\":{\"field\":\"y\"}},\"id\":\"1678\",\"type\":\"HBar\"},{\"attributes\":{\"source\":{\"id\":\"1676\"}},\"id\":\"1680\",\"type\":\"CDSView\"},{\"attributes\":{\"data_source\":{\"id\":\"1681\"},\"glyph\":{\"id\":\"1682\"},\"hover_glyph\":null,\"muted_glyph\":null,\"nonselection_glyph\":{\"id\":\"1683\"},\"selection_glyph\":null,\"view\":{\"id\":\"1685\"}},\"id\":\"1684\",\"type\":\"GlyphRenderer\"},{\"attributes\":{\"x0\":{\"field\":\"x0\"},\"x1\":{\"field\":\"x1\"},\"y0\":{\"field\":\"y0\"},\"y1\":{\"field\":\"y1\"}},\"id\":\"1667\",\"type\":\"Segment\"},{\"attributes\":{\"data\":{\"x\":{\"__ndarray__\":\"IAAAhjo+Y0AeAABMaQZjQO3//x91u2NACAAAirJXYUAKAAA45u1jQPP//x2ermJA9P//55waY0AAAADUJ7JkQBoAAASK92FADgAAWpUwYkDl///HbU9jQA==\",\"dtype\":\"float64\",\"shape\":[11]},\"y\":[1985,1990,1989,1994,1986,1991,1995,1988,1992,1993,1987]},\"selected\":{\"id\":\"1762\"},\"selection_policy\":{\"id\":\"1761\"}},\"id\":\"1686\",\"type\":\"ColumnDataSource\"},{\"attributes\":{\"fill_alpha\":{\"value\":0.1},\"fill_color\":{\"value\":\"#1f77b4\"},\"height\":{\"units\":\"data\",\"value\":0.2},\"line_alpha\":{\"value\":0.1},\"width\":{\"units\":\"data\",\"value\":0.01},\"x\":{\"field\":\"x\"},\"y\":{\"field\":\"y\"}},\"id\":\"1683\",\"type\":\"Rect\"},{\"attributes\":{\"source\":{\"id\":\"1681\"}},\"id\":\"1685\",\"type\":\"CDSView\"},{\"attributes\":{\"fill_alpha\":{\"value\":0.1},\"fill_color\":{\"value\":\"#F38630\"},\"line_alpha\":{\"value\":0.1},\"line_color\":{\"value\":\"#F38630\"},\"size\":{\"units\":\"screen\",\"value\":6},\"x\":{\"field\":\"x\"},\"y\":{\"field\":\"y\"}},\"id\":\"1693\",\"type\":\"Circle\"},{\"attributes\":{\"data_source\":{\"id\":\"1686\"},\"glyph\":{\"id\":\"1687\"},\"hover_glyph\":null,\"muted_glyph\":null,\"nonselection_glyph\":{\"id\":\"1688\"},\"selection_glyph\":null,\"view\":{\"id\":\"1690\"}},\"id\":\"1689\",\"type\":\"GlyphRenderer\"},{\"attributes\":{\"data\":{\"x\":[186.035186767578,155.283767700195,197.993988037109,68.046257019043,186.481872558594,154.429946899414,53.0143013000488,176.094650268555,170.497741699219,57.4443130493164,164.808929443359,155.15588378906298,181.805847167969,190.634140014648,64.76247406005861,169.139450073242,172.64778137207,156.33674621582,172.507476806641,176.638961791992,55.7396430969238,164.494445800781,145.58317565918,162.988662719727,149.528915405273,175.950057983398,185.19923400878898,68.53396606445311],\"y\":[1985,1985,1985,1985,1990,1990,1990,1989,1989,1989,1994,1994,1986,1986,1986,1991,1995,1995,1988,1988,1988,1992,1992,1993,1993,1987,1987,1987]},\"selected\":{\"id\":\"1764\"},\"selection_policy\":{\"id\":\"1763\"}},\"id\":\"1691\",\"type\":\"ColumnDataSource\"},{\"attributes\":{\"fill_alpha\":{\"value\":0.1},\"fill_color\":{\"value\":\"#1f77b4\"},\"height\":{\"units\":\"data\",\"value\":0.2},\"line_alpha\":{\"value\":0.1},\"width\":{\"units\":\"data\",\"value\":0.01},\"x\":{\"field\":\"x\"},\"y\":{\"field\":\"y\"}},\"id\":\"1688\",\"type\":\"Rect\"},{\"attributes\":{\"source\":{\"id\":\"1686\"}},\"id\":\"1690\",\"type\":\"CDSView\"},{\"attributes\":{\"source\":{\"id\":\"1696\"}},\"id\":\"1700\",\"type\":\"CDSView\"},{\"attributes\":{\"fill_color\":{\"value\":\"#F38630\"},\"line_color\":{\"value\":\"#F38630\"},\"size\":{\"units\":\"screen\",\"value\":6},\"x\":{\"field\":\"x\"},\"y\":{\"field\":\"y\"}},\"id\":\"1692\",\"type\":\"Circle\"},{\"attributes\":{\"text_align\":\"center\",\"text_baseline\":\"top\",\"text_color\":{\"value\":\"black\"},\"text_font_size\":{\"value\":\"10px\"},\"x\":{\"field\":\"x\"},\"y\":{\"field\":\"y\"},\"y_offset\":{\"value\":5}},\"id\":\"1702\",\"type\":\"Text\"},{\"attributes\":{\"data_source\":{\"id\":\"1691\"},\"glyph\":{\"id\":\"1692\"},\"hover_glyph\":null,\"muted_glyph\":null,\"nonselection_glyph\":{\"id\":\"1693\"},\"selection_glyph\":null,\"view\":{\"id\":\"1695\"}},\"id\":\"1694\",\"type\":\"GlyphRenderer\"},{\"attributes\":{\"source\":{\"id\":\"1691\"}},\"id\":\"1695\",\"type\":\"CDSView\"},{\"attributes\":{\"data_source\":{\"id\":\"1696\"},\"glyph\":{\"id\":\"1697\"},\"hover_glyph\":null,\"muted_glyph\":null,\"nonselection_glyph\":{\"id\":\"1698\"},\"selection_glyph\":null,\"view\":{\"id\":\"1700\"}},\"id\":\"1699\",\"type\":\"GlyphRenderer\"}],\"root_ids\":[\"1635\"]},\"title\":\"Bokeh Application\",\"version\":\"2.0.2\"}};\n  var render_items = [{\"docid\":\"547f6624-0ae1-4552-82fa-7cb1852f3fdd\",\"root_ids\":[\"1635\"],\"roots\":{\"1635\":\"db7db039-3627-4f5c-ba5e-d6e74867390c\"}}];\n  root.Bokeh.embed.embed_items_notebook(docs_json, render_items);\n\n  }\n  if (root.Bokeh !== undefined) {\n    embed_document(root);\n  } else {\n    var attempts = 0;\n    var timer = setInterval(function(root) {\n      if (root.Bokeh !== undefined) {\n        clearInterval(timer);\n        embed_document(root);\n      } else {\n        attempts++;\n        if (attempts > 100) {\n          clearInterval(timer);\n          console.log(\"Bokeh: ERROR: Unable to run BokehJS code because BokehJS library is missing\");\n        }\n      }\n    }, 10, root)\n  }\n})(window);",
      "application/vnd.bokehjs_exec.v0+json": ""
     },
     "metadata": {
      "application/vnd.bokehjs_exec.v0+json": {
       "id": "1635"
      }
     }
    }
   ],
   "source": [
    "p.line(x=[100, 100], y=[1996, 1984], line_color='red', line_dash='dashed')\n",
    "show(p)"
   ]
  },
  {
   "cell_type": "markdown",
   "metadata": {},
   "source": [
    "---"
   ]
  },
  {
   "cell_type": "code",
   "execution_count": 14,
   "metadata": {},
   "outputs": [
    {
     "output_type": "execute_result",
     "data": {
      "text/plain": "  state  year    cpi       pop      packpc     income        tax      avgprs  \\\n1    AL  1985  1.076   3973000  116.486282   46014968  32.500004  102.181671   \n2    AR  1985  1.076   2327000  128.534592   26210736  37.000000  101.474998   \n3    AZ  1985  1.076   3184000  104.522614   43956936  31.000000  108.578751   \n4    CA  1985  1.076  26444000  100.363037  447102816  26.000000  107.837341   \n5    CO  1985  1.076   3209000  112.963539   49466672  31.000000   94.266663   \n\n        taxs  \n1  33.348335  \n2  37.000000  \n3  36.170418  \n4  32.104000  \n5  31.000000  ",
      "text/html": "<div>\n<style scoped>\n    .dataframe tbody tr th:only-of-type {\n        vertical-align: middle;\n    }\n\n    .dataframe tbody tr th {\n        vertical-align: top;\n    }\n\n    .dataframe thead th {\n        text-align: right;\n    }\n</style>\n<table border=\"1\" class=\"dataframe\">\n  <thead>\n    <tr style=\"text-align: right;\">\n      <th></th>\n      <th>state</th>\n      <th>year</th>\n      <th>cpi</th>\n      <th>pop</th>\n      <th>packpc</th>\n      <th>income</th>\n      <th>tax</th>\n      <th>avgprs</th>\n      <th>taxs</th>\n    </tr>\n  </thead>\n  <tbody>\n    <tr>\n      <th>1</th>\n      <td>AL</td>\n      <td>1985</td>\n      <td>1.076</td>\n      <td>3973000</td>\n      <td>116.486282</td>\n      <td>46014968</td>\n      <td>32.500004</td>\n      <td>102.181671</td>\n      <td>33.348335</td>\n    </tr>\n    <tr>\n      <th>2</th>\n      <td>AR</td>\n      <td>1985</td>\n      <td>1.076</td>\n      <td>2327000</td>\n      <td>128.534592</td>\n      <td>26210736</td>\n      <td>37.000000</td>\n      <td>101.474998</td>\n      <td>37.000000</td>\n    </tr>\n    <tr>\n      <th>3</th>\n      <td>AZ</td>\n      <td>1985</td>\n      <td>1.076</td>\n      <td>3184000</td>\n      <td>104.522614</td>\n      <td>43956936</td>\n      <td>31.000000</td>\n      <td>108.578751</td>\n      <td>36.170418</td>\n    </tr>\n    <tr>\n      <th>4</th>\n      <td>CA</td>\n      <td>1985</td>\n      <td>1.076</td>\n      <td>26444000</td>\n      <td>100.363037</td>\n      <td>447102816</td>\n      <td>26.000000</td>\n      <td>107.837341</td>\n      <td>32.104000</td>\n    </tr>\n    <tr>\n      <th>5</th>\n      <td>CO</td>\n      <td>1985</td>\n      <td>1.076</td>\n      <td>3209000</td>\n      <td>112.963539</td>\n      <td>49466672</td>\n      <td>31.000000</td>\n      <td>94.266663</td>\n      <td>31.000000</td>\n    </tr>\n  </tbody>\n</table>\n</div>"
     },
     "metadata": {},
     "execution_count": 14
    }
   ],
   "source": [
    "df_cigatette = pd.read_csv('cigarette.csv', index_col=0)\n",
    "df_cigatette.head()"
   ]
  },
  {
   "cell_type": "markdown",
   "metadata": {},
   "source": [
    " |  mantissas\n",
    " |      The acceptable list numbers to generate multiples of.\n",
    " |  \n",
    " |  max_interval\n",
    " |      The largest allowable interval between two adjacent ticks.\n",
    " |      \n",
    " |      .. note::\n",
    " |          To specify an unbounded interval, set to ``None``.\n",
    " |  \n",
    " |  min_interval\n",
    " |      The smallest allowable interval between two adjacent ticks.\n",
    " |  \n",
    " |  ----------------------------------------------------------------------\n",
    " |  Data descriptors inherited from ContinuousTicker:\n",
    " |  \n",
    " |  desired_num_ticks\n",
    " |      A desired target number of major tick positions to generate across\n",
    " |      the plot range.\n",
    " |      \n",
    " |      .. note:\n",
    " |          This value is a suggestion, and ticker subclasses may ignore\n",
    " |          it entirely, or use it only as an ideal goal to approach as well\n",
    " |          as can be, in the context of a specific ticking strategy.\n",
    " |  \n",
    " |  num_minor_ticks\n",
    " |      The number of minor tick positions to generate between\n",
    " |      adjacent major tick values."
   ]
  },
  {
   "cell_type": "code",
   "execution_count": 15,
   "metadata": {},
   "outputs": [
    {
     "output_type": "error",
     "ename": "KeyError",
     "evalue": "'state_fn'",
     "traceback": [
      "\u001b[1;31m---------------------------------------------------------------------------\u001b[0m",
      "\u001b[1;31mKeyError\u001b[0m                                  Traceback (most recent call last)",
      "\u001b[1;32mC:\\anaconda3\\lib\\site-packages\\pandas\\core\\indexes\\base.py\u001b[0m in \u001b[0;36mget_loc\u001b[1;34m(self, key, method, tolerance)\u001b[0m\n\u001b[0;32m   2645\u001b[0m             \u001b[1;32mtry\u001b[0m\u001b[1;33m:\u001b[0m\u001b[1;33m\u001b[0m\u001b[1;33m\u001b[0m\u001b[0m\n\u001b[1;32m-> 2646\u001b[1;33m                 \u001b[1;32mreturn\u001b[0m \u001b[0mself\u001b[0m\u001b[1;33m.\u001b[0m\u001b[0m_engine\u001b[0m\u001b[1;33m.\u001b[0m\u001b[0mget_loc\u001b[0m\u001b[1;33m(\u001b[0m\u001b[0mkey\u001b[0m\u001b[1;33m)\u001b[0m\u001b[1;33m\u001b[0m\u001b[1;33m\u001b[0m\u001b[0m\n\u001b[0m\u001b[0;32m   2647\u001b[0m             \u001b[1;32mexcept\u001b[0m \u001b[0mKeyError\u001b[0m\u001b[1;33m:\u001b[0m\u001b[1;33m\u001b[0m\u001b[1;33m\u001b[0m\u001b[0m\n",
      "\u001b[1;32mpandas\\_libs\\index.pyx\u001b[0m in \u001b[0;36mpandas._libs.index.IndexEngine.get_loc\u001b[1;34m()\u001b[0m\n",
      "\u001b[1;32mpandas\\_libs\\index.pyx\u001b[0m in \u001b[0;36mpandas._libs.index.IndexEngine.get_loc\u001b[1;34m()\u001b[0m\n",
      "\u001b[1;32mpandas\\_libs\\hashtable_class_helper.pxi\u001b[0m in \u001b[0;36mpandas._libs.hashtable.PyObjectHashTable.get_item\u001b[1;34m()\u001b[0m\n",
      "\u001b[1;32mpandas\\_libs\\hashtable_class_helper.pxi\u001b[0m in \u001b[0;36mpandas._libs.hashtable.PyObjectHashTable.get_item\u001b[1;34m()\u001b[0m\n",
      "\u001b[1;31mKeyError\u001b[0m: 'state_fn'",
      "\nDuring handling of the above exception, another exception occurred:\n",
      "\u001b[1;31mKeyError\u001b[0m                                  Traceback (most recent call last)",
      "\u001b[1;32m<ipython-input-15-0194f8346b01>\u001b[0m in \u001b[0;36m<module>\u001b[1;34m\u001b[0m\n\u001b[1;32m----> 1\u001b[1;33m \u001b[0my_ticker\u001b[0m \u001b[1;33m=\u001b[0m \u001b[0mdf_cigatette\u001b[0m\u001b[1;33m[\u001b[0m\u001b[1;34m'state_fn'\u001b[0m\u001b[1;33m]\u001b[0m\u001b[1;33m.\u001b[0m\u001b[0munique\u001b[0m\u001b[1;33m(\u001b[0m\u001b[1;33m)\u001b[0m\u001b[1;33m.\u001b[0m\u001b[0mtolist\u001b[0m\u001b[1;33m(\u001b[0m\u001b[1;33m)\u001b[0m\u001b[1;33m\u001b[0m\u001b[1;33m\u001b[0m\u001b[0m\n\u001b[0m",
      "\u001b[1;32mC:\\anaconda3\\lib\\site-packages\\pandas\\core\\frame.py\u001b[0m in \u001b[0;36m__getitem__\u001b[1;34m(self, key)\u001b[0m\n\u001b[0;32m   2798\u001b[0m             \u001b[1;32mif\u001b[0m \u001b[0mself\u001b[0m\u001b[1;33m.\u001b[0m\u001b[0mcolumns\u001b[0m\u001b[1;33m.\u001b[0m\u001b[0mnlevels\u001b[0m \u001b[1;33m>\u001b[0m \u001b[1;36m1\u001b[0m\u001b[1;33m:\u001b[0m\u001b[1;33m\u001b[0m\u001b[1;33m\u001b[0m\u001b[0m\n\u001b[0;32m   2799\u001b[0m                 \u001b[1;32mreturn\u001b[0m \u001b[0mself\u001b[0m\u001b[1;33m.\u001b[0m\u001b[0m_getitem_multilevel\u001b[0m\u001b[1;33m(\u001b[0m\u001b[0mkey\u001b[0m\u001b[1;33m)\u001b[0m\u001b[1;33m\u001b[0m\u001b[1;33m\u001b[0m\u001b[0m\n\u001b[1;32m-> 2800\u001b[1;33m             \u001b[0mindexer\u001b[0m \u001b[1;33m=\u001b[0m \u001b[0mself\u001b[0m\u001b[1;33m.\u001b[0m\u001b[0mcolumns\u001b[0m\u001b[1;33m.\u001b[0m\u001b[0mget_loc\u001b[0m\u001b[1;33m(\u001b[0m\u001b[0mkey\u001b[0m\u001b[1;33m)\u001b[0m\u001b[1;33m\u001b[0m\u001b[1;33m\u001b[0m\u001b[0m\n\u001b[0m\u001b[0;32m   2801\u001b[0m             \u001b[1;32mif\u001b[0m \u001b[0mis_integer\u001b[0m\u001b[1;33m(\u001b[0m\u001b[0mindexer\u001b[0m\u001b[1;33m)\u001b[0m\u001b[1;33m:\u001b[0m\u001b[1;33m\u001b[0m\u001b[1;33m\u001b[0m\u001b[0m\n\u001b[0;32m   2802\u001b[0m                 \u001b[0mindexer\u001b[0m \u001b[1;33m=\u001b[0m \u001b[1;33m[\u001b[0m\u001b[0mindexer\u001b[0m\u001b[1;33m]\u001b[0m\u001b[1;33m\u001b[0m\u001b[1;33m\u001b[0m\u001b[0m\n",
      "\u001b[1;32mC:\\anaconda3\\lib\\site-packages\\pandas\\core\\indexes\\base.py\u001b[0m in \u001b[0;36mget_loc\u001b[1;34m(self, key, method, tolerance)\u001b[0m\n\u001b[0;32m   2646\u001b[0m                 \u001b[1;32mreturn\u001b[0m \u001b[0mself\u001b[0m\u001b[1;33m.\u001b[0m\u001b[0m_engine\u001b[0m\u001b[1;33m.\u001b[0m\u001b[0mget_loc\u001b[0m\u001b[1;33m(\u001b[0m\u001b[0mkey\u001b[0m\u001b[1;33m)\u001b[0m\u001b[1;33m\u001b[0m\u001b[1;33m\u001b[0m\u001b[0m\n\u001b[0;32m   2647\u001b[0m             \u001b[1;32mexcept\u001b[0m \u001b[0mKeyError\u001b[0m\u001b[1;33m:\u001b[0m\u001b[1;33m\u001b[0m\u001b[1;33m\u001b[0m\u001b[0m\n\u001b[1;32m-> 2648\u001b[1;33m                 \u001b[1;32mreturn\u001b[0m \u001b[0mself\u001b[0m\u001b[1;33m.\u001b[0m\u001b[0m_engine\u001b[0m\u001b[1;33m.\u001b[0m\u001b[0mget_loc\u001b[0m\u001b[1;33m(\u001b[0m\u001b[0mself\u001b[0m\u001b[1;33m.\u001b[0m\u001b[0m_maybe_cast_indexer\u001b[0m\u001b[1;33m(\u001b[0m\u001b[0mkey\u001b[0m\u001b[1;33m)\u001b[0m\u001b[1;33m)\u001b[0m\u001b[1;33m\u001b[0m\u001b[1;33m\u001b[0m\u001b[0m\n\u001b[0m\u001b[0;32m   2649\u001b[0m         \u001b[0mindexer\u001b[0m \u001b[1;33m=\u001b[0m \u001b[0mself\u001b[0m\u001b[1;33m.\u001b[0m\u001b[0mget_indexer\u001b[0m\u001b[1;33m(\u001b[0m\u001b[1;33m[\u001b[0m\u001b[0mkey\u001b[0m\u001b[1;33m]\u001b[0m\u001b[1;33m,\u001b[0m \u001b[0mmethod\u001b[0m\u001b[1;33m=\u001b[0m\u001b[0mmethod\u001b[0m\u001b[1;33m,\u001b[0m \u001b[0mtolerance\u001b[0m\u001b[1;33m=\u001b[0m\u001b[0mtolerance\u001b[0m\u001b[1;33m)\u001b[0m\u001b[1;33m\u001b[0m\u001b[1;33m\u001b[0m\u001b[0m\n\u001b[0;32m   2650\u001b[0m         \u001b[1;32mif\u001b[0m \u001b[0mindexer\u001b[0m\u001b[1;33m.\u001b[0m\u001b[0mndim\u001b[0m \u001b[1;33m>\u001b[0m \u001b[1;36m1\u001b[0m \u001b[1;32mor\u001b[0m \u001b[0mindexer\u001b[0m\u001b[1;33m.\u001b[0m\u001b[0msize\u001b[0m \u001b[1;33m>\u001b[0m \u001b[1;36m1\u001b[0m\u001b[1;33m:\u001b[0m\u001b[1;33m\u001b[0m\u001b[1;33m\u001b[0m\u001b[0m\n",
      "\u001b[1;32mpandas\\_libs\\index.pyx\u001b[0m in \u001b[0;36mpandas._libs.index.IndexEngine.get_loc\u001b[1;34m()\u001b[0m\n",
      "\u001b[1;32mpandas\\_libs\\index.pyx\u001b[0m in \u001b[0;36mpandas._libs.index.IndexEngine.get_loc\u001b[1;34m()\u001b[0m\n",
      "\u001b[1;32mpandas\\_libs\\hashtable_class_helper.pxi\u001b[0m in \u001b[0;36mpandas._libs.hashtable.PyObjectHashTable.get_item\u001b[1;34m()\u001b[0m\n",
      "\u001b[1;32mpandas\\_libs\\hashtable_class_helper.pxi\u001b[0m in \u001b[0;36mpandas._libs.hashtable.PyObjectHashTable.get_item\u001b[1;34m()\u001b[0m\n",
      "\u001b[1;31mKeyError\u001b[0m: 'state_fn'"
     ]
    }
   ],
   "source": [
    "y_ticker = df_cigatette['state_fn'].unique().tolist()"
   ]
  },
  {
   "cell_type": "code",
   "execution_count": 16,
   "metadata": {},
   "outputs": [
    {
     "output_type": "error",
     "ename": "KeyError",
     "evalue": "'state_fn'",
     "traceback": [
      "\u001b[1;31m---------------------------------------------------------------------------\u001b[0m",
      "\u001b[1;31mKeyError\u001b[0m                                  Traceback (most recent call last)",
      "\u001b[1;32mC:\\anaconda3\\lib\\site-packages\\pandas\\core\\indexes\\base.py\u001b[0m in \u001b[0;36mget_loc\u001b[1;34m(self, key, method, tolerance)\u001b[0m\n\u001b[0;32m   2645\u001b[0m             \u001b[1;32mtry\u001b[0m\u001b[1;33m:\u001b[0m\u001b[1;33m\u001b[0m\u001b[1;33m\u001b[0m\u001b[0m\n\u001b[1;32m-> 2646\u001b[1;33m                 \u001b[1;32mreturn\u001b[0m \u001b[0mself\u001b[0m\u001b[1;33m.\u001b[0m\u001b[0m_engine\u001b[0m\u001b[1;33m.\u001b[0m\u001b[0mget_loc\u001b[0m\u001b[1;33m(\u001b[0m\u001b[0mkey\u001b[0m\u001b[1;33m)\u001b[0m\u001b[1;33m\u001b[0m\u001b[1;33m\u001b[0m\u001b[0m\n\u001b[0m\u001b[0;32m   2647\u001b[0m             \u001b[1;32mexcept\u001b[0m \u001b[0mKeyError\u001b[0m\u001b[1;33m:\u001b[0m\u001b[1;33m\u001b[0m\u001b[1;33m\u001b[0m\u001b[0m\n",
      "\u001b[1;32mpandas\\_libs\\index.pyx\u001b[0m in \u001b[0;36mpandas._libs.index.IndexEngine.get_loc\u001b[1;34m()\u001b[0m\n",
      "\u001b[1;32mpandas\\_libs\\index.pyx\u001b[0m in \u001b[0;36mpandas._libs.index.IndexEngine.get_loc\u001b[1;34m()\u001b[0m\n",
      "\u001b[1;32mpandas\\_libs\\hashtable_class_helper.pxi\u001b[0m in \u001b[0;36mpandas._libs.hashtable.PyObjectHashTable.get_item\u001b[1;34m()\u001b[0m\n",
      "\u001b[1;32mpandas\\_libs\\hashtable_class_helper.pxi\u001b[0m in \u001b[0;36mpandas._libs.hashtable.PyObjectHashTable.get_item\u001b[1;34m()\u001b[0m\n",
      "\u001b[1;31mKeyError\u001b[0m: 'state_fn'",
      "\nDuring handling of the above exception, another exception occurred:\n",
      "\u001b[1;31mKeyError\u001b[0m                                  Traceback (most recent call last)",
      "\u001b[1;32m<ipython-input-16-ec58306df4a6>\u001b[0m in \u001b[0;36m<module>\u001b[1;34m\u001b[0m\n\u001b[0;32m      2\u001b[0m            \u001b[1;31m# background_fill_color=\"#efefef\",\u001b[0m\u001b[1;33m\u001b[0m\u001b[1;33m\u001b[0m\u001b[1;33m\u001b[0m\u001b[0m\n\u001b[0;32m      3\u001b[0m            \u001b[0mx_range\u001b[0m\u001b[1;33m=\u001b[0m\u001b[1;33m[\u001b[0m\u001b[1;36m45\u001b[0m\u001b[1;33m,\u001b[0m \u001b[1;36m205\u001b[0m\u001b[1;33m]\u001b[0m\u001b[1;33m,\u001b[0m\u001b[1;33m\u001b[0m\u001b[1;33m\u001b[0m\u001b[0m\n\u001b[1;32m----> 4\u001b[1;33m            \u001b[0my_range\u001b[0m\u001b[1;33m=\u001b[0m\u001b[0mlist\u001b[0m\u001b[1;33m(\u001b[0m\u001b[0mdf_cigatette\u001b[0m\u001b[1;33m[\u001b[0m\u001b[1;34m'state_fn'\u001b[0m\u001b[1;33m]\u001b[0m\u001b[1;33m.\u001b[0m\u001b[0munique\u001b[0m\u001b[1;33m(\u001b[0m\u001b[1;33m)\u001b[0m\u001b[1;33m)\u001b[0m\u001b[1;33m,\u001b[0m\u001b[1;33m\u001b[0m\u001b[1;33m\u001b[0m\u001b[0m\n\u001b[0m\u001b[0;32m      5\u001b[0m            \u001b[0mplot_width\u001b[0m\u001b[1;33m=\u001b[0m\u001b[1;36m800\u001b[0m\u001b[1;33m,\u001b[0m \u001b[0mplot_height\u001b[0m\u001b[1;33m=\u001b[0m\u001b[1;36m1000\u001b[0m\u001b[1;33m,\u001b[0m\u001b[1;33m\u001b[0m\u001b[1;33m\u001b[0m\u001b[0m\n\u001b[0;32m      6\u001b[0m            toolbar_location='right', )\n",
      "\u001b[1;32mC:\\anaconda3\\lib\\site-packages\\pandas\\core\\frame.py\u001b[0m in \u001b[0;36m__getitem__\u001b[1;34m(self, key)\u001b[0m\n\u001b[0;32m   2798\u001b[0m             \u001b[1;32mif\u001b[0m \u001b[0mself\u001b[0m\u001b[1;33m.\u001b[0m\u001b[0mcolumns\u001b[0m\u001b[1;33m.\u001b[0m\u001b[0mnlevels\u001b[0m \u001b[1;33m>\u001b[0m \u001b[1;36m1\u001b[0m\u001b[1;33m:\u001b[0m\u001b[1;33m\u001b[0m\u001b[1;33m\u001b[0m\u001b[0m\n\u001b[0;32m   2799\u001b[0m                 \u001b[1;32mreturn\u001b[0m \u001b[0mself\u001b[0m\u001b[1;33m.\u001b[0m\u001b[0m_getitem_multilevel\u001b[0m\u001b[1;33m(\u001b[0m\u001b[0mkey\u001b[0m\u001b[1;33m)\u001b[0m\u001b[1;33m\u001b[0m\u001b[1;33m\u001b[0m\u001b[0m\n\u001b[1;32m-> 2800\u001b[1;33m             \u001b[0mindexer\u001b[0m \u001b[1;33m=\u001b[0m \u001b[0mself\u001b[0m\u001b[1;33m.\u001b[0m\u001b[0mcolumns\u001b[0m\u001b[1;33m.\u001b[0m\u001b[0mget_loc\u001b[0m\u001b[1;33m(\u001b[0m\u001b[0mkey\u001b[0m\u001b[1;33m)\u001b[0m\u001b[1;33m\u001b[0m\u001b[1;33m\u001b[0m\u001b[0m\n\u001b[0m\u001b[0;32m   2801\u001b[0m             \u001b[1;32mif\u001b[0m \u001b[0mis_integer\u001b[0m\u001b[1;33m(\u001b[0m\u001b[0mindexer\u001b[0m\u001b[1;33m)\u001b[0m\u001b[1;33m:\u001b[0m\u001b[1;33m\u001b[0m\u001b[1;33m\u001b[0m\u001b[0m\n\u001b[0;32m   2802\u001b[0m                 \u001b[0mindexer\u001b[0m \u001b[1;33m=\u001b[0m \u001b[1;33m[\u001b[0m\u001b[0mindexer\u001b[0m\u001b[1;33m]\u001b[0m\u001b[1;33m\u001b[0m\u001b[1;33m\u001b[0m\u001b[0m\n",
      "\u001b[1;32mC:\\anaconda3\\lib\\site-packages\\pandas\\core\\indexes\\base.py\u001b[0m in \u001b[0;36mget_loc\u001b[1;34m(self, key, method, tolerance)\u001b[0m\n\u001b[0;32m   2646\u001b[0m                 \u001b[1;32mreturn\u001b[0m \u001b[0mself\u001b[0m\u001b[1;33m.\u001b[0m\u001b[0m_engine\u001b[0m\u001b[1;33m.\u001b[0m\u001b[0mget_loc\u001b[0m\u001b[1;33m(\u001b[0m\u001b[0mkey\u001b[0m\u001b[1;33m)\u001b[0m\u001b[1;33m\u001b[0m\u001b[1;33m\u001b[0m\u001b[0m\n\u001b[0;32m   2647\u001b[0m             \u001b[1;32mexcept\u001b[0m \u001b[0mKeyError\u001b[0m\u001b[1;33m:\u001b[0m\u001b[1;33m\u001b[0m\u001b[1;33m\u001b[0m\u001b[0m\n\u001b[1;32m-> 2648\u001b[1;33m                 \u001b[1;32mreturn\u001b[0m \u001b[0mself\u001b[0m\u001b[1;33m.\u001b[0m\u001b[0m_engine\u001b[0m\u001b[1;33m.\u001b[0m\u001b[0mget_loc\u001b[0m\u001b[1;33m(\u001b[0m\u001b[0mself\u001b[0m\u001b[1;33m.\u001b[0m\u001b[0m_maybe_cast_indexer\u001b[0m\u001b[1;33m(\u001b[0m\u001b[0mkey\u001b[0m\u001b[1;33m)\u001b[0m\u001b[1;33m)\u001b[0m\u001b[1;33m\u001b[0m\u001b[1;33m\u001b[0m\u001b[0m\n\u001b[0m\u001b[0;32m   2649\u001b[0m         \u001b[0mindexer\u001b[0m \u001b[1;33m=\u001b[0m \u001b[0mself\u001b[0m\u001b[1;33m.\u001b[0m\u001b[0mget_indexer\u001b[0m\u001b[1;33m(\u001b[0m\u001b[1;33m[\u001b[0m\u001b[0mkey\u001b[0m\u001b[1;33m]\u001b[0m\u001b[1;33m,\u001b[0m \u001b[0mmethod\u001b[0m\u001b[1;33m=\u001b[0m\u001b[0mmethod\u001b[0m\u001b[1;33m,\u001b[0m \u001b[0mtolerance\u001b[0m\u001b[1;33m=\u001b[0m\u001b[0mtolerance\u001b[0m\u001b[1;33m)\u001b[0m\u001b[1;33m\u001b[0m\u001b[1;33m\u001b[0m\u001b[0m\n\u001b[0;32m   2650\u001b[0m         \u001b[1;32mif\u001b[0m \u001b[0mindexer\u001b[0m\u001b[1;33m.\u001b[0m\u001b[0mndim\u001b[0m \u001b[1;33m>\u001b[0m \u001b[1;36m1\u001b[0m \u001b[1;32mor\u001b[0m \u001b[0mindexer\u001b[0m\u001b[1;33m.\u001b[0m\u001b[0msize\u001b[0m \u001b[1;33m>\u001b[0m \u001b[1;36m1\u001b[0m\u001b[1;33m:\u001b[0m\u001b[1;33m\u001b[0m\u001b[1;33m\u001b[0m\u001b[0m\n",
      "\u001b[1;32mpandas\\_libs\\index.pyx\u001b[0m in \u001b[0;36mpandas._libs.index.IndexEngine.get_loc\u001b[1;34m()\u001b[0m\n",
      "\u001b[1;32mpandas\\_libs\\index.pyx\u001b[0m in \u001b[0;36mpandas._libs.index.IndexEngine.get_loc\u001b[1;34m()\u001b[0m\n",
      "\u001b[1;32mpandas\\_libs\\hashtable_class_helper.pxi\u001b[0m in \u001b[0;36mpandas._libs.hashtable.PyObjectHashTable.get_item\u001b[1;34m()\u001b[0m\n",
      "\u001b[1;32mpandas\\_libs\\hashtable_class_helper.pxi\u001b[0m in \u001b[0;36mpandas._libs.hashtable.PyObjectHashTable.get_item\u001b[1;34m()\u001b[0m\n",
      "\u001b[1;31mKeyError\u001b[0m: 'state_fn'"
     ]
    }
   ],
   "source": [
    "p = figure(title='美国香烟消费 1985～1995', tools=\"save\", \n",
    "           # background_fill_color=\"#efefef\", \n",
    "           x_range=[45, 205], \n",
    "           y_range=list(df_cigatette['state_fn'].unique()), \n",
    "           plot_width=800, plot_height=1000, \n",
    "           toolbar_location='right', )\n",
    "p.yaxis.axis_label = '<--- 年 --->'\n",
    "p.xaxis.axis_label = '香烟消费（平均每人每年的包数）'\n",
    "p.title.text_font_size = '16pt'\n",
    "p.axis.axis_label_text_font_size = \"12pt\"\n",
    "p.axis.major_label_text_font_size = \"10pt\"\n",
    "p.xaxis.ticker.min_interval = 50\n",
    "p.xaxis.ticker.num_minor_ticks = 5\n",
    "# p.xaxis.ticker = [50, 100, 150, 200]\n",
    "# p.yaxis.ticker = ['1']\n",
    "# p.xaxis.ticker.minor_ticks = [51]\n",
    "# p.ygrid.grid_line_color = \"grey\"\n",
    "# p.grid.grid_line_width = 0.5\n",
    "\n",
    "bokeh_box_horizontal(p, df_cigatette, 'state_fn', 'packpc', direction='horizontal', all_dot=False)\n",
    "show(p)"
   ]
  },
  {
   "cell_type": "code",
   "execution_count": 17,
   "metadata": {},
   "outputs": [],
   "source": [
    "usa_states = '''<table log-set-param=\"table_view\" width=\"658\" class=\"table-view log-set-param\"><tbody><tr><th width=\"70\">缩写</th><th width=\"155\">州名原文</th><th width=\"134\">州名中译</th><th width=\"152\">首府中译</th><th width=\"146\">首府原文</th></tr><tr><td width=\"70\" align=\"left\" valign=\"middle\"><div class=\"para\" label-module=\"para\"><b>AL</b></div>\n",
    "</td><td width=\"155\" align=\"left\" valign=\"middle\"><div class=\"para\" label-module=\"para\">Alabama</div>\n",
    "</td><td width=\"134\" align=\"left\" valign=\"middle\"><a target=\"_blank\" href=\"/item/%E4%BA%9A%E6%8B%89%E5%B7%B4%E9%A9%AC%E5%B7%9E/7052671\" data-lemmaid=\"7052671\">亚拉巴马州</a></td><td width=\"152\" align=\"left\" valign=\"middle\"><div class=\"para\" label-module=\"para\"><a target=\"_blank\" href=\"/item/%E8%92%99%E5%93%A5%E9%A9%AC%E5%88%A9/9638033\" data-lemmaid=\"9638033\">蒙哥马利</a></div>\n",
    "</td><td width=\"146\" align=\"left\" valign=\"middle\"><div class=\"para\" label-module=\"para\">Montgomery</div>\n",
    "</td></tr><tr><td width=\"70\" align=\"left\" valign=\"middle\"><div class=\"para\" label-module=\"para\"><b>AK</b></div>\n",
    "</td><td width=\"155\" align=\"left\" valign=\"middle\"><div class=\"para\" label-module=\"para\">Alaska</div>\n",
    "</td><td width=\"134\" align=\"left\" valign=\"middle\"><div class=\"para\" label-module=\"para\"><a target=\"_blank\" href=\"/item/%E9%98%BF%E6%8B%89%E6%96%AF%E5%8A%A0%E5%B7%9E/1947146\" data-lemmaid=\"1947146\">阿拉斯加州</a></div>\n",
    "</td><td width=\"152\" align=\"left\" valign=\"middle\"><div class=\"para\" label-module=\"para\"><a target=\"_blank\" href=\"/item/%E6%9C%B1%E8%AF%BA/10416013\" data-lemmaid=\"10416013\">朱诺</a></div>\n",
    "</td><td width=\"146\" align=\"left\" valign=\"middle\"><div class=\"para\" label-module=\"para\">Juneau</div>\n",
    "</td></tr><tr><td width=\"70\" align=\"left\" valign=\"middle\"><div class=\"para\" label-module=\"para\"><b>AZ</b></div>\n",
    "</td><td width=\"155\" align=\"left\" valign=\"middle\"><div class=\"para\" label-module=\"para\">Arizona</div>\n",
    "</td><td width=\"134\" align=\"left\" valign=\"middle\"><div class=\"para\" label-module=\"para\"><a target=\"_blank\" href=\"/item/%E4%BA%9A%E5%88%A9%E6%A1%91%E9%82%A3%E5%B7%9E/2016570\" data-lemmaid=\"2016570\">亚利桑那州</a></div>\n",
    "</td><td width=\"152\" align=\"left\" valign=\"middle\"><div class=\"para\" label-module=\"para\"><a target=\"_blank\" href=\"/item/%E8%8F%B2%E5%B0%BC%E5%85%8B%E6%96%AF/4856\" data-lemmaid=\"4856\">菲尼克斯</a></div>\n",
    "</td><td width=\"146\" align=\"left\" valign=\"middle\"><div class=\"para\" label-module=\"para\">Phoenix</div>\n",
    "</td></tr><tr><td width=\"70\" align=\"left\" valign=\"middle\"><div class=\"para\" label-module=\"para\"><b>AR</b></div>\n",
    "</td><td width=\"155\" align=\"left\" valign=\"middle\"><div class=\"para\" label-module=\"para\">Arkansas</div>\n",
    "</td><td width=\"134\" align=\"left\" valign=\"middle\"><div class=\"para\" label-module=\"para\"><a target=\"_blank\" href=\"/item/%E9%98%BF%E8%82%AF%E8%89%B2%E5%B7%9E/3436196\" data-lemmaid=\"3436196\">阿肯色州</a></div>\n",
    "</td><td width=\"152\" align=\"left\" valign=\"middle\"><div class=\"para\" label-module=\"para\"><a target=\"_blank\" href=\"/item/%E5%B0%8F%E7%9F%B3%E5%9F%8E/5393602\" data-lemmaid=\"5393602\">小石城</a></div>\n",
    "</td><td width=\"146\" align=\"left\" valign=\"middle\"><div class=\"para\" label-module=\"para\">Little Rock</div>\n",
    "</td></tr><tr><td width=\"70\" align=\"left\" valign=\"middle\"><div class=\"para\" label-module=\"para\"><b>CA</b></div>\n",
    "</td><td width=\"155\" align=\"left\" valign=\"middle\"><div class=\"para\" label-module=\"para\">California</div>\n",
    "</td><td width=\"134\" align=\"left\" valign=\"middle\"><div class=\"para\" label-module=\"para\"><a target=\"_blank\" href=\"/item/%E5%8A%A0%E5%88%A9%E7%A6%8F%E5%B0%BC%E4%BA%9A%E5%B7%9E/40442\" data-lemmaid=\"40442\">加利福尼亚州</a></div>\n",
    "</td><td width=\"152\" align=\"left\" valign=\"middle\"><div class=\"para\" label-module=\"para\"><a target=\"_blank\" href=\"/item/%E8%90%A8%E5%85%8B%E6%8B%89%E9%97%A8%E6%89%98/5404480\" data-lemmaid=\"5404480\">萨克拉门托</a></div>\n",
    "</td><td width=\"146\" align=\"left\" valign=\"middle\"><div class=\"para\" label-module=\"para\">Sacramento</div>\n",
    "</td></tr><tr><td width=\"70\" align=\"left\" valign=\"middle\"><div class=\"para\" label-module=\"para\"><b>CO</b></div>\n",
    "</td><td width=\"155\" align=\"left\" valign=\"middle\"><div class=\"para\" label-module=\"para\">Colorado</div>\n",
    "</td><td width=\"134\" align=\"left\" valign=\"middle\"><div class=\"para\" label-module=\"para\"><a target=\"_blank\" href=\"/item/%E7%A7%91%E7%BD%97%E6%8B%89%E5%A4%9A%E5%B7%9E/3288702\" data-lemmaid=\"3288702\">科罗拉多州</a></div>\n",
    "</td><td width=\"152\" align=\"left\" valign=\"middle\"><div class=\"para\" label-module=\"para\"><a target=\"_blank\" href=\"/item/%E4%B8%B9%E4%BD%9B/2927494\" data-lemmaid=\"2927494\">丹佛</a></div>\n",
    "</td><td width=\"146\" align=\"left\" valign=\"middle\"><div class=\"para\" label-module=\"para\">Denver</div>\n",
    "</td></tr><tr><td width=\"70\" align=\"left\" valign=\"middle\"><div class=\"para\" label-module=\"para\"><b>CT</b></div>\n",
    "</td><td width=\"155\" align=\"left\" valign=\"middle\"><div class=\"para\" label-module=\"para\">Connecticut</div>\n",
    "</td><td width=\"134\" align=\"left\" valign=\"middle\"><div class=\"para\" label-module=\"para\"><a target=\"_blank\" href=\"/item/%E5%BA%B7%E6%B6%85%E7%8B%84%E6%A0%BC%E5%B7%9E/3436248\" data-lemmaid=\"3436248\">康涅狄格州</a></div>\n",
    "</td><td width=\"152\" align=\"left\" valign=\"middle\"><div class=\"para\" label-module=\"para\"><a target=\"_blank\" href=\"/item/%E5%93%88%E7%89%B9%E7%A6%8F%E5%BE%B7/2007563\" data-lemmaid=\"2007563\">哈特福德</a></div>\n",
    "</td><td width=\"146\" align=\"left\" valign=\"middle\"><div class=\"para\" label-module=\"para\">Hartford</div>\n",
    "</td></tr><tr><td width=\"70\" align=\"left\" valign=\"middle\"><div class=\"para\" label-module=\"para\"><b>DE</b></div>\n",
    "</td><td width=\"155\" align=\"left\" valign=\"middle\"><div class=\"para\" label-module=\"para\">Delaware</div>\n",
    "</td><td width=\"134\" align=\"left\" valign=\"middle\"><div class=\"para\" label-module=\"para\"><a target=\"_blank\" href=\"/item/%E7%89%B9%E6%8B%89%E5%8D%8E%E5%B7%9E/3436266\" data-lemmaid=\"3436266\">特拉华州</a></div>\n",
    "</td><td width=\"152\" align=\"left\" valign=\"middle\"><div class=\"para\" label-module=\"para\"><a target=\"_blank\" href=\"/item/%E5%A4%9A%E4%BD%9B/6059172\" data-lemmaid=\"6059172\">多佛</a></div>\n",
    "</td><td width=\"146\" align=\"left\" valign=\"middle\"><div class=\"para\" label-module=\"para\">Dover</div>\n",
    "</td></tr><tr><td width=\"70\" align=\"left\" valign=\"middle\"><div class=\"para\" label-module=\"para\"><b>FL</b></div>\n",
    "</td><td width=\"155\" align=\"left\" valign=\"middle\"><div class=\"para\" label-module=\"para\">Florida</div>\n",
    "</td><td width=\"134\" align=\"left\" valign=\"middle\"><div class=\"para\" label-module=\"para\"><a target=\"_blank\" href=\"/item/%E4%BD%9B%E7%BD%97%E9%87%8C%E8%BE%BE%E5%B7%9E/3436285\" data-lemmaid=\"3436285\">佛罗里达州</a></div>\n",
    "</td><td width=\"152\" align=\"left\" valign=\"middle\"><div class=\"para\" label-module=\"para\"><a target=\"_blank\" href=\"/item/%E5%A1%94%E6%8B%89%E5%93%88%E8%A5%BF/2004734\" data-lemmaid=\"2004734\">塔拉哈西</a></div>\n",
    "</td><td width=\"146\" align=\"left\" valign=\"middle\"><div class=\"para\" label-module=\"para\">Tallahassee</div>\n",
    "</td></tr><tr><td width=\"70\" align=\"left\" valign=\"middle\"><div class=\"para\" label-module=\"para\"><b>GA</b></div>\n",
    "</td><td width=\"155\" align=\"left\" valign=\"middle\"><div class=\"para\" label-module=\"para\">Georgia</div>\n",
    "</td><td width=\"134\" align=\"left\" valign=\"middle\"><div class=\"para\" label-module=\"para\"><a target=\"_blank\" href=\"/item/%E4%BD%90%E6%B2%BB%E4%BA%9A%E5%B7%9E/1706352\" data-lemmaid=\"1706352\">佐治亚州</a></div>\n",
    "</td><td width=\"152\" align=\"left\" valign=\"middle\"><div class=\"para\" label-module=\"para\"><a target=\"_blank\" href=\"/item/%E4%BA%9A%E7%89%B9%E5%85%B0%E5%A4%A7/11926\" data-lemmaid=\"11926\">亚特兰大</a></div>\n",
    "</td><td width=\"146\" align=\"left\" valign=\"middle\"><div class=\"para\" label-module=\"para\">Atlanta</div>\n",
    "</td></tr><tr><td width=\"70\" align=\"left\" valign=\"middle\"><div class=\"para\" label-module=\"para\"><b>HI</b></div>\n",
    "</td><td width=\"155\" align=\"left\" valign=\"middle\"><div class=\"para\" label-module=\"para\">Hawaii</div>\n",
    "</td><td width=\"134\" align=\"left\" valign=\"middle\"><div class=\"para\" label-module=\"para\"><a target=\"_blank\" href=\"/item/%E5%A4%8F%E5%A8%81%E5%A4%B7%E5%B7%9E/3436297\" data-lemmaid=\"3436297\">夏威夷州</a></div>\n",
    "</td><td width=\"152\" align=\"left\" valign=\"middle\"><div class=\"para\" label-module=\"para\"><a target=\"_blank\" href=\"/item/%E7%81%AB%E5%A5%B4%E9%B2%81%E9%B2%81/81317\" data-lemmaid=\"81317\">火奴鲁鲁</a></div>\n",
    "</td><td width=\"146\" align=\"left\" valign=\"middle\"><div class=\"para\" label-module=\"para\">Honolulu</div>\n",
    "</td></tr><tr><td width=\"70\" align=\"left\" valign=\"middle\"><div class=\"para\" label-module=\"para\"><b>ID</b></div>\n",
    "</td><td width=\"155\" align=\"left\" valign=\"middle\"><div class=\"para\" label-module=\"para\">Idaho</div>\n",
    "</td><td width=\"134\" align=\"left\" valign=\"middle\"><div class=\"para\" label-module=\"para\"><a target=\"_blank\" href=\"/item/%E7%88%B1%E8%BE%BE%E8%8D%B7%E5%B7%9E/3436312\" data-lemmaid=\"3436312\">爱达荷州</a></div>\n",
    "</td><td width=\"152\" align=\"left\" valign=\"middle\"><div class=\"para\" label-module=\"para\"><a target=\"_blank\" href=\"/item/%E5%8D%9A%E4%BC%8A%E8%A5%BF/3279458\" data-lemmaid=\"3279458\">博伊西</a></div>\n",
    "</td><td width=\"146\" align=\"left\" valign=\"middle\"><div class=\"para\" label-module=\"para\">Boise</div>\n",
    "</td></tr><tr><td width=\"70\" align=\"left\" valign=\"middle\"><div class=\"para\" label-module=\"para\"><b>IL</b></div>\n",
    "</td><td width=\"155\" align=\"left\" valign=\"middle\"><div class=\"para\" label-module=\"para\">Illinois</div>\n",
    "</td><td width=\"134\" align=\"left\" valign=\"middle\"><div class=\"para\" label-module=\"para\"><a target=\"_blank\" href=\"/item/%E4%BC%8A%E5%88%A9%E8%AF%BA%E4%BC%8A%E5%B7%9E/3437724\" data-lemmaid=\"3437724\">伊利诺伊州</a></div>\n",
    "</td><td width=\"152\" align=\"left\" valign=\"middle\"><div class=\"para\" label-module=\"para\"><a target=\"_blank\" href=\"/item/%E6%96%AF%E6%99%AE%E6%9E%97%E8%8F%B2%E5%B0%94%E5%BE%B7/1420017\" data-lemmaid=\"1420017\">斯普林菲尔德</a></div>\n",
    "</td><td width=\"146\" align=\"left\" valign=\"middle\"><div class=\"para\" label-module=\"para\">Springfield</div>\n",
    "</td></tr><tr><td width=\"70\" align=\"left\" valign=\"middle\"><div class=\"para\" label-module=\"para\"><b>IN</b></div>\n",
    "</td><td width=\"155\" align=\"left\" valign=\"middle\"><div class=\"para\" label-module=\"para\">Indiana</div>\n",
    "</td><td width=\"134\" align=\"left\" valign=\"middle\"><div class=\"para\" label-module=\"para\"><a target=\"_blank\" href=\"/item/%E5%8D%B0%E7%AC%AC%E5%AE%89%E7%BA%B3%E5%B7%9E/3437855\" data-lemmaid=\"3437855\">印第安纳州</a></div>\n",
    "</td><td width=\"152\" align=\"left\" valign=\"middle\"><div class=\"para\" label-module=\"para\"><a target=\"_blank\" href=\"/item/%E5%8D%B0%E7%AC%AC%E5%AE%89%E7%BA%B3%E6%B3%A2%E5%88%A9%E6%96%AF/10473726\" data-lemmaid=\"10473726\">印第安纳波利斯</a></div>\n",
    "</td><td width=\"146\" align=\"left\" valign=\"middle\"><div class=\"para\" label-module=\"para\">Indianapolis</div>\n",
    "</td></tr><tr><td width=\"70\" align=\"left\" valign=\"middle\"><div class=\"para\" label-module=\"para\"><b>IA</b></div>\n",
    "</td><td width=\"155\" align=\"left\" valign=\"middle\"><div class=\"para\" label-module=\"para\">Iowa</div>\n",
    "</td><td width=\"134\" align=\"left\" valign=\"middle\"><div class=\"para\" label-module=\"para\"><a target=\"_blank\" href=\"/item/%E8%89%BE%E5%A5%A5%E7%93%A6%E5%B7%9E/3437927\" data-lemmaid=\"3437927\">艾奥瓦州</a></div>\n",
    "</td><td width=\"152\" align=\"left\" valign=\"middle\"><div class=\"para\" label-module=\"para\"><a target=\"_blank\" href=\"/item/%E5%BE%97%E6%A2%85%E5%9B%A0/3558622\" data-lemmaid=\"3558622\">得梅因</a></div>\n",
    "</td><td width=\"146\" align=\"left\" valign=\"middle\"><div class=\"para\" label-module=\"para\">Des Moines</div>\n",
    "</td></tr><tr><td width=\"70\" align=\"left\" valign=\"middle\"><div class=\"para\" label-module=\"para\"><b>KS</b></div>\n",
    "</td><td width=\"155\" align=\"left\" valign=\"middle\"><div class=\"para\" label-module=\"para\">Kansas</div>\n",
    "</td><td width=\"134\" align=\"left\" valign=\"middle\"><div class=\"para\" label-module=\"para\"><a target=\"_blank\" href=\"/item/%E5%A0%AA%E8%90%A8%E6%96%AF%E5%B7%9E/2874022\" data-lemmaid=\"2874022\">堪萨斯州</a></div>\n",
    "</td><td width=\"152\" align=\"left\" valign=\"middle\"><div class=\"para\" label-module=\"para\"><a target=\"_blank\" href=\"/item/%E6%89%98%E7%9A%AE%E5%8D%A1/1162040\" data-lemmaid=\"1162040\">托皮卡</a></div>\n",
    "</td><td width=\"146\" align=\"left\" valign=\"middle\"><div class=\"para\" label-module=\"para\">Topeka</div>\n",
    "</td></tr><tr><td width=\"70\" align=\"left\" valign=\"middle\"><div class=\"para\" label-module=\"para\"><b>KY</b></div>\n",
    "</td><td width=\"155\" align=\"left\" valign=\"middle\"><div class=\"para\" label-module=\"para\">Kentucky</div>\n",
    "</td><td width=\"134\" align=\"left\" valign=\"middle\"><div class=\"para\" label-module=\"para\"><a target=\"_blank\" href=\"/item/%E8%82%AF%E5%A1%94%E5%9F%BA%E5%B7%9E/3438094\" data-lemmaid=\"3438094\">肯塔基州</a></div>\n",
    "</td><td width=\"152\" align=\"left\" valign=\"middle\"><div class=\"para\" label-module=\"para\"><a target=\"_blank\" href=\"/item/%E6%B3%95%E5%85%B0%E5%85%8B%E7%A6%8F/9682134\" data-lemmaid=\"9682134\">法兰克福</a></div>\n",
    "</td><td width=\"146\" align=\"left\" valign=\"middle\"><div class=\"para\" label-module=\"para\">Frankfort</div>\n",
    "</td></tr><tr><td width=\"70\" align=\"left\" valign=\"middle\"><div class=\"para\" label-module=\"para\"><b>LA</b></div>\n",
    "</td><td width=\"155\" align=\"left\" valign=\"middle\"><div class=\"para\" label-module=\"para\">Louisiana</div>\n",
    "</td><td width=\"134\" align=\"left\" valign=\"middle\"><div class=\"para\" label-module=\"para\"><a target=\"_blank\" href=\"/item/%E8%B7%AF%E6%98%93%E6%96%AF%E5%AE%89%E9%82%A3%E5%B7%9E/2935061\" data-lemmaid=\"2935061\">路易斯安那州</a></div>\n",
    "</td><td width=\"152\" align=\"left\" valign=\"middle\"><div class=\"para\" label-module=\"para\"><a target=\"_blank\" href=\"/item/%E5%B7%B4%E5%90%9E%E9%B2%81%E6%97%A5/10934876\" data-lemmaid=\"10934876\">巴吞鲁日</a></div>\n",
    "</td><td width=\"146\" align=\"left\" valign=\"middle\"><div class=\"para\" label-module=\"para\">Baton Rouge</div>\n",
    "</td></tr><tr><td width=\"70\" align=\"left\" valign=\"middle\"><div class=\"para\" label-module=\"para\"><b>ME</b></div>\n",
    "</td><td width=\"155\" align=\"left\" valign=\"middle\"><div class=\"para\" label-module=\"para\">Maine</div>\n",
    "</td><td width=\"134\" align=\"left\" valign=\"middle\"><div class=\"para\" label-module=\"para\"><a target=\"_blank\" href=\"/item/%E7%BC%85%E5%9B%A0%E5%B7%9E/2683845\" data-lemmaid=\"2683845\">缅因州</a></div>\n",
    "</td><td width=\"152\" align=\"left\" valign=\"middle\"><div class=\"para\" label-module=\"para\"><a target=\"_blank\" href=\"/item/%E5%A5%A5%E5%8F%A4%E6%96%AF%E5%A1%94/15920824\" data-lemmaid=\"15920824\">奥古斯塔</a></div>\n",
    "</td><td width=\"146\" align=\"left\" valign=\"middle\"><div class=\"para\" label-module=\"para\">Augusta</div>\n",
    "</td></tr><tr><td width=\"70\" align=\"left\" valign=\"middle\"><div class=\"para\" label-module=\"para\"><b>MD</b></div>\n",
    "</td><td width=\"155\" align=\"left\" valign=\"middle\"><div class=\"para\" label-module=\"para\">Maryland</div>\n",
    "</td><td width=\"134\" align=\"left\" valign=\"middle\"><div class=\"para\" label-module=\"para\"><a target=\"_blank\" href=\"/item/%E9%A9%AC%E9%87%8C%E5%85%B0%E5%B7%9E/3438236\" data-lemmaid=\"3438236\">马里兰州</a></div>\n",
    "</td><td width=\"152\" align=\"left\" valign=\"middle\"><div class=\"para\" label-module=\"para\"><a target=\"_blank\" href=\"/item/%E5%AE%89%E9%82%A3%E6%B3%A2%E5%88%A9%E6%96%AF/1695308\" data-lemmaid=\"1695308\">安那波利斯</a></div>\n",
    "</td><td width=\"146\" align=\"left\" valign=\"middle\"><div class=\"para\" label-module=\"para\">Annapolis</div>\n",
    "</td></tr><tr><td width=\"70\" align=\"left\" valign=\"middle\"><div class=\"para\" label-module=\"para\"><b>MA</b></div>\n",
    "</td><td width=\"155\" align=\"left\" valign=\"middle\"><div class=\"para\" label-module=\"para\">Massachusetts</div>\n",
    "</td><td width=\"134\" align=\"left\" valign=\"middle\"><div class=\"para\" label-module=\"para\"><a target=\"_blank\" href=\"/item/%E9%A9%AC%E8%90%A8%E8%AF%B8%E5%A1%9E%E5%B7%9E/3020558\" data-lemmaid=\"3020558\">马萨诸塞州</a></div>\n",
    "</td><td width=\"152\" align=\"left\" valign=\"middle\"><div class=\"para\" label-module=\"para\"><a target=\"_blank\" href=\"/item/%E6%B3%A2%E5%A3%AB%E9%A1%BF/81031\" data-lemmaid=\"81031\">波士顿</a></div>\n",
    "</td><td width=\"146\" align=\"left\" valign=\"middle\"><div class=\"para\" label-module=\"para\">Boston</div>\n",
    "</td></tr><tr><td width=\"70\" align=\"left\" valign=\"middle\"><div class=\"para\" label-module=\"para\"><b>MI</b></div>\n",
    "</td><td width=\"155\" align=\"left\" valign=\"middle\"><div class=\"para\" label-module=\"para\">Michigan</div>\n",
    "</td><td width=\"134\" align=\"left\" valign=\"middle\"><div class=\"para\" label-module=\"para\"><a target=\"_blank\" href=\"/item/%E5%AF%86%E6%AD%87%E6%A0%B9%E5%B7%9E/3438465\" data-lemmaid=\"3438465\">密歇根州</a></div>\n",
    "</td><td width=\"152\" align=\"left\" valign=\"middle\"><div class=\"para\" label-module=\"para\"><a target=\"_blank\" href=\"/item/%E5%85%B0%E8%BE%9B/84503\" data-lemmaid=\"84503\">兰辛</a></div>\n",
    "</td><td width=\"146\" align=\"left\" valign=\"middle\"><div class=\"para\" label-module=\"para\">Lansing</div>\n",
    "</td></tr><tr><td width=\"70\" align=\"left\" valign=\"middle\"><div class=\"para\" label-module=\"para\"><b>MN</b></div>\n",
    "</td><td width=\"155\" align=\"left\" valign=\"middle\"><div class=\"para\" label-module=\"para\">Minnesota</div>\n",
    "</td><td width=\"134\" align=\"left\" valign=\"middle\"><div class=\"para\" label-module=\"para\"><a target=\"_blank\" href=\"/item/%E6%98%8E%E5%B0%BC%E8%8B%8F%E8%BE%BE%E5%B7%9E/181052\" data-lemmaid=\"181052\">明尼苏达州</a></div>\n",
    "</td><td width=\"152\" align=\"left\" valign=\"middle\"><div class=\"para\" label-module=\"para\"><a target=\"_blank\" href=\"/item/%E5%9C%A3%E4%BF%9D%E7%BD%97/2827142\" data-lemmaid=\"2827142\">圣保罗</a></div>\n",
    "</td><td width=\"146\" align=\"left\" valign=\"middle\"><div class=\"para\" label-module=\"para\">St. Paul</div>\n",
    "</td></tr><tr><td width=\"70\" align=\"left\" valign=\"middle\"><div class=\"para\" label-module=\"para\"><b>MS</b></div>\n",
    "</td><td width=\"155\" align=\"left\" valign=\"middle\"><div class=\"para\" label-module=\"para\">Mississippi</div>\n",
    "</td><td width=\"134\" align=\"left\" valign=\"middle\"><div class=\"para\" label-module=\"para\"><a target=\"_blank\" href=\"/item/%E5%AF%86%E8%A5%BF%E8%A5%BF%E6%AF%94%E5%B7%9E/3438634\" data-lemmaid=\"3438634\">密西西比州</a></div>\n",
    "</td><td width=\"152\" align=\"left\" valign=\"middle\"><div class=\"para\" label-module=\"para\"><a target=\"_blank\" href=\"/item/%E6%9D%B0%E5%85%8B%E9%80%8A/13236831\" data-lemmaid=\"13236831\">杰克逊</a></div>\n",
    "</td><td width=\"146\" align=\"left\" valign=\"middle\"><div class=\"para\" label-module=\"para\">Jackson</div>\n",
    "</td></tr><tr><td width=\"70\" align=\"left\" valign=\"middle\"><div class=\"para\" label-module=\"para\"><b>MO</b></div>\n",
    "</td><td width=\"155\" align=\"left\" valign=\"middle\"><div class=\"para\" label-module=\"para\">Missouri</div>\n",
    "</td><td width=\"134\" align=\"left\" valign=\"middle\"><div class=\"para\" label-module=\"para\"><a target=\"_blank\" href=\"/item/%E5%AF%86%E8%8B%8F%E9%87%8C%E5%B7%9E/3438672\" data-lemmaid=\"3438672\">密苏里州</a></div>\n",
    "</td><td width=\"152\" align=\"left\" valign=\"middle\"><div class=\"para\" label-module=\"para\"><a target=\"_blank\" href=\"/item/%E6%9D%B0%E6%96%90%E9%80%8A%E5%9F%8E/2449179\" data-lemmaid=\"2449179\">杰斐逊城</a></div>\n",
    "</td><td width=\"146\" align=\"left\" valign=\"middle\"><div class=\"para\" label-module=\"para\">Jefferson City</div>\n",
    "</td></tr><tr><td width=\"70\" align=\"left\" valign=\"middle\"><div class=\"para\" label-module=\"para\"><b>MT</b></div>\n",
    "</td><td width=\"155\" align=\"left\" valign=\"middle\"><div class=\"para\" label-module=\"para\">Montana</div>\n",
    "</td><td width=\"134\" align=\"left\" valign=\"middle\"><div class=\"para\" label-module=\"para\"><a target=\"_blank\" href=\"/item/%E8%92%99%E5%A4%A7%E6%8B%BF%E5%B7%9E/3438730\" data-lemmaid=\"3438730\">蒙大拿州</a></div>\n",
    "</td><td width=\"152\" align=\"left\" valign=\"middle\"><div class=\"para\" label-module=\"para\"><a target=\"_blank\" href=\"/item/%E6%B5%B7%E4%BC%A6%E9%82%A3/1943004\" data-lemmaid=\"1943004\">海伦那</a></div>\n",
    "</td><td width=\"146\" align=\"left\" valign=\"middle\"><div class=\"para\" label-module=\"para\">Helena</div>\n",
    "</td></tr><tr><td width=\"70\" align=\"left\" valign=\"middle\"><div class=\"para\" label-module=\"para\"><b>NE</b></div>\n",
    "</td><td width=\"155\" align=\"left\" valign=\"middle\"><div class=\"para\" label-module=\"para\">Nebraska</div>\n",
    "</td><td width=\"134\" align=\"left\" valign=\"middle\"><div class=\"para\" label-module=\"para\"><a target=\"_blank\" href=\"/item/%E5%86%85%E5%B8%83%E6%8B%89%E6%96%AF%E5%8A%A0%E5%B7%9E/2217761\" data-lemmaid=\"2217761\">内布拉斯加州</a></div>\n",
    "</td><td width=\"152\" align=\"left\" valign=\"middle\"><div class=\"para\" label-module=\"para\"><a target=\"_blank\" href=\"/item/%E6%9E%97%E8%82%AF%E5%B8%82/4315550\" data-lemmaid=\"4315550\">林肯市</a></div>\n",
    "</td><td width=\"146\" align=\"left\" valign=\"middle\"><div class=\"para\" label-module=\"para\">Lincoln</div>\n",
    "</td></tr><tr><td width=\"70\" align=\"left\" valign=\"middle\"><div class=\"para\" label-module=\"para\"><b>NV</b></div>\n",
    "</td><td width=\"155\" align=\"left\" valign=\"middle\"><div class=\"para\" label-module=\"para\">Nevada</div>\n",
    "</td><td width=\"134\" align=\"left\" valign=\"middle\"><div class=\"para\" label-module=\"para\"><a target=\"_blank\" href=\"/item/%E5%86%85%E5%8D%8E%E8%BE%BE%E5%B7%9E/2874107\" data-lemmaid=\"2874107\">内华达州</a></div>\n",
    "</td><td width=\"152\" align=\"left\" valign=\"middle\"><div class=\"para\" label-module=\"para\"><a target=\"_blank\" href=\"/item/%E5%8D%A1%E6%A3%AE%E5%9F%8E/11001834\" data-lemmaid=\"11001834\">卡森城</a></div>\n",
    "</td><td width=\"146\" align=\"left\" valign=\"middle\"><div class=\"para\" label-module=\"para\">Carson City</div>\n",
    "</td></tr><tr><td width=\"70\" align=\"left\" valign=\"middle\"><div class=\"para\" label-module=\"para\"><b>NH</b></div>\n",
    "</td><td width=\"155\" align=\"left\" valign=\"middle\"><div class=\"para\" label-module=\"para\">New Hampshire</div>\n",
    "</td><td width=\"134\" align=\"left\" valign=\"middle\"><div class=\"para\" label-module=\"para\"><a target=\"_blank\" href=\"/item/%E6%96%B0%E7%BD%95%E5%B8%83%E4%BB%80%E5%B0%94%E5%B7%9E/3438824\" data-lemmaid=\"3438824\">新罕布什尔州</a></div>\n",
    "</td><td width=\"152\" align=\"left\" valign=\"middle\"><div class=\"para\" label-module=\"para\"><a target=\"_blank\" href=\"/item/%E5%BA%B7%E7%A7%91%E5%BE%B7/84534\" data-lemmaid=\"84534\">康科德</a></div>\n",
    "</td><td width=\"146\" align=\"left\" valign=\"middle\"><div class=\"para\" label-module=\"para\">Concord</div>\n",
    "</td></tr><tr><td width=\"70\" align=\"left\" valign=\"middle\"><div class=\"para\" label-module=\"para\"><b>NJ</b></div>\n",
    "</td><td width=\"155\" align=\"left\" valign=\"middle\"><div class=\"para\" label-module=\"para\">New Jersey</div>\n",
    "</td><td width=\"134\" align=\"left\" valign=\"middle\"><div class=\"para\" label-module=\"para\"><a target=\"_blank\" href=\"/item/%E6%96%B0%E6%B3%BD%E8%A5%BF%E5%B7%9E/3438878\" data-lemmaid=\"3438878\">新泽西州</a></div>\n",
    "</td><td width=\"152\" align=\"left\" valign=\"middle\"><div class=\"para\" label-module=\"para\"><a target=\"_blank\" href=\"/item/%E7%89%B9%E4%BC%A6%E9%A1%BF/1988236\" data-lemmaid=\"1988236\">特伦顿</a></div>\n",
    "</td><td width=\"146\" align=\"left\" valign=\"middle\"><div class=\"para\" label-module=\"para\">Trenton</div>\n",
    "</td></tr><tr><td width=\"70\" align=\"left\" valign=\"middle\"><div class=\"para\" label-module=\"para\"><b>NM</b></div>\n",
    "</td><td width=\"155\" align=\"left\" valign=\"middle\"><div class=\"para\" label-module=\"para\">New Mexico</div>\n",
    "</td><td width=\"134\" align=\"left\" valign=\"middle\"><div class=\"para\" label-module=\"para\"><a target=\"_blank\" href=\"/item/%E6%96%B0%E5%A2%A8%E8%A5%BF%E5%93%A5%E5%B7%9E/3438975\" data-lemmaid=\"3438975\">新墨西哥州</a></div>\n",
    "</td><td width=\"152\" align=\"left\" valign=\"middle\"><div class=\"para\" label-module=\"para\"><a target=\"_blank\" href=\"/item/%E5%9C%A3%E8%8F%B2/84537\" data-lemmaid=\"84537\">圣菲</a></div>\n",
    "</td><td width=\"146\" align=\"left\" valign=\"middle\"><div class=\"para\" label-module=\"para\">Santa Fe</div>\n",
    "</td></tr><tr><td width=\"70\" align=\"left\" valign=\"middle\"><div class=\"para\" label-module=\"para\"><b>NY</b></div>\n",
    "</td><td width=\"155\" align=\"left\" valign=\"middle\"><div class=\"para\" label-module=\"para\">New York</div>\n",
    "</td><td width=\"134\" align=\"left\" valign=\"middle\"><div class=\"para\" label-module=\"para\"><a target=\"_blank\" href=\"/item/%E7%BA%BD%E7%BA%A6%E5%B7%9E/3439049\" data-lemmaid=\"3439049\">纽约州</a></div>\n",
    "</td><td width=\"152\" align=\"left\" valign=\"middle\"><div class=\"para\" label-module=\"para\"><a target=\"_blank\" href=\"/item/%E5%A5%A5%E5%B0%94%E5%B7%B4%E5%B0%BC/84536\" data-lemmaid=\"84536\">奥尔巴尼</a></div>\n",
    "</td><td width=\"146\" align=\"left\" valign=\"middle\"><div class=\"para\" label-module=\"para\">Albany</div>\n",
    "</td></tr><tr><td width=\"70\" align=\"left\" valign=\"middle\"><div class=\"para\" label-module=\"para\"><b>NC</b></div>\n",
    "</td><td width=\"155\" align=\"left\" valign=\"middle\"><div class=\"para\" label-module=\"para\">North Carolina</div>\n",
    "</td><td width=\"134\" align=\"left\" valign=\"middle\"><div class=\"para\" label-module=\"para\"><a target=\"_blank\" href=\"/item/%E5%8C%97%E5%8D%A1%E7%BD%97%E6%9D%A5%E7%BA%B3%E5%B7%9E/3439107\" data-lemmaid=\"3439107\">北卡罗来纳州</a></div>\n",
    "</td><td width=\"152\" align=\"left\" valign=\"middle\"><div class=\"para\" label-module=\"para\"><a target=\"_blank\" href=\"/item/%E7%BD%97%E5%88%A9/16490791\" data-lemmaid=\"16490791\">罗利</a></div>\n",
    "</td><td width=\"146\" align=\"left\" valign=\"middle\"><div class=\"para\" label-module=\"para\">Raleigh</div>\n",
    "</td></tr><tr><td width=\"70\" align=\"left\" valign=\"middle\"><div class=\"para\" label-module=\"para\"><b>ND</b></div>\n",
    "</td><td width=\"155\" align=\"left\" valign=\"middle\"><div class=\"para\" label-module=\"para\">North Dakota</div>\n",
    "</td><td width=\"134\" align=\"left\" valign=\"middle\"><div class=\"para\" label-module=\"para\"><a target=\"_blank\" href=\"/item/%E5%8C%97%E8%BE%BE%E7%A7%91%E4%BB%96%E5%B7%9E/3439163\" data-lemmaid=\"3439163\">北达科他州</a></div>\n",
    "</td><td width=\"152\" align=\"left\" valign=\"middle\"><div class=\"para\" label-module=\"para\"><a target=\"_blank\" href=\"/item/%E4%BF%BE%E6%96%AF%E9%BA%A6/2225298\" data-lemmaid=\"2225298\">俾斯麦</a></div>\n",
    "</td><td width=\"146\" align=\"left\" valign=\"middle\"><div class=\"para\" label-module=\"para\">Bismarck</div>\n",
    "</td></tr><tr><td width=\"70\" align=\"left\" valign=\"middle\"><div class=\"para\" label-module=\"para\"><b>OH</b></div>\n",
    "</td><td width=\"155\" align=\"left\" valign=\"middle\"><div class=\"para\" label-module=\"para\">Ohio</div>\n",
    "</td><td width=\"134\" align=\"left\" valign=\"middle\"><div class=\"para\" label-module=\"para\"><a target=\"_blank\" href=\"/item/%E4%BF%84%E4%BA%A5%E4%BF%84%E5%B7%9E/3439219\" data-lemmaid=\"3439219\">俄亥俄州</a></div>\n",
    "</td><td width=\"152\" align=\"left\" valign=\"middle\"><div class=\"para\" label-module=\"para\"><a target=\"_blank\" href=\"/item/%E5%93%A5%E4%BC%A6%E5%B8%83/9657567\" data-lemmaid=\"9657567\">哥伦布</a></div>\n",
    "</td><td width=\"146\" align=\"left\" valign=\"middle\"><div class=\"para\" label-module=\"para\">Columbus</div>\n",
    "</td></tr><tr><td width=\"70\" align=\"left\" valign=\"middle\"><div class=\"para\" label-module=\"para\"><b>OK</b></div>\n",
    "</td><td width=\"155\" align=\"left\" valign=\"middle\"><div class=\"para\" label-module=\"para\">Oklahoma</div>\n",
    "</td><td width=\"134\" align=\"left\" valign=\"middle\"><div class=\"para\" label-module=\"para\"><a target=\"_blank\" href=\"/item/%E4%BF%84%E5%85%8B%E6%8B%89%E4%BD%95%E9%A9%AC%E5%B7%9E/3439257\" data-lemmaid=\"3439257\">俄克拉何马州</a></div>\n",
    "</td><td width=\"152\" align=\"left\" valign=\"middle\"><div class=\"para\" label-module=\"para\"><a target=\"_blank\" href=\"/item/%E4%BF%84%E5%85%8B%E6%8B%89%E4%BD%95%E9%A9%AC%E5%9F%8E/9863244\" data-lemmaid=\"9863244\">俄克拉何马城</a></div>\n",
    "</td><td width=\"146\" align=\"left\" valign=\"middle\"><div class=\"para\" label-module=\"para\">Oklahoma City</div>\n",
    "</td></tr><tr><td width=\"70\" align=\"left\" valign=\"middle\"><div class=\"para\" label-module=\"para\"><b>OR</b></div>\n",
    "</td><td width=\"155\" align=\"left\" valign=\"middle\"><div class=\"para\" label-module=\"para\">Oregon</div>\n",
    "</td><td width=\"134\" align=\"left\" valign=\"middle\"><div class=\"para\" label-module=\"para\"><a target=\"_blank\" href=\"/item/%E4%BF%84%E5%8B%92%E5%86%88%E5%B7%9E/3439295\" data-lemmaid=\"3439295\">俄勒冈州</a></div>\n",
    "</td><td width=\"152\" align=\"left\" valign=\"middle\"><div class=\"para\" label-module=\"para\"><a target=\"_blank\" href=\"/item/%E5%A1%9E%E5%8B%92%E5%A7%86/18640702\" data-lemmaid=\"18640702\">塞勒姆</a></div>\n",
    "</td><td width=\"146\" align=\"left\" valign=\"middle\"><div class=\"para\" label-module=\"para\">Salem</div>\n",
    "</td></tr><tr><td width=\"70\" align=\"left\" valign=\"middle\"><div class=\"para\" label-module=\"para\"><b>PA</b></div>\n",
    "</td><td width=\"155\" align=\"left\" valign=\"middle\"><div class=\"para\" label-module=\"para\">Pennsylvania</div>\n",
    "</td><td width=\"134\" align=\"left\" valign=\"middle\"><div class=\"para\" label-module=\"para\"><a target=\"_blank\" href=\"/item/%E5%AE%BE%E5%A4%95%E6%B3%95%E5%B0%BC%E4%BA%9A%E5%B7%9E/5148\" data-lemmaid=\"5148\">宾夕法尼亚州</a></div>\n",
    "</td><td width=\"152\" align=\"left\" valign=\"middle\"><div class=\"para\" label-module=\"para\"><a target=\"_blank\" href=\"/item/%E5%93%88%E9%87%8C%E6%96%AF%E5%A0%A1/1973648\" data-lemmaid=\"1973648\">哈里斯堡</a></div>\n",
    "</td><td width=\"146\" align=\"left\" valign=\"middle\"><div class=\"para\" label-module=\"para\">Harrisburg</div>\n",
    "</td></tr><tr><td width=\"70\" align=\"left\" valign=\"middle\"><div class=\"para\" label-module=\"para\"><b>RI</b></div>\n",
    "</td><td width=\"155\" align=\"left\" valign=\"middle\"><div class=\"para\" label-module=\"para\">Rhode Island</div>\n",
    "</td><td width=\"134\" align=\"left\" valign=\"middle\"><div class=\"para\" label-module=\"para\"><a target=\"_blank\" href=\"/item/%E7%BD%97%E5%BE%97%E5%B2%9B%E5%B7%9E/3439332\" data-lemmaid=\"3439332\">罗得岛州</a></div>\n",
    "</td><td width=\"152\" align=\"left\" valign=\"middle\"><div class=\"para\" label-module=\"para\"><a target=\"_blank\" href=\"/item/%E6%99%AE%E7%BD%97%E7%BB%B4%E7%99%BB%E6%96%AF/2014124\" data-lemmaid=\"2014124\">普罗维登斯</a></div>\n",
    "</td><td width=\"146\" align=\"left\" valign=\"middle\"><div class=\"para\" label-module=\"para\">Providence</div>\n",
    "</td></tr><tr><td width=\"70\" align=\"left\" valign=\"middle\"><div class=\"para\" label-module=\"para\"><b>SC</b></div>\n",
    "</td><td width=\"155\" align=\"left\" valign=\"middle\"><div class=\"para\" label-module=\"para\">South Carolina</div>\n",
    "</td><td width=\"134\" align=\"left\" valign=\"middle\"><div class=\"para\" label-module=\"para\"><a target=\"_blank\" href=\"/item/%E5%8D%97%E5%8D%A1%E7%BD%97%E6%9D%A5%E7%BA%B3%E5%B7%9E/7363647\" data-lemmaid=\"7363647\">南卡罗来纳州</a></div>\n",
    "</td><td width=\"152\" align=\"left\" valign=\"middle\"><div class=\"para\" label-module=\"para\"><a target=\"_blank\" href=\"/item/%E5%93%A5%E4%BC%A6%E6%AF%94%E4%BA%9A/6561398\" data-lemmaid=\"6561398\">哥伦比亚</a></div>\n",
    "</td><td width=\"146\" align=\"left\" valign=\"middle\"><div class=\"para\" label-module=\"para\">Columbia</div>\n",
    "</td></tr><tr><td width=\"70\" align=\"left\" valign=\"middle\"><div class=\"para\" label-module=\"para\"><b>SD</b></div>\n",
    "</td><td width=\"155\" align=\"left\" valign=\"middle\"><div class=\"para\" label-module=\"para\">South Dakota</div>\n",
    "</td><td width=\"134\" align=\"left\" valign=\"middle\"><div class=\"para\" label-module=\"para\"><a target=\"_blank\" href=\"/item/%E5%8D%97%E8%BE%BE%E7%A7%91%E4%BB%96%E5%B7%9E/3439373\" data-lemmaid=\"3439373\">南达科他州</a></div>\n",
    "</td><td width=\"152\" align=\"left\" valign=\"middle\"><div class=\"para\" label-module=\"para\"><a target=\"_blank\" href=\"/item/%E7%9A%AE%E5%B0%94/17490571\" data-lemmaid=\"17490571\">皮尔</a></div>\n",
    "</td><td width=\"146\" align=\"left\" valign=\"middle\"><div class=\"para\" label-module=\"para\">Pierre</div>\n",
    "</td></tr><tr><td width=\"70\" align=\"left\" valign=\"middle\"><div class=\"para\" label-module=\"para\"><b>TN</b></div>\n",
    "</td><td width=\"155\" align=\"left\" valign=\"middle\"><div class=\"para\" label-module=\"para\">Tennessee</div>\n",
    "</td><td width=\"134\" align=\"left\" valign=\"middle\"><div class=\"para\" label-module=\"para\"><a target=\"_blank\" href=\"/item/%E7%94%B0%E7%BA%B3%E8%A5%BF%E5%B7%9E/3439391\" data-lemmaid=\"3439391\">田纳西州</a></div>\n",
    "</td><td width=\"152\" align=\"left\" valign=\"middle\"><div class=\"para\" label-module=\"para\"><a target=\"_blank\" href=\"/item/%E7%BA%B3%E4%BB%80%E7%BB%B4%E5%B0%94/26068\" data-lemmaid=\"26068\">纳什维尔</a></div>\n",
    "</td><td width=\"146\" align=\"left\" valign=\"middle\"><div class=\"para\" label-module=\"para\">Nashville</div>\n",
    "</td></tr><tr><td width=\"70\" align=\"left\" valign=\"middle\"><div class=\"para\" label-module=\"para\"><b>TX</b></div>\n",
    "</td><td width=\"155\" align=\"left\" valign=\"middle\"><div class=\"para\" label-module=\"para\">Texas</div>\n",
    "</td><td width=\"134\" align=\"left\" valign=\"middle\"><div class=\"para\" label-module=\"para\"><a target=\"_blank\" href=\"/item/%E5%BE%97%E5%85%8B%E8%90%A8%E6%96%AF%E5%B7%9E/3439412\" data-lemmaid=\"3439412\">得克萨斯州</a></div>\n",
    "</td><td width=\"152\" align=\"left\" valign=\"middle\"><div class=\"para\" label-module=\"para\"><a target=\"_blank\" href=\"/item/%E5%A5%A5%E6%96%AF%E6%B1%80/15484\" data-lemmaid=\"15484\">奥斯汀</a></div>\n",
    "</td><td width=\"146\" align=\"left\" valign=\"middle\"><div class=\"para\" label-module=\"para\">Austin</div>\n",
    "</td></tr><tr><td width=\"70\" align=\"left\" valign=\"middle\"><div class=\"para\" label-module=\"para\"><b>UT</b></div>\n",
    "</td><td width=\"155\" align=\"left\" valign=\"middle\"><div class=\"para\" label-module=\"para\">Utah</div>\n",
    "</td><td width=\"134\" align=\"left\" valign=\"middle\"><div class=\"para\" label-module=\"para\"><a target=\"_blank\" href=\"/item/%E7%8A%B9%E4%BB%96%E5%B7%9E/3439429\" data-lemmaid=\"3439429\">犹他州</a></div>\n",
    "</td><td width=\"152\" align=\"left\" valign=\"middle\"><div class=\"para\" label-module=\"para\"><a target=\"_blank\" href=\"/item/%E7%9B%90%E6%B9%96%E5%9F%8E/8808871\" data-lemmaid=\"8808871\">盐湖城</a></div>\n",
    "</td><td width=\"146\" align=\"left\" valign=\"middle\"><div class=\"para\" label-module=\"para\">Salt Lake City</div>\n",
    "</td></tr><tr><td width=\"70\" align=\"left\" valign=\"middle\"><div class=\"para\" label-module=\"para\"><b>VT</b></div>\n",
    "</td><td width=\"155\" align=\"left\" valign=\"middle\"><div class=\"para\" label-module=\"para\">Vermont</div>\n",
    "</td><td width=\"134\" align=\"left\" valign=\"middle\"><div class=\"para\" label-module=\"para\"><a target=\"_blank\" href=\"/item/%E4%BD%9B%E8%92%99%E7%89%B9%E5%B7%9E/3439446\" data-lemmaid=\"3439446\">佛蒙特州</a></div>\n",
    "</td><td width=\"152\" align=\"left\" valign=\"middle\"><div class=\"para\" label-module=\"para\"><a target=\"_blank\" href=\"/item/%E8%92%99%E5%BD%BC%E5%88%A9%E5%9F%83/8939524\" data-lemmaid=\"8939524\">蒙彼利埃</a></div>\n",
    "</td><td width=\"146\" align=\"left\" valign=\"middle\"><div class=\"para\" label-module=\"para\">Montpelier</div>\n",
    "</td></tr><tr><td width=\"70\" align=\"left\" valign=\"middle\"><div class=\"para\" label-module=\"para\"><b>VA</b></div>\n",
    "</td><td width=\"155\" align=\"left\" valign=\"middle\"><div class=\"para\" label-module=\"para\">Virginia</div>\n",
    "</td><td width=\"134\" align=\"left\" valign=\"middle\"><div class=\"para\" label-module=\"para\"><a target=\"_blank\" href=\"/item/%E5%BC%97%E5%90%89%E5%B0%BC%E4%BA%9A%E5%B7%9E/3439466\" data-lemmaid=\"3439466\">弗吉尼亚州</a></div>\n",
    "</td><td width=\"152\" align=\"left\" valign=\"middle\"><div class=\"para\" label-module=\"para\"><a target=\"_blank\" href=\"/item/%E9%87%8C%E5%A3%AB%E6%BB%A1/964714\" data-lemmaid=\"964714\">里士满</a></div>\n",
    "</td><td width=\"146\" align=\"left\" valign=\"middle\"><div class=\"para\" label-module=\"para\">Richmond</div>\n",
    "</td></tr><tr><td width=\"70\" align=\"left\" valign=\"middle\"><div class=\"para\" label-module=\"para\"><b>WA</b></div>\n",
    "</td><td width=\"155\" align=\"left\" valign=\"middle\"><div class=\"para\" label-module=\"para\">Washington</div>\n",
    "</td><td width=\"134\" align=\"left\" valign=\"middle\"><div class=\"para\" label-module=\"para\"><a target=\"_blank\" href=\"/item/%E5%8D%8E%E7%9B%9B%E9%A1%BF%E5%B7%9E/2220710\" data-lemmaid=\"2220710\">华盛顿州</a></div>\n",
    "</td><td width=\"152\" align=\"left\" valign=\"middle\"><div class=\"para\" label-module=\"para\"><a target=\"_blank\" href=\"/item/%E5%A5%A5%E6%9E%97%E5%8C%B9%E4%BA%9A/6379216\" data-lemmaid=\"6379216\">奥林匹亚</a></div>\n",
    "</td><td width=\"146\" align=\"left\" valign=\"middle\"><div class=\"para\" label-module=\"para\">Olympia</div>\n",
    "</td></tr><tr><td width=\"70\" align=\"left\" valign=\"middle\"><div class=\"para\" label-module=\"para\"><b>WV</b></div>\n",
    "</td><td width=\"155\" align=\"left\" valign=\"middle\"><div class=\"para\" label-module=\"para\">West Virginia</div>\n",
    "</td><td width=\"134\" align=\"left\" valign=\"middle\"><div class=\"para\" label-module=\"para\"><a target=\"_blank\" href=\"/item/%E8%A5%BF%E5%BC%97%E5%90%89%E5%B0%BC%E4%BA%9A%E5%B7%9E/2873912\" data-lemmaid=\"2873912\">西弗吉尼亚州</a></div>\n",
    "</td><td width=\"152\" align=\"left\" valign=\"middle\"><div class=\"para\" label-module=\"para\"><a target=\"_blank\" href=\"/item/%E6%9F%A5%E5%B0%94%E6%96%AF%E9%A1%BF/1761052\" data-lemmaid=\"1761052\">查尔斯顿</a></div>\n",
    "</td><td width=\"146\" align=\"left\" valign=\"middle\"><div class=\"para\" label-module=\"para\">Charleston</div>\n",
    "</td></tr><tr><td width=\"70\" align=\"left\" valign=\"middle\"><div class=\"para\" label-module=\"para\"><b>WI</b></div>\n",
    "</td><td width=\"155\" align=\"left\" valign=\"middle\"><div class=\"para\" label-module=\"para\">Wisconsin</div>\n",
    "</td><td width=\"134\" align=\"left\" valign=\"middle\"><div class=\"para\" label-module=\"para\"><a target=\"_blank\" href=\"/item/%E5%A8%81%E6%96%AF%E5%BA%B7%E6%98%9F%E5%B7%9E/7052558\" data-lemmaid=\"7052558\">威斯康星州</a></div>\n",
    "</td><td width=\"152\" align=\"left\" valign=\"middle\"><div class=\"para\" label-module=\"para\"><a target=\"_blank\" href=\"/item/%E9%BA%A6%E8%BF%AA%E9%80%8A/3692324\" data-lemmaid=\"3692324\">麦迪逊</a></div>\n",
    "</td><td width=\"146\" align=\"left\" valign=\"middle\"><div class=\"para\" label-module=\"para\">Madison</div>\n",
    "</td></tr><tr><td width=\"70\" align=\"left\" valign=\"middle\"><div class=\"para\" label-module=\"para\"><b>WY</b></div>\n",
    "</td><td width=\"155\" align=\"left\" valign=\"middle\"><div class=\"para\" label-module=\"para\">Wyoming</div>\n",
    "</td><td width=\"134\" align=\"left\" valign=\"middle\"><div class=\"para\" label-module=\"para\"><a target=\"_blank\" href=\"/item/%E6%80%80%E4%BF%84%E6%98%8E%E5%B7%9E/3439543\" data-lemmaid=\"3439543\">怀俄明州</a></div>\n",
    "</td><td width=\"152\" align=\"left\" valign=\"middle\"><div class=\"para\" label-module=\"para\"><a target=\"_blank\" href=\"/item/%E5%A4%8F%E5%BB%B6/1167577\" data-lemmaid=\"1167577\">夏延</a></div>\n",
    "</td><td width=\"146\" align=\"left\" valign=\"middle\"><div class=\"para\" label-module=\"para\">Cheyenne</div>\n",
    "</td></tr></tbody></table>'''"
   ]
  },
  {
   "cell_type": "code",
   "execution_count": 18,
   "metadata": {},
   "outputs": [
    {
     "output_type": "stream",
     "name": "stdout",
     "text": "50 50 50\n"
    }
   ],
   "source": [
    "import re\n",
    "agg = re.findall(r'<b>([^<]*)</b>', usa_states)\n",
    "full = re.findall(r'label-module=\"para\">([^<]*)</div>', usa_states)\n",
    "full = [full[2*i] for i in range(50)]\n",
    "zh = re.findall(r'>([^<]*)</a>', usa_states)\n",
    "zh = [zh[2*i] for i in range(50)]\n",
    "print(len(agg), len(full), len(zh))"
   ]
  },
  {
   "cell_type": "code",
   "execution_count": 19,
   "metadata": {},
   "outputs": [],
   "source": [
    "states = dict(zip(agg, [[full[i], zh[i]] for i in range(50)]))"
   ]
  },
  {
   "cell_type": "code",
   "execution_count": 20,
   "metadata": {},
   "outputs": [
    {
     "output_type": "execute_result",
     "data": {
      "text/plain": "{'AL': ['Alabama', '亚拉巴马州'],\n 'AK': ['Alaska', '阿拉斯加州'],\n 'AZ': ['Arizona', '亚利桑那州'],\n 'AR': ['Arkansas', '阿肯色州'],\n 'CA': ['California', '加利福尼亚州'],\n 'CO': ['Colorado', '科罗拉多州'],\n 'CT': ['Connecticut', '康涅狄格州'],\n 'DE': ['Delaware', '特拉华州'],\n 'FL': ['Florida', '佛罗里达州'],\n 'GA': ['Georgia', '佐治亚州'],\n 'HI': ['Hawaii', '夏威夷州'],\n 'ID': ['Idaho', '爱达荷州'],\n 'IL': ['Illinois', '伊利诺伊州'],\n 'IN': ['Indiana', '印第安纳州'],\n 'IA': ['Iowa', '艾奥瓦州'],\n 'KS': ['Kansas', '堪萨斯州'],\n 'KY': ['Kentucky', '肯塔基州'],\n 'LA': ['Louisiana', '路易斯安那州'],\n 'ME': ['Maine', '缅因州'],\n 'MD': ['Maryland', '马里兰州'],\n 'MA': ['Massachusetts', '马萨诸塞州'],\n 'MI': ['Michigan', '密歇根州'],\n 'MN': ['Minnesota', '明尼苏达州'],\n 'MS': ['Mississippi', '密西西比州'],\n 'MO': ['Missouri', '密苏里州'],\n 'MT': ['Montana', '蒙大拿州'],\n 'NE': ['Nebraska', '内布拉斯加州'],\n 'NV': ['Nevada', '内华达州'],\n 'NH': ['New Hampshire', '新罕布什尔州'],\n 'NJ': ['New Jersey', '新泽西州'],\n 'NM': ['New Mexico', '新墨西哥州'],\n 'NY': ['New York', '纽约州'],\n 'NC': ['North Carolina', '北卡罗来纳州'],\n 'ND': ['North Dakota', '北达科他州'],\n 'OH': ['Ohio', '俄亥俄州'],\n 'OK': ['Oklahoma', '俄克拉何马州'],\n 'OR': ['Oregon', '俄勒冈州'],\n 'PA': ['Pennsylvania', '宾夕法尼亚州'],\n 'RI': ['Rhode Island', '罗得岛州'],\n 'SC': ['South Carolina', '南卡罗来纳州'],\n 'SD': ['South Dakota', '南达科他州'],\n 'TN': ['Tennessee', '田纳西州'],\n 'TX': ['Texas', '得克萨斯州'],\n 'UT': ['Utah', '犹他州'],\n 'VT': ['Vermont', '佛蒙特州'],\n 'VA': ['Virginia', '弗吉尼亚州'],\n 'WA': ['Washington', '华盛顿州'],\n 'WV': ['West Virginia', '西弗吉尼亚州'],\n 'WI': ['Wisconsin', '威斯康星州'],\n 'WY': ['Wyoming', '怀俄明州']}"
     },
     "metadata": {},
     "execution_count": 20
    }
   ],
   "source": [
    "states"
   ]
  },
  {
   "cell_type": "code",
   "execution_count": null,
   "metadata": {},
   "outputs": [],
   "source": []
  }
 ],
 "metadata": {
  "kernelspec": {
   "display_name": "Python 3",
   "language": "python",
   "name": "python3"
  },
  "language_info": {
   "codemirror_mode": {
    "name": "ipython",
    "version": 3
   },
   "file_extension": ".py",
   "mimetype": "text/x-python",
   "name": "python",
   "nbconvert_exporter": "python",
   "pygments_lexer": "ipython3",
   "version": "3.7.7-final"
  }
 },
 "nbformat": 4,
 "nbformat_minor": 4
}